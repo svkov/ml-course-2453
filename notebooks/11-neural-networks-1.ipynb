{
 "cells": [
  {
   "cell_type": "code",
   "execution_count": 5,
   "metadata": {
    "executionInfo": {
     "elapsed": 957,
     "status": "ok",
     "timestamp": 1637395543308,
     "user": {
      "displayName": "Святослав Ковалев",
      "photoUrl": "https://lh3.googleusercontent.com/a-/AOh14GiEo6uPSihsjHnpbADaIWFahVInjjkZWI6g2J1WnA=s64",
      "userId": "12477434656558976325"
     },
     "user_tz": -180
    },
    "id": "K12MPvLBJnBH"
   },
   "outputs": [],
   "source": [
    "import pandas as pd\n",
    "import numpy as np\n",
    "import matplotlib.pyplot as plt\n",
    "import tensorflow as tf\n",
    "\n",
    "from tensorflow.keras import Sequential\n",
    "from tensorflow.keras.layers import Dense, Dropout\n",
    "from tensorflow.keras.metrics import categorical_crossentropy, categorical_accuracy\n",
    "from tensorflow.keras.optimizers import SGD\n",
    "from tensorflow.keras.utils import to_categorical\n",
    "\n",
    "from sklearn.model_selection import train_test_split"
   ]
  },
  {
   "cell_type": "code",
   "execution_count": 6,
   "metadata": {},
   "outputs": [
    {
     "data": {
      "text/plain": [
       "[]"
      ]
     },
     "execution_count": 6,
     "metadata": {},
     "output_type": "execute_result"
    }
   ],
   "source": [
    "tf.config.list_physical_devices('GPU')"
   ]
  },
  {
   "cell_type": "markdown",
   "metadata": {
    "id": "kZWr6h_PGLhT"
   },
   "source": [
    "# Нейронные сети\n",
    "\n",
    "Нейронные сети - очень широкая тема. В курсе представлен краткий обзор основных подходов и инструментов, которые чаще всего используются на практике.\n",
    "\n",
    "Будем использовать Keras с бэкендом на tensorflow.\n",
    "\n",
    "[Тут](https://keras.io/examples/) есть очень много примеров для разных задач.\n",
    "\n",
    "Также в keras/tf есть возможность самому написать алгоритм обучение и получения предсказания для сети. Этот материал выходит за рамки нашего курса, но при желании можно ознакомиться, например, [здесь](https://keras.io/guides/customizing_what_happens_in_fit/)."
   ]
  },
  {
   "cell_type": "markdown",
   "metadata": {
    "id": "-KCs6wLVvzDr"
   },
   "source": [
    "## Основы\n",
    "\n",
    "Единица вычисления в нейросети - нейрон. \n",
    "\n",
    "Нейрон принимает на вход вектор, считает взвешенную сумму элементов, применяет функцию активации (например, сигмоидальную, как в логистической регресси) и отдает результат следующему нейрону.\n",
    "\n",
    "Нейроны обычно организуют в слои. Пример на картинке ниже\n",
    "\n",
    "![pic](https://drive.google.com/uc?export=view&id=1iVfZSWU1qjIZOFZpR33YoJ6w-0pBFMUj)\n",
    "\n",
    "В любой нейросети есть входной, скрытый и выходной слой. Скрытых слоев может быть очень много.\n",
    "\n",
    "Каждая связь описывается весом. Переход от одного слоя к другому происходит через умножение матриц и применение функции активации к результату.\n",
    "\n",
    "Если мы хотим получить прогноз по вектору значений, то мы последовательно проводим вектор через все слои и на выходе получаем нужное значение.\n",
    "\n",
    "Процесс подбора параметров - обучение нейросети.\n",
    "\n",
    "Для обучения сети обычно применяют метод обратного распространения ошибки. Основная идея в том, что мы движемся от последнего слоя к первому и изменяем веса каждого слоя так, чтобы общая ошибка уменьшилась.\n",
    "\n",
    "## Функции активации\n",
    "\n",
    "Обычно используют следующие функции активации:\n",
    "\n",
    "- сигмоидальную (как в логистической регрессии)\n",
    "- гиперболический тангенс\n",
    "- ReLU\n",
    "- линейная функция\n",
    "- пороговая функция"
   ]
  },
  {
   "cell_type": "markdown",
   "metadata": {
    "id": "NQtgfSHY4Bjq"
   },
   "source": [
    "## Как проходит обучение\n",
    "\n",
    "Допустим, у нас было 10к фотографий.\n",
    "\n",
    "Данные делят на тренировочную и тестовую выборку. Для обучения используют тренировочную выборку, а тестовую выборку откладывают. Мы взяли для обучения 8к фотографий и отложили оставшиеся 2к.\n",
    "\n",
    "Тренировочную выборку делят на батчи (например, по 10 записей) и для каждого батча запускают алгоритм оптимизации (например, SGD). Таким образом, мы разбиваем данные на 800 кусочков и столько раз прогоняем SGD. Это называется эпохой обучения. Чтобы посчитать ошибку используют лосс-функцию. Для задач классификации обычно используют [кросс-энтропию](https://ru.wikipedia.org/wiki/%D0%9F%D0%B5%D1%80%D0%B5%D0%BA%D1%80%D1%91%D1%81%D1%82%D0%BD%D0%B0%D1%8F_%D1%8D%D0%BD%D1%82%D1%80%D0%BE%D0%BF%D0%B8%D1%8F).\n",
    "\n",
    "Затем мы можем по-другому разбить на батчи и запустить новую эпоху обучения.\n",
    "\n",
    "Изменения весов, полученные от разных батчей, можно считать параллельно, поэтому обучение на GPU проходит гораздо быстрее, чем обучение на CPU."
   ]
  },
  {
   "cell_type": "markdown",
   "metadata": {
    "id": "fx7m3Z7sDhSk"
   },
   "source": [
    "Прочитаем данные, разобьем на треин и тест, построим модель"
   ]
  },
  {
   "cell_type": "code",
   "execution_count": 3,
   "metadata": {
    "colab": {
     "base_uri": "https://localhost:8080/",
     "height": 256
    },
    "executionInfo": {
     "elapsed": 2173,
     "status": "ok",
     "timestamp": 1637395557445,
     "user": {
      "displayName": "Святослав Ковалев",
      "photoUrl": "https://lh3.googleusercontent.com/a-/AOh14GiEo6uPSihsjHnpbADaIWFahVInjjkZWI6g2J1WnA=s64",
      "userId": "12477434656558976325"
     },
     "user_tz": -180
    },
    "id": "Erb_d-AiJz5G",
    "outputId": "e1354ff3-ecde-4255-9a30-3b372f215d8b"
   },
   "outputs": [
    {
     "data": {
      "text/html": [
       "<div>\n",
       "<style scoped>\n",
       "    .dataframe tbody tr th:only-of-type {\n",
       "        vertical-align: middle;\n",
       "    }\n",
       "\n",
       "    .dataframe tbody tr th {\n",
       "        vertical-align: top;\n",
       "    }\n",
       "\n",
       "    .dataframe thead th {\n",
       "        text-align: right;\n",
       "    }\n",
       "</style>\n",
       "<table border=\"1\" class=\"dataframe\">\n",
       "  <thead>\n",
       "    <tr style=\"text-align: right;\">\n",
       "      <th></th>\n",
       "      <th>0</th>\n",
       "      <th>1</th>\n",
       "      <th>2</th>\n",
       "      <th>3</th>\n",
       "      <th>4</th>\n",
       "      <th>5</th>\n",
       "      <th>6</th>\n",
       "      <th>7</th>\n",
       "      <th>8</th>\n",
       "      <th>9</th>\n",
       "      <th>10</th>\n",
       "      <th>11</th>\n",
       "      <th>12</th>\n",
       "      <th>13</th>\n",
       "      <th>14</th>\n",
       "      <th>15</th>\n",
       "      <th>16</th>\n",
       "      <th>17</th>\n",
       "      <th>18</th>\n",
       "      <th>19</th>\n",
       "      <th>20</th>\n",
       "      <th>21</th>\n",
       "      <th>22</th>\n",
       "      <th>23</th>\n",
       "      <th>24</th>\n",
       "      <th>25</th>\n",
       "      <th>26</th>\n",
       "      <th>27</th>\n",
       "      <th>28</th>\n",
       "      <th>29</th>\n",
       "      <th>30</th>\n",
       "      <th>31</th>\n",
       "      <th>32</th>\n",
       "      <th>33</th>\n",
       "      <th>34</th>\n",
       "      <th>35</th>\n",
       "      <th>36</th>\n",
       "      <th>37</th>\n",
       "      <th>38</th>\n",
       "      <th>39</th>\n",
       "      <th>...</th>\n",
       "      <th>745</th>\n",
       "      <th>746</th>\n",
       "      <th>747</th>\n",
       "      <th>748</th>\n",
       "      <th>749</th>\n",
       "      <th>750</th>\n",
       "      <th>751</th>\n",
       "      <th>752</th>\n",
       "      <th>753</th>\n",
       "      <th>754</th>\n",
       "      <th>755</th>\n",
       "      <th>756</th>\n",
       "      <th>757</th>\n",
       "      <th>758</th>\n",
       "      <th>759</th>\n",
       "      <th>760</th>\n",
       "      <th>761</th>\n",
       "      <th>762</th>\n",
       "      <th>763</th>\n",
       "      <th>764</th>\n",
       "      <th>765</th>\n",
       "      <th>766</th>\n",
       "      <th>767</th>\n",
       "      <th>768</th>\n",
       "      <th>769</th>\n",
       "      <th>770</th>\n",
       "      <th>771</th>\n",
       "      <th>772</th>\n",
       "      <th>773</th>\n",
       "      <th>774</th>\n",
       "      <th>775</th>\n",
       "      <th>776</th>\n",
       "      <th>777</th>\n",
       "      <th>778</th>\n",
       "      <th>779</th>\n",
       "      <th>780</th>\n",
       "      <th>781</th>\n",
       "      <th>782</th>\n",
       "      <th>783</th>\n",
       "      <th>784</th>\n",
       "    </tr>\n",
       "  </thead>\n",
       "  <tbody>\n",
       "    <tr>\n",
       "      <th>0</th>\n",
       "      <td>6</td>\n",
       "      <td>0</td>\n",
       "      <td>0</td>\n",
       "      <td>0</td>\n",
       "      <td>0</td>\n",
       "      <td>0</td>\n",
       "      <td>0</td>\n",
       "      <td>0</td>\n",
       "      <td>0</td>\n",
       "      <td>0</td>\n",
       "      <td>0</td>\n",
       "      <td>0</td>\n",
       "      <td>0</td>\n",
       "      <td>0</td>\n",
       "      <td>0</td>\n",
       "      <td>0</td>\n",
       "      <td>0</td>\n",
       "      <td>0</td>\n",
       "      <td>0</td>\n",
       "      <td>0</td>\n",
       "      <td>0</td>\n",
       "      <td>0</td>\n",
       "      <td>0</td>\n",
       "      <td>0</td>\n",
       "      <td>0</td>\n",
       "      <td>0</td>\n",
       "      <td>0</td>\n",
       "      <td>0</td>\n",
       "      <td>0</td>\n",
       "      <td>0</td>\n",
       "      <td>0</td>\n",
       "      <td>0</td>\n",
       "      <td>0</td>\n",
       "      <td>0</td>\n",
       "      <td>0</td>\n",
       "      <td>0</td>\n",
       "      <td>0</td>\n",
       "      <td>0</td>\n",
       "      <td>0</td>\n",
       "      <td>0</td>\n",
       "      <td>...</td>\n",
       "      <td>0</td>\n",
       "      <td>0</td>\n",
       "      <td>0</td>\n",
       "      <td>0</td>\n",
       "      <td>0</td>\n",
       "      <td>0</td>\n",
       "      <td>0</td>\n",
       "      <td>0</td>\n",
       "      <td>0</td>\n",
       "      <td>0</td>\n",
       "      <td>0</td>\n",
       "      <td>0</td>\n",
       "      <td>0</td>\n",
       "      <td>0</td>\n",
       "      <td>0</td>\n",
       "      <td>0</td>\n",
       "      <td>0</td>\n",
       "      <td>0</td>\n",
       "      <td>0</td>\n",
       "      <td>0</td>\n",
       "      <td>0</td>\n",
       "      <td>0</td>\n",
       "      <td>0</td>\n",
       "      <td>0</td>\n",
       "      <td>0</td>\n",
       "      <td>0</td>\n",
       "      <td>0</td>\n",
       "      <td>0</td>\n",
       "      <td>0</td>\n",
       "      <td>0</td>\n",
       "      <td>0</td>\n",
       "      <td>0</td>\n",
       "      <td>0</td>\n",
       "      <td>0</td>\n",
       "      <td>0</td>\n",
       "      <td>0</td>\n",
       "      <td>0</td>\n",
       "      <td>0</td>\n",
       "      <td>0</td>\n",
       "      <td>0</td>\n",
       "    </tr>\n",
       "    <tr>\n",
       "      <th>1</th>\n",
       "      <td>5</td>\n",
       "      <td>0</td>\n",
       "      <td>0</td>\n",
       "      <td>0</td>\n",
       "      <td>0</td>\n",
       "      <td>0</td>\n",
       "      <td>0</td>\n",
       "      <td>0</td>\n",
       "      <td>0</td>\n",
       "      <td>0</td>\n",
       "      <td>0</td>\n",
       "      <td>0</td>\n",
       "      <td>0</td>\n",
       "      <td>0</td>\n",
       "      <td>0</td>\n",
       "      <td>0</td>\n",
       "      <td>0</td>\n",
       "      <td>0</td>\n",
       "      <td>0</td>\n",
       "      <td>0</td>\n",
       "      <td>0</td>\n",
       "      <td>0</td>\n",
       "      <td>0</td>\n",
       "      <td>0</td>\n",
       "      <td>0</td>\n",
       "      <td>0</td>\n",
       "      <td>0</td>\n",
       "      <td>0</td>\n",
       "      <td>0</td>\n",
       "      <td>0</td>\n",
       "      <td>0</td>\n",
       "      <td>0</td>\n",
       "      <td>0</td>\n",
       "      <td>0</td>\n",
       "      <td>0</td>\n",
       "      <td>0</td>\n",
       "      <td>0</td>\n",
       "      <td>0</td>\n",
       "      <td>0</td>\n",
       "      <td>0</td>\n",
       "      <td>...</td>\n",
       "      <td>0</td>\n",
       "      <td>0</td>\n",
       "      <td>0</td>\n",
       "      <td>0</td>\n",
       "      <td>0</td>\n",
       "      <td>0</td>\n",
       "      <td>0</td>\n",
       "      <td>0</td>\n",
       "      <td>0</td>\n",
       "      <td>0</td>\n",
       "      <td>0</td>\n",
       "      <td>0</td>\n",
       "      <td>0</td>\n",
       "      <td>0</td>\n",
       "      <td>0</td>\n",
       "      <td>0</td>\n",
       "      <td>0</td>\n",
       "      <td>0</td>\n",
       "      <td>0</td>\n",
       "      <td>0</td>\n",
       "      <td>0</td>\n",
       "      <td>0</td>\n",
       "      <td>0</td>\n",
       "      <td>0</td>\n",
       "      <td>0</td>\n",
       "      <td>0</td>\n",
       "      <td>0</td>\n",
       "      <td>0</td>\n",
       "      <td>0</td>\n",
       "      <td>0</td>\n",
       "      <td>0</td>\n",
       "      <td>0</td>\n",
       "      <td>0</td>\n",
       "      <td>0</td>\n",
       "      <td>0</td>\n",
       "      <td>0</td>\n",
       "      <td>0</td>\n",
       "      <td>0</td>\n",
       "      <td>0</td>\n",
       "      <td>0</td>\n",
       "    </tr>\n",
       "    <tr>\n",
       "      <th>2</th>\n",
       "      <td>7</td>\n",
       "      <td>0</td>\n",
       "      <td>0</td>\n",
       "      <td>0</td>\n",
       "      <td>0</td>\n",
       "      <td>0</td>\n",
       "      <td>0</td>\n",
       "      <td>0</td>\n",
       "      <td>0</td>\n",
       "      <td>0</td>\n",
       "      <td>0</td>\n",
       "      <td>0</td>\n",
       "      <td>0</td>\n",
       "      <td>0</td>\n",
       "      <td>0</td>\n",
       "      <td>0</td>\n",
       "      <td>0</td>\n",
       "      <td>0</td>\n",
       "      <td>0</td>\n",
       "      <td>0</td>\n",
       "      <td>0</td>\n",
       "      <td>0</td>\n",
       "      <td>0</td>\n",
       "      <td>0</td>\n",
       "      <td>0</td>\n",
       "      <td>0</td>\n",
       "      <td>0</td>\n",
       "      <td>0</td>\n",
       "      <td>0</td>\n",
       "      <td>0</td>\n",
       "      <td>0</td>\n",
       "      <td>0</td>\n",
       "      <td>0</td>\n",
       "      <td>0</td>\n",
       "      <td>0</td>\n",
       "      <td>0</td>\n",
       "      <td>0</td>\n",
       "      <td>0</td>\n",
       "      <td>0</td>\n",
       "      <td>0</td>\n",
       "      <td>...</td>\n",
       "      <td>0</td>\n",
       "      <td>0</td>\n",
       "      <td>0</td>\n",
       "      <td>0</td>\n",
       "      <td>0</td>\n",
       "      <td>0</td>\n",
       "      <td>0</td>\n",
       "      <td>0</td>\n",
       "      <td>0</td>\n",
       "      <td>0</td>\n",
       "      <td>0</td>\n",
       "      <td>0</td>\n",
       "      <td>0</td>\n",
       "      <td>0</td>\n",
       "      <td>0</td>\n",
       "      <td>0</td>\n",
       "      <td>0</td>\n",
       "      <td>0</td>\n",
       "      <td>0</td>\n",
       "      <td>0</td>\n",
       "      <td>0</td>\n",
       "      <td>0</td>\n",
       "      <td>0</td>\n",
       "      <td>0</td>\n",
       "      <td>0</td>\n",
       "      <td>0</td>\n",
       "      <td>0</td>\n",
       "      <td>0</td>\n",
       "      <td>0</td>\n",
       "      <td>0</td>\n",
       "      <td>0</td>\n",
       "      <td>0</td>\n",
       "      <td>0</td>\n",
       "      <td>0</td>\n",
       "      <td>0</td>\n",
       "      <td>0</td>\n",
       "      <td>0</td>\n",
       "      <td>0</td>\n",
       "      <td>0</td>\n",
       "      <td>0</td>\n",
       "    </tr>\n",
       "    <tr>\n",
       "      <th>3</th>\n",
       "      <td>9</td>\n",
       "      <td>0</td>\n",
       "      <td>0</td>\n",
       "      <td>0</td>\n",
       "      <td>0</td>\n",
       "      <td>0</td>\n",
       "      <td>0</td>\n",
       "      <td>0</td>\n",
       "      <td>0</td>\n",
       "      <td>0</td>\n",
       "      <td>0</td>\n",
       "      <td>0</td>\n",
       "      <td>0</td>\n",
       "      <td>0</td>\n",
       "      <td>0</td>\n",
       "      <td>0</td>\n",
       "      <td>0</td>\n",
       "      <td>0</td>\n",
       "      <td>0</td>\n",
       "      <td>0</td>\n",
       "      <td>0</td>\n",
       "      <td>0</td>\n",
       "      <td>0</td>\n",
       "      <td>0</td>\n",
       "      <td>0</td>\n",
       "      <td>0</td>\n",
       "      <td>0</td>\n",
       "      <td>0</td>\n",
       "      <td>0</td>\n",
       "      <td>0</td>\n",
       "      <td>0</td>\n",
       "      <td>0</td>\n",
       "      <td>0</td>\n",
       "      <td>0</td>\n",
       "      <td>0</td>\n",
       "      <td>0</td>\n",
       "      <td>0</td>\n",
       "      <td>0</td>\n",
       "      <td>0</td>\n",
       "      <td>0</td>\n",
       "      <td>...</td>\n",
       "      <td>15</td>\n",
       "      <td>0</td>\n",
       "      <td>0</td>\n",
       "      <td>0</td>\n",
       "      <td>0</td>\n",
       "      <td>0</td>\n",
       "      <td>0</td>\n",
       "      <td>0</td>\n",
       "      <td>0</td>\n",
       "      <td>0</td>\n",
       "      <td>0</td>\n",
       "      <td>0</td>\n",
       "      <td>0</td>\n",
       "      <td>0</td>\n",
       "      <td>0</td>\n",
       "      <td>0</td>\n",
       "      <td>0</td>\n",
       "      <td>0</td>\n",
       "      <td>0</td>\n",
       "      <td>0</td>\n",
       "      <td>0</td>\n",
       "      <td>0</td>\n",
       "      <td>0</td>\n",
       "      <td>0</td>\n",
       "      <td>0</td>\n",
       "      <td>0</td>\n",
       "      <td>0</td>\n",
       "      <td>0</td>\n",
       "      <td>0</td>\n",
       "      <td>0</td>\n",
       "      <td>0</td>\n",
       "      <td>0</td>\n",
       "      <td>0</td>\n",
       "      <td>0</td>\n",
       "      <td>0</td>\n",
       "      <td>0</td>\n",
       "      <td>0</td>\n",
       "      <td>0</td>\n",
       "      <td>0</td>\n",
       "      <td>0</td>\n",
       "    </tr>\n",
       "    <tr>\n",
       "      <th>4</th>\n",
       "      <td>5</td>\n",
       "      <td>0</td>\n",
       "      <td>0</td>\n",
       "      <td>0</td>\n",
       "      <td>0</td>\n",
       "      <td>0</td>\n",
       "      <td>0</td>\n",
       "      <td>0</td>\n",
       "      <td>0</td>\n",
       "      <td>0</td>\n",
       "      <td>0</td>\n",
       "      <td>0</td>\n",
       "      <td>0</td>\n",
       "      <td>0</td>\n",
       "      <td>0</td>\n",
       "      <td>0</td>\n",
       "      <td>0</td>\n",
       "      <td>0</td>\n",
       "      <td>0</td>\n",
       "      <td>0</td>\n",
       "      <td>0</td>\n",
       "      <td>0</td>\n",
       "      <td>0</td>\n",
       "      <td>0</td>\n",
       "      <td>0</td>\n",
       "      <td>0</td>\n",
       "      <td>0</td>\n",
       "      <td>0</td>\n",
       "      <td>0</td>\n",
       "      <td>0</td>\n",
       "      <td>0</td>\n",
       "      <td>0</td>\n",
       "      <td>0</td>\n",
       "      <td>0</td>\n",
       "      <td>0</td>\n",
       "      <td>0</td>\n",
       "      <td>0</td>\n",
       "      <td>0</td>\n",
       "      <td>0</td>\n",
       "      <td>0</td>\n",
       "      <td>...</td>\n",
       "      <td>0</td>\n",
       "      <td>0</td>\n",
       "      <td>0</td>\n",
       "      <td>0</td>\n",
       "      <td>0</td>\n",
       "      <td>0</td>\n",
       "      <td>0</td>\n",
       "      <td>0</td>\n",
       "      <td>0</td>\n",
       "      <td>0</td>\n",
       "      <td>0</td>\n",
       "      <td>0</td>\n",
       "      <td>0</td>\n",
       "      <td>0</td>\n",
       "      <td>0</td>\n",
       "      <td>0</td>\n",
       "      <td>0</td>\n",
       "      <td>0</td>\n",
       "      <td>0</td>\n",
       "      <td>0</td>\n",
       "      <td>0</td>\n",
       "      <td>0</td>\n",
       "      <td>0</td>\n",
       "      <td>0</td>\n",
       "      <td>0</td>\n",
       "      <td>0</td>\n",
       "      <td>0</td>\n",
       "      <td>0</td>\n",
       "      <td>0</td>\n",
       "      <td>0</td>\n",
       "      <td>0</td>\n",
       "      <td>0</td>\n",
       "      <td>0</td>\n",
       "      <td>0</td>\n",
       "      <td>0</td>\n",
       "      <td>0</td>\n",
       "      <td>0</td>\n",
       "      <td>0</td>\n",
       "      <td>0</td>\n",
       "      <td>0</td>\n",
       "    </tr>\n",
       "  </tbody>\n",
       "</table>\n",
       "<p>5 rows × 785 columns</p>\n",
       "</div>"
      ],
      "text/plain": [
       "   0    1    2    3    4    5    6    ...  778  779  780  781  782  783  784\n",
       "0    6    0    0    0    0    0    0  ...    0    0    0    0    0    0    0\n",
       "1    5    0    0    0    0    0    0  ...    0    0    0    0    0    0    0\n",
       "2    7    0    0    0    0    0    0  ...    0    0    0    0    0    0    0\n",
       "3    9    0    0    0    0    0    0  ...    0    0    0    0    0    0    0\n",
       "4    5    0    0    0    0    0    0  ...    0    0    0    0    0    0    0\n",
       "\n",
       "[5 rows x 785 columns]"
      ]
     },
     "execution_count": 3,
     "metadata": {},
     "output_type": "execute_result"
    }
   ],
   "source": [
    "df = pd.read_csv('sample_data/mnist_train_small.csv', header=None)\n",
    "df.head()"
   ]
  },
  {
   "cell_type": "code",
   "execution_count": 4,
   "metadata": {
    "executionInfo": {
     "elapsed": 903,
     "status": "ok",
     "timestamp": 1637395569592,
     "user": {
      "displayName": "Святослав Ковалев",
      "photoUrl": "https://lh3.googleusercontent.com/a-/AOh14GiEo6uPSihsjHnpbADaIWFahVInjjkZWI6g2J1WnA=s64",
      "userId": "12477434656558976325"
     },
     "user_tz": -180
    },
    "id": "pfCFDamgKdz1"
   },
   "outputs": [],
   "source": [
    "X = df.iloc[:, 1:]\n",
    "X = X / X.max().max()\n",
    "y = to_categorical(df.iloc[:, 0], num_classes=10)"
   ]
  },
  {
   "cell_type": "code",
   "execution_count": 9,
   "metadata": {
    "colab": {
     "base_uri": "https://localhost:8080/"
    },
    "executionInfo": {
     "elapsed": 304,
     "status": "ok",
     "timestamp": 1637395642555,
     "user": {
      "displayName": "Святослав Ковалев",
      "photoUrl": "https://lh3.googleusercontent.com/a-/AOh14GiEo6uPSihsjHnpbADaIWFahVInjjkZWI6g2J1WnA=s64",
      "userId": "12477434656558976325"
     },
     "user_tz": -180
    },
    "id": "j7GtYVghYnvi",
    "outputId": "78a6ee98-60a1-4030-adb8-acd4b102a91a"
   },
   "outputs": [
    {
     "data": {
      "text/plain": [
       "(20000, 784)"
      ]
     },
     "execution_count": 9,
     "metadata": {},
     "output_type": "execute_result"
    }
   ],
   "source": [
    "X.shape"
   ]
  },
  {
   "cell_type": "code",
   "execution_count": 10,
   "metadata": {
    "executionInfo": {
     "elapsed": 306,
     "status": "ok",
     "timestamp": 1637395652240,
     "user": {
      "displayName": "Святослав Ковалев",
      "photoUrl": "https://lh3.googleusercontent.com/a-/AOh14GiEo6uPSihsjHnpbADaIWFahVInjjkZWI6g2J1WnA=s64",
      "userId": "12477434656558976325"
     },
     "user_tz": -180
    },
    "id": "6c4M9r5oBZv6"
   },
   "outputs": [],
   "source": [
    "x_train, x_test, y_train, y_test = train_test_split(X, y)"
   ]
  },
  {
   "cell_type": "code",
   "execution_count": 13,
   "metadata": {
    "colab": {
     "base_uri": "https://localhost:8080/",
     "height": 282
    },
    "executionInfo": {
     "elapsed": 343,
     "status": "ok",
     "timestamp": 1637395670153,
     "user": {
      "displayName": "Святослав Ковалев",
      "photoUrl": "https://lh3.googleusercontent.com/a-/AOh14GiEo6uPSihsjHnpbADaIWFahVInjjkZWI6g2J1WnA=s64",
      "userId": "12477434656558976325"
     },
     "user_tz": -180
    },
    "id": "3hUUVJ1bJ53E",
    "outputId": "4cd21aed-d3a8-431b-fbb2-994f272da874"
   },
   "outputs": [
    {
     "data": {
      "text/plain": [
       "<matplotlib.image.AxesImage at 0x7f6f657d3dd0>"
      ]
     },
     "execution_count": 13,
     "metadata": {},
     "output_type": "execute_result"
    },
    {
     "data": {
      "image/png": "[encoded data removed]",
      "text/plain": [
       "<Figure size 432x288 with 1 Axes>"
      ]
     },
     "metadata": {
      "needs_background": "light"
     },
     "output_type": "display_data"
    }
   ],
   "source": [
    "plt.imshow(X.iloc[0].values.reshape(28, 28))"
   ]
  },
  {
   "cell_type": "code",
   "execution_count": 16,
   "metadata": {
    "colab": {
     "base_uri": "https://localhost:8080/"
    },
    "executionInfo": {
     "elapsed": 406,
     "status": "ok",
     "timestamp": 1637395812579,
     "user": {
      "displayName": "Святослав Ковалев",
      "photoUrl": "https://lh3.googleusercontent.com/a-/AOh14GiEo6uPSihsjHnpbADaIWFahVInjjkZWI6g2J1WnA=s64",
      "userId": "12477434656558976325"
     },
     "user_tz": -180
    },
    "id": "WLji6UvXZUIx",
    "outputId": "0a0e7045-0dba-4706-8cd4-22bdcc5497c9"
   },
   "outputs": [
    {
     "data": {
      "text/plain": [
       "array([0., 0., 0., 0., 0., 0., 1., 0., 0., 0.], dtype=float32)"
      ]
     },
     "execution_count": 16,
     "metadata": {},
     "output_type": "execute_result"
    }
   ],
   "source": [
    " y[0]"
   ]
  },
  {
   "cell_type": "markdown",
   "metadata": {
    "id": "_PwO2XQjDlkB"
   },
   "source": [
    "Построим многослойный перцептрон. Оптимизировать будем при помощи SGD, в качестве лосс-функции будем использовать кроссэнтропию, также будем считать accuracy"
   ]
  },
  {
   "cell_type": "code",
   "execution_count": 17,
   "metadata": {
    "executionInfo": {
     "elapsed": 742,
     "status": "ok",
     "timestamp": 1637395904536,
     "user": {
      "displayName": "Святослав Ковалев",
      "photoUrl": "https://lh3.googleusercontent.com/a-/AOh14GiEo6uPSihsjHnpbADaIWFahVInjjkZWI6g2J1WnA=s64",
      "userId": "12477434656558976325"
     },
     "user_tz": -180
    },
    "id": "YLISc8hNKnnb"
   },
   "outputs": [],
   "source": [
    "model = Sequential(\n",
    "    [\n",
    "     Dense(16, input_shape=(X.shape[1],), activation='sigmoid'),\n",
    "     Dense(16, activation='relu'),\n",
    "     Dense(10, activation='softmax')\n",
    "    ]\n",
    ")\n",
    "model.compile(optimizer=SGD(clipnorm=1), loss=categorical_crossentropy, metrics=[categorical_accuracy])\n"
   ]
  },
  {
   "cell_type": "code",
   "execution_count": 18,
   "metadata": {
    "colab": {
     "base_uri": "https://localhost:8080/"
    },
    "executionInfo": {
     "elapsed": 312,
     "status": "ok",
     "timestamp": 1637395906175,
     "user": {
      "displayName": "Святослав Ковалев",
      "photoUrl": "https://lh3.googleusercontent.com/a-/AOh14GiEo6uPSihsjHnpbADaIWFahVInjjkZWI6g2J1WnA=s64",
      "userId": "12477434656558976325"
     },
     "user_tz": -180
    },
    "id": "JTJBteW-9pfp",
    "outputId": "9e44b42d-6de6-497c-f735-1d48b72731eb"
   },
   "outputs": [
    {
     "name": "stdout",
     "output_type": "stream",
     "text": [
      "Model: \"sequential\"\n",
      "_________________________________________________________________\n",
      " Layer (type)                Output Shape              Param #   \n",
      "=================================================================\n",
      " dense (Dense)               (None, 16)                12560     \n",
      "                                                                 \n",
      " dense_1 (Dense)             (None, 16)                272       \n",
      "                                                                 \n",
      " dense_2 (Dense)             (None, 10)                170       \n",
      "                                                                 \n",
      "=================================================================\n",
      "Total params: 13,002\n",
      "Trainable params: 13,002\n",
      "Non-trainable params: 0\n",
      "_________________________________________________________________\n"
     ]
    }
   ],
   "source": [
    "model.summary()"
   ]
  },
  {
   "cell_type": "markdown",
   "metadata": {
    "id": "7qzqpWwh3k8U"
   },
   "source": [
    "## Гиперпараметры сети\n",
    "\n",
    "- архитектура сети\n",
    "- параметры оптимизатора (learning rate и др.)\n",
    "- регуляризация\n",
    "- размер батча\n",
    "- количество эпох"
   ]
  },
  {
   "cell_type": "code",
   "execution_count": 19,
   "metadata": {
    "colab": {
     "base_uri": "https://localhost:8080/"
    },
    "executionInfo": {
     "elapsed": 26004,
     "status": "ok",
     "timestamp": 1637395973785,
     "user": {
      "displayName": "Святослав Ковалев",
      "photoUrl": "https://lh3.googleusercontent.com/a-/AOh14GiEo6uPSihsjHnpbADaIWFahVInjjkZWI6g2J1WnA=s64",
      "userId": "12477434656558976325"
     },
     "user_tz": -180
    },
    "id": "WeYgQvUd8Ibi",
    "outputId": "04f90fec-d943-4a8d-ab97-d629a5ea109d"
   },
   "outputs": [
    {
     "name": "stdout",
     "output_type": "stream",
     "text": [
      "Epoch 1/10\n",
      "1350/1350 [==============================] - 4s 2ms/step - loss: 2.0175 - categorical_accuracy: 0.3666 - val_loss: 1.5849 - val_categorical_accuracy: 0.5147\n",
      "Epoch 2/10\n",
      "1350/1350 [==============================] - 3s 2ms/step - loss: 1.2018 - categorical_accuracy: 0.6456 - val_loss: 0.8733 - val_categorical_accuracy: 0.7760\n",
      "Epoch 3/10\n",
      "1350/1350 [==============================] - 2s 2ms/step - loss: 0.7506 - categorical_accuracy: 0.8027 - val_loss: 0.5991 - val_categorical_accuracy: 0.8420\n",
      "Epoch 4/10\n",
      "1350/1350 [==============================] - 2s 2ms/step - loss: 0.5631 - categorical_accuracy: 0.8443 - val_loss: 0.4768 - val_categorical_accuracy: 0.8700\n",
      "Epoch 5/10\n",
      "1350/1350 [==============================] - 2s 2ms/step - loss: 0.4749 - categorical_accuracy: 0.8666 - val_loss: 0.4148 - val_categorical_accuracy: 0.8873\n",
      "Epoch 6/10\n",
      "1350/1350 [==============================] - 2s 2ms/step - loss: 0.4255 - categorical_accuracy: 0.8784 - val_loss: 0.3767 - val_categorical_accuracy: 0.8920\n",
      "Epoch 7/10\n",
      "1350/1350 [==============================] - 2s 2ms/step - loss: 0.3927 - categorical_accuracy: 0.8870 - val_loss: 0.3533 - val_categorical_accuracy: 0.8967\n",
      "Epoch 8/10\n",
      "1350/1350 [==============================] - 2s 2ms/step - loss: 0.3693 - categorical_accuracy: 0.8913 - val_loss: 0.3339 - val_categorical_accuracy: 0.9107\n",
      "Epoch 9/10\n",
      "1350/1350 [==============================] - 2s 2ms/step - loss: 0.3508 - categorical_accuracy: 0.8981 - val_loss: 0.3233 - val_categorical_accuracy: 0.9100\n",
      "Epoch 10/10\n",
      "1350/1350 [==============================] - 3s 2ms/step - loss: 0.3356 - categorical_accuracy: 0.9007 - val_loss: 0.3063 - val_categorical_accuracy: 0.9127\n"
     ]
    }
   ],
   "source": [
    "history = model.fit(x_train, y_train, batch_size=10, epochs=10, validation_split=0.1)"
   ]
  },
  {
   "cell_type": "code",
   "execution_count": 20,
   "metadata": {
    "colab": {
     "base_uri": "https://localhost:8080/"
    },
    "executionInfo": {
     "elapsed": 342,
     "status": "ok",
     "timestamp": 1637396062199,
     "user": {
      "displayName": "Святослав Ковалев",
      "photoUrl": "https://lh3.googleusercontent.com/a-/AOh14GiEo6uPSihsjHnpbADaIWFahVInjjkZWI6g2J1WnA=s64",
      "userId": "12477434656558976325"
     },
     "user_tz": -180
    },
    "id": "EJl26m6NG6Tp",
    "outputId": "0e356dc4-686a-4530-b51e-5cd086a091a4"
   },
   "outputs": [
    {
     "data": {
      "text/plain": [
       "dict_keys(['loss', 'categorical_accuracy', 'val_loss', 'val_categorical_accuracy'])"
      ]
     },
     "execution_count": 20,
     "metadata": {},
     "output_type": "execute_result"
    }
   ],
   "source": [
    "history.history.keys()"
   ]
  },
  {
   "cell_type": "code",
   "execution_count": 21,
   "metadata": {
    "colab": {
     "base_uri": "https://localhost:8080/",
     "height": 282
    },
    "executionInfo": {
     "elapsed": 362,
     "status": "ok",
     "timestamp": 1637396080725,
     "user": {
      "displayName": "Святослав Ковалев",
      "photoUrl": "https://lh3.googleusercontent.com/a-/AOh14GiEo6uPSihsjHnpbADaIWFahVInjjkZWI6g2J1WnA=s64",
      "userId": "12477434656558976325"
     },
     "user_tz": -180
    },
    "id": "PJ1Qr4WCGqDX",
    "outputId": "39bb1398-954b-4026-f0bf-fa09f3cef27f"
   },
   "outputs": [
    {
     "data": {
      "text/plain": [
       "<matplotlib.legend.Legend at 0x7f6f67278e90>"
      ]
     },
     "execution_count": 21,
     "metadata": {},
     "output_type": "execute_result"
    },
    {
     "data": {
      "image/png": "[encoded data removed]",
      "text/plain": [
       "<Figure size 432x288 with 1 Axes>"
      ]
     },
     "metadata": {
      "needs_background": "light"
     },
     "output_type": "display_data"
    }
   ],
   "source": [
    "plt.plot(history.history['loss'])\n",
    "plt.plot(history.history['val_loss'])\n",
    "plt.legend(['loss', 'val_loss'])"
   ]
  },
  {
   "cell_type": "code",
   "execution_count": 22,
   "metadata": {
    "colab": {
     "base_uri": "https://localhost:8080/",
     "height": 282
    },
    "executionInfo": {
     "elapsed": 384,
     "status": "ok",
     "timestamp": 1637396119552,
     "user": {
      "displayName": "Святослав Ковалев",
      "photoUrl": "https://lh3.googleusercontent.com/a-/AOh14GiEo6uPSihsjHnpbADaIWFahVInjjkZWI6g2J1WnA=s64",
      "userId": "12477434656558976325"
     },
     "user_tz": -180
    },
    "id": "Jjyy5fYvaa3w",
    "outputId": "cdd19f66-f73a-4de7-baac-46902968fc16"
   },
   "outputs": [
    {
     "data": {
      "text/plain": [
       "<matplotlib.legend.Legend at 0x7f6f5d777e50>"
      ]
     },
     "execution_count": 22,
     "metadata": {},
     "output_type": "execute_result"
    },
    {
     "data": {
      "image/png": "[encoded data removed]",
      "text/plain": [
       "<Figure size 432x288 with 1 Axes>"
      ]
     },
     "metadata": {
      "needs_background": "light"
     },
     "output_type": "display_data"
    }
   ],
   "source": [
    "plt.plot(history.history['categorical_accuracy'])\n",
    "plt.plot(history.history['val_categorical_accuracy'])\n",
    "plt.legend(['categorical_accuracy', 'val_categorical_accuracy'])"
   ]
  },
  {
   "cell_type": "code",
   "execution_count": 23,
   "metadata": {
    "colab": {
     "base_uri": "https://localhost:8080/"
    },
    "executionInfo": {
     "elapsed": 450,
     "status": "ok",
     "timestamp": 1637396145575,
     "user": {
      "displayName": "Святослав Ковалев",
      "photoUrl": "https://lh3.googleusercontent.com/a-/AOh14GiEo6uPSihsjHnpbADaIWFahVInjjkZWI6g2J1WnA=s64",
      "userId": "12477434656558976325"
     },
     "user_tz": -180
    },
    "id": "lzQ_dNDIAZHx",
    "outputId": "0f0e2d1d-d110-4fd0-ba60-0a4eed129e7a"
   },
   "outputs": [
    {
     "name": "stdout",
     "output_type": "stream",
     "text": [
      "157/157 [==============================] - 0s 2ms/step - loss: 0.3578 - categorical_accuracy: 0.9000\n"
     ]
    },
    {
     "data": {
      "text/plain": [
       "[0.3578324615955353, 0.8999999761581421]"
      ]
     },
     "execution_count": 23,
     "metadata": {},
     "output_type": "execute_result"
    }
   ],
   "source": [
    "model.evaluate(x_test, y_test)"
   ]
  },
  {
   "cell_type": "code",
   "execution_count": 24,
   "metadata": {
    "colab": {
     "base_uri": "https://localhost:8080/"
    },
    "executionInfo": {
     "elapsed": 770,
     "status": "ok",
     "timestamp": 1637396163767,
     "user": {
      "displayName": "Святослав Ковалев",
      "photoUrl": "https://lh3.googleusercontent.com/a-/AOh14GiEo6uPSihsjHnpbADaIWFahVInjjkZWI6g2J1WnA=s64",
      "userId": "12477434656558976325"
     },
     "user_tz": -180
    },
    "id": "Sf0M9BSfHRbO",
    "outputId": "ac682e59-4673-4dad-d107-680aebf2912a"
   },
   "outputs": [
    {
     "data": {
      "text/plain": [
       "array([[468,   0,   5,   0,   0,   4,   3,   3,   8,   0],\n",
       "       [  0, 564,   3,   2,   0,   2,   0,   2,  12,   0],\n",
       "       [  3,   7, 433,   9,   7,   0,  10,   8,  11,   2],\n",
       "       [  0,   5,  10, 431,   0,  14,   1,  10,   9,   4],\n",
       "       [  1,   2,   7,   1, 430,   0,   7,   0,   3,  36],\n",
       "       [ 13,   2,   7,  25,   9, 362,   4,   0,  17,   7],\n",
       "       [  7,   1,  12,   0,   8,   6, 479,   0,   7,   0],\n",
       "       [  2,   3,   7,   2,   3,   2,   0, 478,   0,  21],\n",
       "       [  4,  11,   8,  24,   5,  10,   6,   0, 403,   9],\n",
       "       [  3,   3,   2,   4,  19,   1,   0,  13,   2, 452]])"
      ]
     },
     "execution_count": 24,
     "metadata": {},
     "output_type": "execute_result"
    }
   ],
   "source": [
    "y_pred = model.predict(x_test)\n",
    "from sklearn.metrics import confusion_matrix\n",
    "confusion_matrix(y_test.argmax(axis=1), y_pred.argmax(axis=1))"
   ]
  },
  {
   "cell_type": "code",
   "execution_count": 32,
   "metadata": {
    "colab": {
     "base_uri": "https://localhost:8080/"
    },
    "executionInfo": {
     "elapsed": 557,
     "status": "ok",
     "timestamp": 1637396450169,
     "user": {
      "displayName": "Святослав Ковалев",
      "photoUrl": "https://lh3.googleusercontent.com/a-/AOh14GiEo6uPSihsjHnpbADaIWFahVInjjkZWI6g2J1WnA=s64",
      "userId": "12477434656558976325"
     },
     "user_tz": -180
    },
    "id": "5SBrhXLTbups",
    "outputId": "18457460-d1ea-416e-8dd3-b2f44841eb5a"
   },
   "outputs": [
    {
     "data": {
      "text/plain": [
       "1      0.0\n",
       "2      0.0\n",
       "3      0.0\n",
       "4      0.0\n",
       "5      0.0\n",
       "      ... \n",
       "780    0.0\n",
       "781    0.0\n",
       "782    0.0\n",
       "783    0.0\n",
       "784    0.0\n",
       "Name: 0, Length: 784, dtype: float64"
      ]
     },
     "execution_count": 32,
     "metadata": {},
     "output_type": "execute_result"
    }
   ],
   "source": [
    "X.iloc[0]"
   ]
  },
  {
   "cell_type": "code",
   "execution_count": 78,
   "metadata": {
    "colab": {
     "base_uri": "https://localhost:8080/",
     "height": 282
    },
    "executionInfo": {
     "elapsed": 342,
     "status": "ok",
     "timestamp": 1637404531838,
     "user": {
      "displayName": "Святослав Ковалев",
      "photoUrl": "https://lh3.googleusercontent.com/a-/AOh14GiEo6uPSihsjHnpbADaIWFahVInjjkZWI6g2J1WnA=s64",
      "userId": "12477434656558976325"
     },
     "user_tz": -180
    },
    "id": "K9tGl0mX6dP6",
    "outputId": "2436b86a-4074-455c-f8a8-721018330202"
   },
   "outputs": [
    {
     "data": {
      "text/plain": [
       "<matplotlib.image.AxesImage at 0x7f6f526593d0>"
      ]
     },
     "execution_count": 78,
     "metadata": {},
     "output_type": "execute_result"
    },
    {
     "data": {
      "image/png": "[encoded data removed]",
      "text/plain": [
       "<Figure size 432x288 with 1 Axes>"
      ]
     },
     "metadata": {
      "needs_background": "light"
     },
     "output_type": "display_data"
    }
   ],
   "source": [
    "plt.imshow(X.iloc[:1].values.reshape(28, 28))"
   ]
  },
  {
   "cell_type": "code",
   "execution_count": 38,
   "metadata": {
    "colab": {
     "base_uri": "https://localhost:8080/"
    },
    "executionInfo": {
     "elapsed": 321,
     "status": "ok",
     "timestamp": 1637396759112,
     "user": {
      "displayName": "Святослав Ковалев",
      "photoUrl": "https://lh3.googleusercontent.com/a-/AOh14GiEo6uPSihsjHnpbADaIWFahVInjjkZWI6g2J1WnA=s64",
      "userId": "12477434656558976325"
     },
     "user_tz": -180
    },
    "id": "SBEvT0wOa38v",
    "outputId": "38185e27-4932-4b13-b588-39ba3b8e18c2"
   },
   "outputs": [
    {
     "data": {
      "text/plain": [
       "<tf.Tensor: shape=(3, 10), dtype=float32, numpy=\n",
       "array([[5.64945228e-02, 2.17403824e-04, 3.90472680e-01, 2.31776922e-03,\n",
       "        1.89143121e-02, 2.58000307e-02, 3.73893172e-01, 1.13037007e-04,\n",
       "        1.30001500e-01, 1.77555869e-03],\n",
       "       [1.67323393e-03, 2.10934828e-04, 1.11272566e-04, 5.53003848e-02,\n",
       "        8.76573467e-05, 9.28257167e-01, 2.83725558e-06, 2.15454013e-04,\n",
       "        1.27167096e-02, 1.42437441e-03],\n",
       "       [4.10446823e-01, 6.35355718e-06, 3.78909142e-04, 8.81085929e-04,\n",
       "        1.15223357e-03, 8.76092166e-02, 5.11019971e-06, 3.59952539e-01,\n",
       "        5.50956349e-04, 1.39016762e-01]], dtype=float32)>"
      ]
     },
     "execution_count": 38,
     "metadata": {},
     "output_type": "execute_result"
    }
   ],
   "source": [
    "model(X.iloc[:3].values.reshape(3, -1))"
   ]
  },
  {
   "cell_type": "markdown",
   "metadata": {
    "id": "KCjbRaiyD1lw"
   },
   "source": [
    "Как оценим качество такой модели? Какое качество давала обычная логистическая регрессия?"
   ]
  },
  {
   "cell_type": "markdown",
   "metadata": {
    "id": "BxcUooixHpd8"
   },
   "source": [
    "## Задача\n",
    "\n",
    "Добавить больше нейронов к существующим слоям, а также добавить новый слой в нейросеть. Измерить качество."
   ]
  },
  {
   "cell_type": "code",
   "execution_count": 41,
   "metadata": {
    "executionInfo": {
     "elapsed": 324,
     "status": "ok",
     "timestamp": 1637396935135,
     "user": {
      "displayName": "Святослав Ковалев",
      "photoUrl": "https://lh3.googleusercontent.com/a-/AOh14GiEo6uPSihsjHnpbADaIWFahVInjjkZWI6g2J1WnA=s64",
      "userId": "12477434656558976325"
     },
     "user_tz": -180
    },
    "id": "Xe_QrCaGIMBv"
   },
   "outputs": [],
   "source": [
    "# Ваш код здесь\n",
    "model = Sequential(\n",
    "    [\n",
    "     Dense(64, input_shape=(X.shape[1],), activation='relu'),\n",
    "     Dense(64, activation='relu'),\n",
    "     Dense(64, activation='relu'),\n",
    "     Dense(64, activation='relu'),\n",
    "     Dense(64, activation='relu'),\n",
    "     Dense(64, activation='relu'),\n",
    "     Dense(64, activation='relu'),\n",
    "     Dense(10, activation='softmax')\n",
    "    ]\n",
    ")\n",
    "model.compile(optimizer=SGD(clipnorm=1), loss=categorical_crossentropy, metrics=[categorical_accuracy])\n"
   ]
  },
  {
   "cell_type": "code",
   "execution_count": 44,
   "metadata": {
    "colab": {
     "base_uri": "https://localhost:8080/"
    },
    "executionInfo": {
     "elapsed": 28162,
     "status": "ok",
     "timestamp": 1637398097566,
     "user": {
      "displayName": "Святослав Ковалев",
      "photoUrl": "https://lh3.googleusercontent.com/a-/AOh14GiEo6uPSihsjHnpbADaIWFahVInjjkZWI6g2J1WnA=s64",
      "userId": "12477434656558976325"
     },
     "user_tz": -180
    },
    "id": "9uZ3jwCVdK4C",
    "outputId": "69459caa-7bce-4f9a-943b-1aac47ff354e"
   },
   "outputs": [
    {
     "name": "stdout",
     "output_type": "stream",
     "text": [
      "Epoch 1/50\n",
      "106/106 [==============================] - 1s 7ms/step - loss: 0.0901 - categorical_accuracy: 0.9736 - val_loss: 0.1792 - val_categorical_accuracy: 0.9533\n",
      "Epoch 2/50\n",
      "106/106 [==============================] - 1s 5ms/step - loss: 0.0893 - categorical_accuracy: 0.9751 - val_loss: 0.1761 - val_categorical_accuracy: 0.9540\n",
      "Epoch 3/50\n",
      "106/106 [==============================] - 1s 5ms/step - loss: 0.0875 - categorical_accuracy: 0.9759 - val_loss: 0.1803 - val_categorical_accuracy: 0.9540\n",
      "Epoch 4/50\n",
      "106/106 [==============================] - 1s 5ms/step - loss: 0.0849 - categorical_accuracy: 0.9772 - val_loss: 0.2032 - val_categorical_accuracy: 0.9447\n",
      "Epoch 5/50\n",
      "106/106 [==============================] - 1s 5ms/step - loss: 0.0824 - categorical_accuracy: 0.9777 - val_loss: 0.1758 - val_categorical_accuracy: 0.9540\n",
      "Epoch 6/50\n",
      "106/106 [==============================] - 1s 5ms/step - loss: 0.0809 - categorical_accuracy: 0.9779 - val_loss: 0.1800 - val_categorical_accuracy: 0.9600\n",
      "Epoch 7/50\n",
      "106/106 [==============================] - 1s 5ms/step - loss: 0.0798 - categorical_accuracy: 0.9788 - val_loss: 0.1829 - val_categorical_accuracy: 0.9560\n",
      "Epoch 8/50\n",
      "106/106 [==============================] - 1s 5ms/step - loss: 0.0778 - categorical_accuracy: 0.9798 - val_loss: 0.1877 - val_categorical_accuracy: 0.9513\n",
      "Epoch 9/50\n",
      "106/106 [==============================] - 1s 5ms/step - loss: 0.0761 - categorical_accuracy: 0.9793 - val_loss: 0.1916 - val_categorical_accuracy: 0.9513\n",
      "Epoch 10/50\n",
      "106/106 [==============================] - 1s 5ms/step - loss: 0.0740 - categorical_accuracy: 0.9808 - val_loss: 0.1789 - val_categorical_accuracy: 0.9560\n",
      "Epoch 11/50\n",
      "106/106 [==============================] - 1s 5ms/step - loss: 0.0719 - categorical_accuracy: 0.9813 - val_loss: 0.1899 - val_categorical_accuracy: 0.9513\n",
      "Epoch 12/50\n",
      "106/106 [==============================] - 1s 5ms/step - loss: 0.0720 - categorical_accuracy: 0.9807 - val_loss: 0.1840 - val_categorical_accuracy: 0.9540\n",
      "Epoch 13/50\n",
      "106/106 [==============================] - 1s 5ms/step - loss: 0.0695 - categorical_accuracy: 0.9812 - val_loss: 0.1822 - val_categorical_accuracy: 0.9533\n",
      "Epoch 14/50\n",
      "106/106 [==============================] - 1s 5ms/step - loss: 0.0677 - categorical_accuracy: 0.9824 - val_loss: 0.1881 - val_categorical_accuracy: 0.9507\n",
      "Epoch 15/50\n",
      "106/106 [==============================] - 1s 5ms/step - loss: 0.0660 - categorical_accuracy: 0.9832 - val_loss: 0.1825 - val_categorical_accuracy: 0.9553\n",
      "Epoch 16/50\n",
      "106/106 [==============================] - 0s 5ms/step - loss: 0.0650 - categorical_accuracy: 0.9829 - val_loss: 0.1757 - val_categorical_accuracy: 0.9607\n",
      "Epoch 17/50\n",
      "106/106 [==============================] - 1s 5ms/step - loss: 0.0630 - categorical_accuracy: 0.9842 - val_loss: 0.1771 - val_categorical_accuracy: 0.9553\n",
      "Epoch 18/50\n",
      "106/106 [==============================] - 1s 5ms/step - loss: 0.0621 - categorical_accuracy: 0.9837 - val_loss: 0.1777 - val_categorical_accuracy: 0.9547\n",
      "Epoch 19/50\n",
      "106/106 [==============================] - 1s 5ms/step - loss: 0.0608 - categorical_accuracy: 0.9843 - val_loss: 0.1739 - val_categorical_accuracy: 0.9567\n",
      "Epoch 20/50\n",
      "106/106 [==============================] - 1s 5ms/step - loss: 0.0591 - categorical_accuracy: 0.9853 - val_loss: 0.1938 - val_categorical_accuracy: 0.9533\n",
      "Epoch 21/50\n",
      "106/106 [==============================] - 1s 5ms/step - loss: 0.0573 - categorical_accuracy: 0.9862 - val_loss: 0.1817 - val_categorical_accuracy: 0.9580\n",
      "Epoch 22/50\n",
      "106/106 [==============================] - 1s 6ms/step - loss: 0.0559 - categorical_accuracy: 0.9861 - val_loss: 0.1776 - val_categorical_accuracy: 0.9560\n",
      "Epoch 23/50\n",
      "106/106 [==============================] - 1s 5ms/step - loss: 0.0548 - categorical_accuracy: 0.9870 - val_loss: 0.1884 - val_categorical_accuracy: 0.9560\n",
      "Epoch 24/50\n",
      "106/106 [==============================] - 1s 5ms/step - loss: 0.0538 - categorical_accuracy: 0.9869 - val_loss: 0.1798 - val_categorical_accuracy: 0.9533\n",
      "Epoch 25/50\n",
      "106/106 [==============================] - 1s 5ms/step - loss: 0.0515 - categorical_accuracy: 0.9878 - val_loss: 0.1838 - val_categorical_accuracy: 0.9580\n",
      "Epoch 26/50\n",
      "106/106 [==============================] - 1s 5ms/step - loss: 0.0509 - categorical_accuracy: 0.9879 - val_loss: 0.1850 - val_categorical_accuracy: 0.9553\n",
      "Epoch 27/50\n",
      "106/106 [==============================] - 1s 5ms/step - loss: 0.0499 - categorical_accuracy: 0.9879 - val_loss: 0.1830 - val_categorical_accuracy: 0.9587\n",
      "Epoch 28/50\n",
      "106/106 [==============================] - 1s 5ms/step - loss: 0.0486 - categorical_accuracy: 0.9879 - val_loss: 0.1841 - val_categorical_accuracy: 0.9567\n",
      "Epoch 29/50\n",
      "106/106 [==============================] - 1s 5ms/step - loss: 0.0471 - categorical_accuracy: 0.9896 - val_loss: 0.1801 - val_categorical_accuracy: 0.9573\n",
      "Epoch 30/50\n",
      "106/106 [==============================] - 1s 5ms/step - loss: 0.0460 - categorical_accuracy: 0.9899 - val_loss: 0.1845 - val_categorical_accuracy: 0.9553\n",
      "Epoch 31/50\n",
      "106/106 [==============================] - 1s 5ms/step - loss: 0.0453 - categorical_accuracy: 0.9898 - val_loss: 0.1828 - val_categorical_accuracy: 0.9600\n",
      "Epoch 32/50\n",
      "106/106 [==============================] - 1s 5ms/step - loss: 0.0442 - categorical_accuracy: 0.9906 - val_loss: 0.1903 - val_categorical_accuracy: 0.9567\n",
      "Epoch 33/50\n",
      "106/106 [==============================] - 1s 5ms/step - loss: 0.0427 - categorical_accuracy: 0.9908 - val_loss: 0.1814 - val_categorical_accuracy: 0.9567\n",
      "Epoch 34/50\n",
      "106/106 [==============================] - 1s 5ms/step - loss: 0.0419 - categorical_accuracy: 0.9911 - val_loss: 0.1792 - val_categorical_accuracy: 0.9607\n",
      "Epoch 35/50\n",
      "106/106 [==============================] - 1s 5ms/step - loss: 0.0396 - categorical_accuracy: 0.9917 - val_loss: 0.1877 - val_categorical_accuracy: 0.9527\n",
      "Epoch 36/50\n",
      "106/106 [==============================] - 0s 5ms/step - loss: 0.0397 - categorical_accuracy: 0.9911 - val_loss: 0.1963 - val_categorical_accuracy: 0.9567\n",
      "Epoch 37/50\n",
      "106/106 [==============================] - 1s 5ms/step - loss: 0.0393 - categorical_accuracy: 0.9918 - val_loss: 0.1894 - val_categorical_accuracy: 0.9560\n",
      "Epoch 38/50\n",
      "106/106 [==============================] - 1s 5ms/step - loss: 0.0378 - categorical_accuracy: 0.9923 - val_loss: 0.1832 - val_categorical_accuracy: 0.9593\n",
      "Epoch 39/50\n",
      "106/106 [==============================] - 1s 5ms/step - loss: 0.0374 - categorical_accuracy: 0.9921 - val_loss: 0.1830 - val_categorical_accuracy: 0.9593\n",
      "Epoch 40/50\n",
      "106/106 [==============================] - 1s 5ms/step - loss: 0.0353 - categorical_accuracy: 0.9924 - val_loss: 0.1895 - val_categorical_accuracy: 0.9547\n",
      "Epoch 41/50\n",
      "106/106 [==============================] - 1s 5ms/step - loss: 0.0350 - categorical_accuracy: 0.9931 - val_loss: 0.1902 - val_categorical_accuracy: 0.9580\n",
      "Epoch 42/50\n",
      "106/106 [==============================] - 1s 5ms/step - loss: 0.0335 - categorical_accuracy: 0.9936 - val_loss: 0.1987 - val_categorical_accuracy: 0.9553\n",
      "Epoch 43/50\n",
      "106/106 [==============================] - 1s 5ms/step - loss: 0.0334 - categorical_accuracy: 0.9937 - val_loss: 0.1857 - val_categorical_accuracy: 0.9600\n",
      "Epoch 44/50\n",
      "106/106 [==============================] - 1s 5ms/step - loss: 0.0320 - categorical_accuracy: 0.9941 - val_loss: 0.1922 - val_categorical_accuracy: 0.9580\n",
      "Epoch 45/50\n",
      "106/106 [==============================] - 1s 5ms/step - loss: 0.0316 - categorical_accuracy: 0.9939 - val_loss: 0.1913 - val_categorical_accuracy: 0.9567\n",
      "Epoch 46/50\n",
      "106/106 [==============================] - 1s 5ms/step - loss: 0.0308 - categorical_accuracy: 0.9944 - val_loss: 0.1930 - val_categorical_accuracy: 0.9573\n",
      "Epoch 47/50\n",
      "106/106 [==============================] - 1s 5ms/step - loss: 0.0298 - categorical_accuracy: 0.9944 - val_loss: 0.2037 - val_categorical_accuracy: 0.9553\n",
      "Epoch 48/50\n",
      "106/106 [==============================] - 1s 5ms/step - loss: 0.0288 - categorical_accuracy: 0.9945 - val_loss: 0.1944 - val_categorical_accuracy: 0.9587\n",
      "Epoch 49/50\n",
      "106/106 [==============================] - 1s 5ms/step - loss: 0.0280 - categorical_accuracy: 0.9953 - val_loss: 0.1999 - val_categorical_accuracy: 0.9573\n",
      "Epoch 50/50\n",
      "106/106 [==============================] - 1s 5ms/step - loss: 0.0269 - categorical_accuracy: 0.9957 - val_loss: 0.1965 - val_categorical_accuracy: 0.9560\n"
     ]
    }
   ],
   "source": [
    "history = model.fit(x_train, y_train, batch_size=128, epochs=50, validation_split=0.1)"
   ]
  },
  {
   "cell_type": "markdown",
   "metadata": {
    "id": "2_KIrCYlIXxL"
   },
   "source": [
    "## Задача\n",
    "\n",
    "Попробовать оптимизатор Adam вместо SGD, сравнить качество (не забываем передавать параметр `clipnorm=1`)"
   ]
  },
  {
   "cell_type": "code",
   "execution_count": null,
   "metadata": {
    "id": "t9iSZwRzIXKE"
   },
   "outputs": [],
   "source": [
    "from tensorflow.keras.optimizers import Adam\n",
    "# Ваш код здесь\n"
   ]
  },
  {
   "cell_type": "markdown",
   "metadata": {
    "id": "O1xIUU46KjHK"
   },
   "source": [
    "## Уменьшение learning rate\n",
    "\n",
    "[Документация по ExponentialDecay](https://keras.io/api/optimizers/learning_rate_schedules/exponential_decay/)"
   ]
  },
  {
   "cell_type": "code",
   "execution_count": 47,
   "metadata": {
    "executionInfo": {
     "elapsed": 432,
     "status": "ok",
     "timestamp": 1637398879433,
     "user": {
      "displayName": "Святослав Ковалев",
      "photoUrl": "https://lh3.googleusercontent.com/a-/AOh14GiEo6uPSihsjHnpbADaIWFahVInjjkZWI6g2J1WnA=s64",
      "userId": "12477434656558976325"
     },
     "user_tz": -180
    },
    "id": "F_ziwlnUJa9F"
   },
   "outputs": [],
   "source": [
    "from tensorflow.keras.optimizers.schedules import ExponentialDecay\n",
    "\n",
    "initial_learning_rate = 0.1\n",
    "lr_schedule = ExponentialDecay(\n",
    "    initial_learning_rate,\n",
    "    decay_steps=100000,\n",
    "    decay_rate=0.96,\n",
    "    staircase=True\n",
    ")\n",
    "\n",
    "model = Sequential(\n",
    "    [\n",
    "     Dense(16, input_shape=(X.shape[1],), activation='sigmoid'),\n",
    "     Dense(16, activation='relu'),\n",
    "     Dense(10, activation='softmax')\n",
    "    ]\n",
    ")\n",
    "model.compile(optimizer=SGD(clipnorm=1, learning_rate=lr_schedule), loss=categorical_crossentropy, metrics=[categorical_accuracy])"
   ]
  },
  {
   "cell_type": "code",
   "execution_count": 48,
   "metadata": {
    "colab": {
     "base_uri": "https://localhost:8080/"
    },
    "executionInfo": {
     "elapsed": 10928,
     "status": "ok",
     "timestamp": 1637398890815,
     "user": {
      "displayName": "Святослав Ковалев",
      "photoUrl": "https://lh3.googleusercontent.com/a-/AOh14GiEo6uPSihsjHnpbADaIWFahVInjjkZWI6g2J1WnA=s64",
      "userId": "12477434656558976325"
     },
     "user_tz": -180
    },
    "id": "YL7-uXpaKXKt",
    "outputId": "65ce1db8-3caa-414b-8a05-bf470c69043e"
   },
   "outputs": [
    {
     "name": "stdout",
     "output_type": "stream",
     "text": [
      "Epoch 1/3\n",
      "1500/1500 [==============================] - 3s 2ms/step - loss: 0.7333 - categorical_accuracy: 0.7721\n",
      "Epoch 2/3\n",
      "1500/1500 [==============================] - 3s 2ms/step - loss: 0.3487 - categorical_accuracy: 0.8958\n",
      "Epoch 3/3\n",
      "1500/1500 [==============================] - 2s 2ms/step - loss: 0.2893 - categorical_accuracy: 0.9157\n"
     ]
    }
   ],
   "source": [
    "history = model.fit(x_train, y_train, batch_size=10, epochs=3)"
   ]
  },
  {
   "cell_type": "markdown",
   "metadata": {
    "id": "MGaEusuvKrUl"
   },
   "source": [
    "## Задача\n",
    "\n",
    "Использовать ExponentialDecay для оптимизатора Adam"
   ]
  },
  {
   "cell_type": "code",
   "execution_count": null,
   "metadata": {
    "id": "gVzj8zZ7K-r9"
   },
   "outputs": [],
   "source": [
    "## Ваш код здесь\n"
   ]
  },
  {
   "cell_type": "markdown",
   "metadata": {
    "id": "9Pi-2KzGpp-q"
   },
   "source": [
    "## Регуляризация\n",
    "\n",
    "Для того, чтобы избежать переобучения, мы можем использовать регуляризацию. Для линейных моделей мы использовали L1 и L2 регуляризацию. Для нейросетей обычно используют dropout слой.\n",
    "\n",
    "Интуиция, которая лежит за dropout-слоем состоит в том, что нам не хочется, чтобы модель обучалась по какому-то одному признаку, поэтому мы хотим периодически \"отключать\" какие-то связи в слое и смотреть как это влияет на прогноз модели.\n",
    "\n",
    "Dropout слой ровно это и делает. Мы можем задать вероятность отключения признака и нейросеть присвоит весу этого признака значение 0. Так как при обучении мы много раз проходим через нейросеть, то мы избежим переобучения.\n",
    "\n",
    "Dropout используется только при обучении, при получении прогноза никакие веса не обнуляются.\n",
    "\n",
    "При этом обучение будет идти быстрее, но сходиться будет медленнее (потребуется больше эпох, чтобы получить такой же результат)\n",
    "\n",
    "Чем больше параметров в слое, тем эффективнее будет dropout"
   ]
  },
  {
   "cell_type": "markdown",
   "metadata": {
    "id": "cYB4v2eft9cP"
   },
   "source": [
    "## Задача\n",
    "\n",
    "Применить Dropout к полученной выше нейросети к одному из слоев. Сравнить результат."
   ]
  },
  {
   "cell_type": "code",
   "execution_count": 50,
   "metadata": {
    "executionInfo": {
     "elapsed": 344,
     "status": "ok",
     "timestamp": 1637399911277,
     "user": {
      "displayName": "Святослав Ковалев",
      "photoUrl": "https://lh3.googleusercontent.com/a-/AOh14GiEo6uPSihsjHnpbADaIWFahVInjjkZWI6g2J1WnA=s64",
      "userId": "12477434656558976325"
     },
     "user_tz": -180
    },
    "id": "zOgmw8yBvV44"
   },
   "outputs": [],
   "source": [
    "# Ваш код здесь\n",
    "model = Sequential(\n",
    "    [\n",
    "     Dense(16, input_shape=(X.shape[1],), activation='sigmoid'),\n",
    "     Dense(16, activation='relu'),\n",
    "     Dropout(0.5),\n",
    "     Dense(10, activation='softmax')\n",
    "    ]\n",
    ")\n",
    "model.compile(optimizer=SGD(learning_rate=lr_schedule), loss=categorical_crossentropy, metrics=[categorical_accuracy])"
   ]
  },
  {
   "cell_type": "code",
   "execution_count": 52,
   "metadata": {
    "colab": {
     "base_uri": "https://localhost:8080/"
    },
    "executionInfo": {
     "elapsed": 11886,
     "status": "ok",
     "timestamp": 1637399951110,
     "user": {
      "displayName": "Святослав Ковалев",
      "photoUrl": "https://lh3.googleusercontent.com/a-/AOh14GiEo6uPSihsjHnpbADaIWFahVInjjkZWI6g2J1WnA=s64",
      "userId": "12477434656558976325"
     },
     "user_tz": -180
    },
    "id": "tnZy9569o96S",
    "outputId": "1deb3954-bb30-4290-8a88-7804eb06547f"
   },
   "outputs": [
    {
     "name": "stdout",
     "output_type": "stream",
     "text": [
      "Epoch 1/10\n",
      "500/500 [==============================] - 1s 2ms/step - loss: 1.0463 - categorical_accuracy: 0.6372\n",
      "Epoch 2/10\n",
      "500/500 [==============================] - 1s 2ms/step - loss: 0.8940 - categorical_accuracy: 0.6971\n",
      "Epoch 3/10\n",
      "500/500 [==============================] - 1s 2ms/step - loss: 0.8069 - categorical_accuracy: 0.7290\n",
      "Epoch 4/10\n",
      "500/500 [==============================] - 1s 2ms/step - loss: 0.7565 - categorical_accuracy: 0.7497\n",
      "Epoch 5/10\n",
      "500/500 [==============================] - 1s 2ms/step - loss: 0.7211 - categorical_accuracy: 0.7621\n",
      "Epoch 6/10\n",
      "500/500 [==============================] - 1s 2ms/step - loss: 0.6965 - categorical_accuracy: 0.7715\n",
      "Epoch 7/10\n",
      "500/500 [==============================] - 1s 2ms/step - loss: 0.6759 - categorical_accuracy: 0.7789\n",
      "Epoch 8/10\n",
      "500/500 [==============================] - 1s 2ms/step - loss: 0.6529 - categorical_accuracy: 0.7874\n",
      "Epoch 9/10\n",
      "500/500 [==============================] - 1s 2ms/step - loss: 0.6427 - categorical_accuracy: 0.7873\n",
      "Epoch 10/10\n",
      "500/500 [==============================] - 1s 2ms/step - loss: 0.6262 - categorical_accuracy: 0.7905\n"
     ]
    },
    {
     "data": {
      "text/plain": [
       "<keras.callbacks.History at 0x7f6f56d72050>"
      ]
     },
     "execution_count": 52,
     "metadata": {},
     "output_type": "execute_result"
    }
   ],
   "source": [
    "model.fit(x_train, y_train, epochs=10, batch_size=30)"
   ]
  },
  {
   "cell_type": "markdown",
   "metadata": {
    "id": "T3UZC9-WLCFm"
   },
   "source": [
    "## Сверточные нейронные сети\n",
    "\n",
    "Обучая многослойный перцептрон можно аппроксимировать любую функцию, но для некоторых задач проще использовать другую архитектуру сети. Например, для задач с аудио и картинками хорошо подходит сверточная нейронная сеть (CNN).\n",
    "\n",
    "![pic](https://drive.google.com/uc?export=view&id=1CgvgrVTOdvsT4LzltnayZ0SxPuUyMEpJ)\n",
    "\n",
    "Сверточная нейронная сеть состоит, как правило, из двух слоев - свертка и пулинг.\n",
    "\n",
    "Свертка получается, когда по исходному изображению проходит скользящее окно в виде квадратной матрицы. На каждом шаге происходит покомпонентное умножение матриц (исходного изображения и ядра - квадратной матрицы). Дальше результат суммируется и записывается в новую матрицу. После чего вся новая матрица проходит через функцию активации (обычно relu).\n",
    "\n",
    "После свертки применяется пулинг. Матрица делится на квадратики (пулы), и в каждом квадратике выбирается наибольшее значение. В конце применяется функция активации.\n",
    "\n",
    "![pic](https://drive.google.com/uc?export=view&id=1esI1fEimHm7EPe-c7c82knkofwyDxflY)\n",
    "\n",
    "Во время обучения подбираются коэфициенты ядра. Как правило, на каждом слое обучают несколько фильтров."
   ]
  },
  {
   "cell_type": "code",
   "execution_count": 56,
   "metadata": {
    "executionInfo": {
     "elapsed": 327,
     "status": "ok",
     "timestamp": 1637400392538,
     "user": {
      "displayName": "Святослав Ковалев",
      "photoUrl": "https://lh3.googleusercontent.com/a-/AOh14GiEo6uPSihsjHnpbADaIWFahVInjjkZWI6g2J1WnA=s64",
      "userId": "12477434656558976325"
     },
     "user_tz": -180
    },
    "id": "NByGJdSfN1QV"
   },
   "outputs": [],
   "source": [
    "import numpy as np\n",
    "from tensorflow import keras\n",
    "from tensorflow.keras import layers"
   ]
  },
  {
   "cell_type": "markdown",
   "metadata": {
    "id": "bcu2HOKYOOZz"
   },
   "source": [
    "Приводим изображения к размерности (28, 28, 1), потому что картинка черно-белая 28х28"
   ]
  },
  {
   "cell_type": "code",
   "execution_count": 53,
   "metadata": {
    "colab": {
     "base_uri": "https://localhost:8080/"
    },
    "executionInfo": {
     "elapsed": 342,
     "status": "ok",
     "timestamp": 1637400301769,
     "user": {
      "displayName": "Святослав Ковалев",
      "photoUrl": "https://lh3.googleusercontent.com/a-/AOh14GiEo6uPSihsjHnpbADaIWFahVInjjkZWI6g2J1WnA=s64",
      "userId": "12477434656558976325"
     },
     "user_tz": -180
    },
    "id": "BIzcFmXZI2Ze",
    "outputId": "beaf2b02-fe79-410f-c23e-1a600e98df00"
   },
   "outputs": [
    {
     "data": {
      "text/plain": [
       "(15000, 28, 28, 1)"
      ]
     },
     "execution_count": 53,
     "metadata": {},
     "output_type": "execute_result"
    }
   ],
   "source": [
    "X_images = X.values.reshape(-1, 28, 28, 1)\n",
    "x_train, x_test, y_train, y_test = train_test_split(X_images, y)\n",
    "x_train.shape"
   ]
  },
  {
   "cell_type": "code",
   "execution_count": 58,
   "metadata": {
    "executionInfo": {
     "elapsed": 328,
     "status": "ok",
     "timestamp": 1637400400026,
     "user": {
      "displayName": "Святослав Ковалев",
      "photoUrl": "https://lh3.googleusercontent.com/a-/AOh14GiEo6uPSihsjHnpbADaIWFahVInjjkZWI6g2J1WnA=s64",
      "userId": "12477434656558976325"
     },
     "user_tz": -180
    },
    "id": "ul2uks0VNjpd"
   },
   "outputs": [],
   "source": [
    "model = Sequential(\n",
    "    [\n",
    "        keras.Input(shape=(28, 28, 1)),\n",
    "        layers.Conv2D(32, kernel_size=(3, 3), activation=\"relu\"),\n",
    "        layers.MaxPooling2D(pool_size=(2, 2)),\n",
    "        layers.Conv2D(64, kernel_size=(3, 3), activation=\"relu\"),\n",
    "        layers.MaxPooling2D(pool_size=(2, 2)),\n",
    "        layers.Flatten(),\n",
    "        layers.Dropout(0.5),\n",
    "        layers.Dense(10, activation=\"softmax\"),\n",
    "    ]\n",
    ")\n",
    "\n",
    "batch_size = 128\n",
    "epochs = 5\n",
    "\n",
    "model.compile(loss=\"categorical_crossentropy\", optimizer=\"adam\", metrics=[\"accuracy\"])"
   ]
  },
  {
   "cell_type": "code",
   "execution_count": 60,
   "metadata": {
    "colab": {
     "base_uri": "https://localhost:8080/"
    },
    "executionInfo": {
     "elapsed": 323,
     "status": "ok",
     "timestamp": 1637400483510,
     "user": {
      "displayName": "Святослав Ковалев",
      "photoUrl": "https://lh3.googleusercontent.com/a-/AOh14GiEo6uPSihsjHnpbADaIWFahVInjjkZWI6g2J1WnA=s64",
      "userId": "12477434656558976325"
     },
     "user_tz": -180
    },
    "id": "DpNiS477rIOv",
    "outputId": "63d3c83c-60e8-45c6-ce5d-930174a78340"
   },
   "outputs": [
    {
     "name": "stdout",
     "output_type": "stream",
     "text": [
      "Model: \"sequential_8\"\n",
      "_________________________________________________________________\n",
      " Layer (type)                Output Shape              Param #   \n",
      "=================================================================\n",
      " conv2d_2 (Conv2D)           (None, 26, 26, 32)        320       \n",
      "                                                                 \n",
      " max_pooling2d_2 (MaxPooling  (None, 13, 13, 32)       0         \n",
      " 2D)                                                             \n",
      "                                                                 \n",
      " conv2d_3 (Conv2D)           (None, 11, 11, 64)        18496     \n",
      "                                                                 \n",
      " max_pooling2d_3 (MaxPooling  (None, 5, 5, 64)         0         \n",
      " 2D)                                                             \n",
      "                                                                 \n",
      " flatten_1 (Flatten)         (None, 1600)              0         \n",
      "                                                                 \n",
      " dropout_4 (Dropout)         (None, 1600)              0         \n",
      "                                                                 \n",
      " dense_27 (Dense)            (None, 10)                16010     \n",
      "                                                                 \n",
      "=================================================================\n",
      "Total params: 34,826\n",
      "Trainable params: 34,826\n",
      "Non-trainable params: 0\n",
      "_________________________________________________________________\n"
     ]
    }
   ],
   "source": [
    "model.summary()"
   ]
  },
  {
   "cell_type": "code",
   "execution_count": 64,
   "metadata": {
    "colab": {
     "base_uri": "https://localhost:8080/"
    },
    "executionInfo": {
     "elapsed": 142316,
     "status": "ok",
     "timestamp": 1637400702625,
     "user": {
      "displayName": "Святослав Ковалев",
      "photoUrl": "https://lh3.googleusercontent.com/a-/AOh14GiEo6uPSihsjHnpbADaIWFahVInjjkZWI6g2J1WnA=s64",
      "userId": "12477434656558976325"
     },
     "user_tz": -180
    },
    "id": "o3x9GA_sOlIx",
    "outputId": "e6892d80-df44-4e85-9894-b67af5e2d948"
   },
   "outputs": [
    {
     "name": "stdout",
     "output_type": "stream",
     "text": [
      "Epoch 1/10\n",
      "106/106 [==============================] - 10s 97ms/step - loss: 0.1052 - accuracy: 0.9692 - val_loss: 0.0641 - val_accuracy: 0.9813\n",
      "Epoch 2/10\n",
      "106/106 [==============================] - 10s 98ms/step - loss: 0.0924 - accuracy: 0.9713 - val_loss: 0.0564 - val_accuracy: 0.9833\n",
      "Epoch 3/10\n",
      "106/106 [==============================] - 10s 96ms/step - loss: 0.0850 - accuracy: 0.9736 - val_loss: 0.0536 - val_accuracy: 0.9833\n",
      "Epoch 4/10\n",
      "106/106 [==============================] - 10s 96ms/step - loss: 0.0761 - accuracy: 0.9763 - val_loss: 0.0450 - val_accuracy: 0.9867\n",
      "Epoch 5/10\n",
      "106/106 [==============================] - 10s 97ms/step - loss: 0.0714 - accuracy: 0.9777 - val_loss: 0.0477 - val_accuracy: 0.9833\n",
      "Epoch 6/10\n",
      "106/106 [==============================] - 10s 96ms/step - loss: 0.0636 - accuracy: 0.9807 - val_loss: 0.0425 - val_accuracy: 0.9833\n",
      "Epoch 7/10\n",
      "106/106 [==============================] - 10s 97ms/step - loss: 0.0637 - accuracy: 0.9787 - val_loss: 0.0432 - val_accuracy: 0.9867\n",
      "Epoch 8/10\n",
      "106/106 [==============================] - 10s 98ms/step - loss: 0.0549 - accuracy: 0.9830 - val_loss: 0.0387 - val_accuracy: 0.9880\n",
      "Epoch 9/10\n",
      "106/106 [==============================] - 10s 97ms/step - loss: 0.0562 - accuracy: 0.9827 - val_loss: 0.0366 - val_accuracy: 0.9887\n",
      "Epoch 10/10\n",
      "106/106 [==============================] - 10s 96ms/step - loss: 0.0535 - accuracy: 0.9831 - val_loss: 0.0385 - val_accuracy: 0.9887\n"
     ]
    }
   ],
   "source": [
    "history = model.fit(x_train, y_train, batch_size=batch_size, epochs=10, validation_split=0.1)"
   ]
  },
  {
   "cell_type": "code",
   "execution_count": 62,
   "metadata": {
    "colab": {
     "base_uri": "https://localhost:8080/",
     "height": 282
    },
    "executionInfo": {
     "elapsed": 346,
     "status": "ok",
     "timestamp": 1637400522996,
     "user": {
      "displayName": "Святослав Ковалев",
      "photoUrl": "https://lh3.googleusercontent.com/a-/AOh14GiEo6uPSihsjHnpbADaIWFahVInjjkZWI6g2J1WnA=s64",
      "userId": "12477434656558976325"
     },
     "user_tz": -180
    },
    "id": "qKAJctrYO9um",
    "outputId": "45c80c30-d19f-4aef-e148-21a4cbd38381"
   },
   "outputs": [
    {
     "data": {
      "text/plain": [
       "<matplotlib.legend.Legend at 0x7f6f562cf2d0>"
      ]
     },
     "execution_count": 62,
     "metadata": {},
     "output_type": "execute_result"
    },
    {
     "data": {
      "image/png": "[encoded data removed]",
      "text/plain": [
       "<Figure size 432x288 with 1 Axes>"
      ]
     },
     "metadata": {
      "needs_background": "light"
     },
     "output_type": "display_data"
    }
   ],
   "source": [
    "plt.plot(history.history['loss'])\n",
    "plt.plot(history.history['val_loss'])\n",
    "plt.legend(['loss', 'val_loss'])"
   ]
  },
  {
   "cell_type": "code",
   "execution_count": 63,
   "metadata": {
    "colab": {
     "base_uri": "https://localhost:8080/"
    },
    "executionInfo": {
     "elapsed": 1799,
     "status": "ok",
     "timestamp": 1637400533073,
     "user": {
      "displayName": "Святослав Ковалев",
      "photoUrl": "https://lh3.googleusercontent.com/a-/AOh14GiEo6uPSihsjHnpbADaIWFahVInjjkZWI6g2J1WnA=s64",
      "userId": "12477434656558976325"
     },
     "user_tz": -180
    },
    "id": "D4RlaFuGPmfW",
    "outputId": "2bb1ea45-4774-4dd8-892c-11b69b099e0a"
   },
   "outputs": [
    {
     "name": "stdout",
     "output_type": "stream",
     "text": [
      "157/157 [==============================] - 2s 10ms/step - loss: 0.0927 - accuracy: 0.9734\n"
     ]
    },
    {
     "data": {
      "text/plain": [
       "[0.0927235409617424, 0.9733999967575073]"
      ]
     },
     "execution_count": 63,
     "metadata": {},
     "output_type": "execute_result"
    }
   ],
   "source": [
    "model.evaluate(x_test, y_test)"
   ]
  },
  {
   "cell_type": "code",
   "execution_count": null,
   "metadata": {
    "id": "YeQc2_ktsCUu"
   },
   "outputs": [],
   "source": [
    "!unzip "
   ]
  },
  {
   "cell_type": "code",
   "execution_count": null,
   "metadata": {
    "id": "xM_AkBWy5rmr"
   },
   "outputs": [],
   "source": []
  },
  {
   "cell_type": "code",
   "execution_count": 69,
   "metadata": {
    "colab": {
     "base_uri": "https://localhost:8080/"
    },
    "executionInfo": {
     "elapsed": 1874,
     "status": "ok",
     "timestamp": 1637403457813,
     "user": {
      "displayName": "Святослав Ковалев",
      "photoUrl": "https://lh3.googleusercontent.com/a-/AOh14GiEo6uPSihsjHnpbADaIWFahVInjjkZWI6g2J1WnA=s64",
      "userId": "12477434656558976325"
     },
     "user_tz": -180
    },
    "id": "9emz1P1H2S-6",
    "outputId": "144bc463-3ada-45e5-c0c5-a872a41e78d2"
   },
   "outputs": [
    {
     "data": {
      "text/plain": [
       "array([[487,   0,   1,   0,   0,   2,   2,   0,   0,   0],\n",
       "       [  0, 557,   7,   1,   1,   0,   1,   2,   5,   0],\n",
       "       [  1,   0, 492,   1,   0,   0,   0,   2,   1,   0],\n",
       "       [  0,   0,   6, 485,   0,   2,   0,   1,   1,   0],\n",
       "       [  1,   2,   1,   0, 460,   0,   0,   2,   1,   4],\n",
       "       [  2,   1,   0,   4,   0, 416,   2,   3,   1,   0],\n",
       "       [  2,   0,   0,   0,   0,   0, 557,   0,   1,   0],\n",
       "       [  0,   3,   3,   0,   1,   0,   0, 505,   0,   1],\n",
       "       [  0,   0,   2,   0,   0,   1,   0,   0, 475,   0],\n",
       "       [  1,   0,   0,   1,   2,   1,   0,   2,   2, 482]])"
      ]
     },
     "execution_count": 69,
     "metadata": {},
     "output_type": "execute_result"
    }
   ],
   "source": [
    "y_pred = model.predict(x_test)\n",
    "from sklearn.metrics import confusion_matrix\n",
    "confusion_matrix(y_test.argmax(axis=1), y_pred.argmax(axis=1))"
   ]
  },
  {
   "cell_type": "code",
   "execution_count": 70,
   "metadata": {
    "executionInfo": {
     "elapsed": 322,
     "status": "ok",
     "timestamp": 1637403495242,
     "user": {
      "displayName": "Святослав Ковалев",
      "photoUrl": "https://lh3.googleusercontent.com/a-/AOh14GiEo6uPSihsjHnpbADaIWFahVInjjkZWI6g2J1WnA=s64",
      "userId": "12477434656558976325"
     },
     "user_tz": -180
    },
    "id": "Z5SDcHKL2hSA"
   },
   "outputs": [],
   "source": [
    "y_test = y_test.argmax(axis=1)\n",
    "y_pred = y_pred.argmax(axis=1)"
   ]
  },
  {
   "cell_type": "code",
   "execution_count": 90,
   "metadata": {
    "executionInfo": {
     "elapsed": 305,
     "status": "ok",
     "timestamp": 1637406156917,
     "user": {
      "displayName": "Святослав Ковалев",
      "photoUrl": "https://lh3.googleusercontent.com/a-/AOh14GiEo6uPSihsjHnpbADaIWFahVInjjkZWI6g2J1WnA=s64",
      "userId": "12477434656558976325"
     },
     "user_tz": -180
    },
    "id": "4xgU66TA2ovP"
   },
   "outputs": [],
   "source": [
    "wrong_images = x_test[y_test != y_pred]\n",
    "real_label = y_test[y_test != y_pred]\n",
    "pred_label = y_pred[y_test != y_pred]"
   ]
  },
  {
   "cell_type": "code",
   "execution_count": 96,
   "metadata": {
    "colab": {
     "base_uri": "https://localhost:8080/",
     "height": 1000
    },
    "executionInfo": {
     "elapsed": 2236,
     "status": "ok",
     "timestamp": 1637406304989,
     "user": {
      "displayName": "Святослав Ковалев",
      "photoUrl": "https://lh3.googleusercontent.com/a-/AOh14GiEo6uPSihsjHnpbADaIWFahVInjjkZWI6g2J1WnA=s64",
      "userId": "12477434656558976325"
     },
     "user_tz": -180
    },
    "id": "fzuB-wk5AsUr",
    "outputId": "0dfa9485-7143-4752-a4e0-d18ce3abc735"
   },
   "outputs": [
    {
     "data": {
      "image/png": "[encoded data removed]",
      "text/plain": [
       "<Figure size 432x288 with 1 Axes>"
      ]
     },
     "metadata": {
      "needs_background": "light"
     },
     "output_type": "display_data"
    },
    {
     "data": {
      "image/png": "[encoded data removed]",
      "text/plain": [
       "<Figure size 432x288 with 1 Axes>"
      ]
     },
     "metadata": {
      "needs_background": "light"
     },
     "output_type": "display_data"
    },
    {
     "data": {
      "image/png": "[encoded data removed]",
      "text/plain": [
       "<Figure size 432x288 with 1 Axes>"
      ]
     },
     "metadata": {
      "needs_background": "light"
     },
     "output_type": "display_data"
    },
    {
     "data": {
      "image/png": "[encoded data removed]",
      "text/plain": [
       "<Figure size 432x288 with 1 Axes>"
      ]
     },
     "metadata": {
      "needs_background": "light"
     },
     "output_type": "display_data"
    },
    {
     "data": {
      "image/png": "[encoded data removed]",
      "text/plain": [
       "<Figure size 432x288 with 1 Axes>"
      ]
     },
     "metadata": {
      "needs_background": "light"
     },
     "output_type": "display_data"
    },
    {
     "data": {
      "image/png": "[encoded data removed]",
      "text/plain": [
       "<Figure size 432x288 with 1 Axes>"
      ]
     },
     "metadata": {
      "needs_background": "light"
     },
     "output_type": "display_data"
    },
    {
     "data": {
      "image/png": "[encoded data removed]",
      "text/plain": [
       "<Figure size 432x288 with 1 Axes>"
      ]
     },
     "metadata": {
      "needs_background": "light"
     },
     "output_type": "display_data"
    },
    {
     "data": {
      "image/png": "[encoded data removed]",
      "text/plain": [
       "<Figure size 432x288 with 1 Axes>"
      ]
     },
     "metadata": {
      "needs_background": "light"
     },
     "output_type": "display_data"
    },
    {
     "data": {
      "image/png": "[encoded data removed]",
      "text/plain": [
       "<Figure size 432x288 with 1 Axes>"
      ]
     },
     "metadata": {
      "needs_background": "light"
     },
     "output_type": "display_data"
    },
    {
     "data": {
      "image/png": "[encoded data removed]",
      "text/plain": [
       "<Figure size 432x288 with 1 Axes>"
      ]
     },
     "metadata": {
      "needs_background": "light"
     },
     "output_type": "display_data"
    }
   ],
   "source": [
    "for i in range(10):\n",
    "  plt.figure()\n",
    "  plt.imshow(wrong_images[i, :, :, 0])\n",
    "  plt.title(f'Predict={pred_label[i]} True={real_label[i]}')"
   ]
  },
  {
   "cell_type": "code",
   "execution_count": 84,
   "metadata": {
    "executionInfo": {
     "elapsed": 294,
     "status": "ok",
     "timestamp": 1637405273554,
     "user": {
      "displayName": "Святослав Ковалев",
      "photoUrl": "https://lh3.googleusercontent.com/a-/AOh14GiEo6uPSihsjHnpbADaIWFahVInjjkZWI6g2J1WnA=s64",
      "userId": "12477434656558976325"
     },
     "user_tz": -180
    },
    "id": "qTqjo0Pr9LJd"
   },
   "outputs": [],
   "source": [
    "label_mapper = {\n",
    "    0: 'T-shirt/top',\n",
    "    1: 'Trouser',\n",
    "    2: 'Pullover',\n",
    "    3: 'Dress',\n",
    "    4: 'Coat',\n",
    "    5: 'Sandal',\n",
    "    6: 'Shirt',\n",
    "    7: 'Sneaker',\n",
    "    8: 'Bag',\n",
    "    9: 'Ankle boot'\n",
    "}\n"
   ]
  },
  {
   "cell_type": "code",
   "execution_count": 85,
   "metadata": {
    "colab": {
     "base_uri": "https://localhost:8080/",
     "height": 35
    },
    "executionInfo": {
     "elapsed": 304,
     "status": "ok",
     "timestamp": 1637405293327,
     "user": {
      "displayName": "Святослав Ковалев",
      "photoUrl": "https://lh3.googleusercontent.com/a-/AOh14GiEo6uPSihsjHnpbADaIWFahVInjjkZWI6g2J1WnA=s64",
      "userId": "12477434656558976325"
     },
     "user_tz": -180
    },
    "id": "k4RlSWeZ6xQ6",
    "outputId": "208de52b-94a3-4995-fe1a-91b69b0d2bf1"
   },
   "outputs": [
    {
     "data": {
      "application/vnd.google.colaboratory.intrinsic+json": {
       "type": "string"
      },
      "text/plain": [
       "'Sandal'"
      ]
     },
     "execution_count": 85,
     "metadata": {},
     "output_type": "execute_result"
    }
   ],
   "source": [
    "pred = model.predict(x_test[:1])\n",
    "label = pred.argmax()\n",
    "label_mapper[label]"
   ]
  },
  {
   "cell_type": "markdown",
   "metadata": {
    "id": "3sKy6t3RITmg"
   },
   "source": [
    "## Задача\n",
    "\n",
    "Взять данные с Kaggle по датасету [Fashion MNIST](https://www.kaggle.com/zalando-research/fashionmnist?select=fashion-mnist_train.csv).\n",
    "\n",
    "В датасете представлены картинки одежды, нужно построить классификатор, который определит, что находится на картинке.\n",
    "\n",
    "Обучить на этих данных сверточную нейронную сеть. Можно использовать архитектуру из примера выше, можно ее усложнить.\n",
    "\n",
    "Оценить качество модели."
   ]
  },
  {
   "cell_type": "code",
   "execution_count": 67,
   "metadata": {
    "executionInfo": {
     "elapsed": 323,
     "status": "ok",
     "timestamp": 1637401975177,
     "user": {
      "displayName": "Святослав Ковалев",
      "photoUrl": "https://lh3.googleusercontent.com/a-/AOh14GiEo6uPSihsjHnpbADaIWFahVInjjkZWI6g2J1WnA=s64",
      "userId": "12477434656558976325"
     },
     "user_tz": -180
    },
    "id": "EUI9cpoRJDYb"
   },
   "outputs": [],
   "source": [
    "from tensorflow.keras.optimizers import RMSprop"
   ]
  },
  {
   "cell_type": "code",
   "execution_count": null,
   "metadata": {
    "id": "WN3EUAnqw2fE"
   },
   "outputs": [],
   "source": [
    "x_train[np.isnan(x_train)]"
   ]
  },
  {
   "cell_type": "markdown",
   "metadata": {
    "id": "DUuGA0lGJEOJ"
   },
   "source": [
    "## Задача\n",
    "\n",
    "По этим же данным построить модель логистической регрессии. Сравнить результаты."
   ]
  },
  {
   "cell_type": "code",
   "execution_count": 86,
   "metadata": {
    "executionInfo": {
     "elapsed": 294,
     "status": "ok",
     "timestamp": 1637405457910,
     "user": {
      "displayName": "Святослав Ковалев",
      "photoUrl": "https://lh3.googleusercontent.com/a-/AOh14GiEo6uPSihsjHnpbADaIWFahVInjjkZWI6g2J1WnA=s64",
      "userId": "12477434656558976325"
     },
     "user_tz": -180
    },
    "id": "n73NQlXyKTwU"
   },
   "outputs": [],
   "source": [
    "from sklearn.linear_model import LogisticRegression"
   ]
  },
  {
   "cell_type": "markdown",
   "metadata": {
    "id": "92FOaQnyI3DE"
   },
   "source": [
    "## Домашнее задание\n",
    "\n",
    "Будем работать с датасетом о рыбах https://www.kaggle.com/crowww/a-large-scale-fish-dataset\n",
    "\n",
    "## Easy\n",
    "\n",
    "В этой задаче возьмем любые два вида рыб и решим задачу бинарной классификации.\n",
    "\n",
    "Нужно прочитать данные, разбить на треин и тест, построить модель сверточной нейросети, проверить качество.\n",
    "\n",
    "## Normal\n",
    "\n",
    "Берем данные о всех рыбах и решаем ту же задачу.\n",
    "\n",
    "## Hard\n",
    "\n",
    "Добавим к модели из Normal аугментацию данных. \n",
    "\n",
    "Аугментация данных - это прием, при помощи которого мы можем искусственно увеличить количество данных, которые у нас имеются. Например, если речь идет о картинках, то мы можем проводить разные трансформации (поворачивать, разворачивать, сжимать, менять освещение) над картинками и использовать эти данные для обучения.\n",
    "\n",
    "В keras это делается при помощи `DataImageGenerator`. Прочитать подробнее можно [тут](https://machinelearningmastery.com/how-to-configure-image-data-augmentation-when-training-deep-learning-neural-networks/).\n",
    "\n"
   ]
  },
  {
   "cell_type": "markdown",
   "metadata": {
    "id": "IYnH81Llmr33"
   },
   "source": [
    "## Полезные ссылки\n",
    "\n",
    "- [Как сверточные сети видят мир](https://blog.keras.io/how-convolutional-neural-networks-see-the-world.html)\n",
    "- [Еще про сверточные сети](https://habr.com/ru/post/348000/)"
   ]
  },
  {
   "cell_type": "code",
   "execution_count": null,
   "metadata": {
    "id": "X-lYf-Y5mwgI"
   },
   "outputs": [],
   "source": []
  }
 ],
 "metadata": {
  "colab": {
   "authorship_tag": "ABX9TyOQlFv2KNH/JxNkWnbQQ5aQ",
   "collapsed_sections": [],
   "name": "11-neural-networks-1.ipynb",
   "provenance": []
  },
  "kernelspec": {
   "display_name": "Python 3 (ipykernel)",
   "language": "python",
   "name": "python3"
  },
  "language_info": {
   "codemirror_mode": {
    "name": "ipython",
    "version": 3
   },
   "file_extension": ".py",
   "mimetype": "text/x-python",
   "name": "python",
   "nbconvert_exporter": "python",
   "pygments_lexer": "ipython3",
   "version": "3.8.12"
  }
 },
 "nbformat": 4,
 "nbformat_minor": 4
}
