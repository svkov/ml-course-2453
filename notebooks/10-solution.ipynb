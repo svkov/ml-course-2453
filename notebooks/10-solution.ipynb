{
 "cells": [
  {
   "cell_type": "markdown",
   "id": "010ff858-5216-4cb8-98b6-48c395e25eb6",
   "metadata": {},
   "source": [
    "## Задача\n",
    "\n",
    "Используя word2vec классифицировать тексты\n",
    "\n",
    "Алгоритм:\n",
    "\n",
    "- разделить на треин и тест выборки\n",
    "- обучить word2vec на треин выборке\n",
    "- написать функцию для составления вектора по документу (для этого нужно посчитать среднее векторов всех слов)\n",
    "- обучить модель, оценить результаты\n",
    "\n",
    "Для начала лучше взять небольшую выборку, чтобы проще было писать код (например, 2000 в треин и 5 примеров в тест). \n",
    "\n",
    "Когда убедились, что все работает, брать весь датасет.\n",
    "\n",
    "Функции, которые могут помочь и подсказки:\n",
    "\n",
    "- `model.wv.key_to_index` - словарь токен->номер токена. Можно взять список всех слов отсюда.\n",
    "- `model.wv[word]` - получаем вектор по слову. Не забываем применить предобработку!\n",
    "- может случиться так, что word2vec не будет знать какого-то слова из обучающей выборки. Тогда этому слову присваиваем нулевой вектор."
   ]
  },
  {
   "cell_type": "code",
   "execution_count": null,
   "id": "428c088b-1da2-4e04-a9c7-9666f7b036a3",
   "metadata": {},
   "outputs": [],
   "source": [
    "lr = LogisticRegression()\n",
    "words = model.wv.key_to_index.keys()\n",
    "\n",
    "vect_dict = {word:model.wv[word] for word in words}\n",
    "\n",
    "def word_to_vect(vect_dict, word):\n",
    "    example = vect_dict[list(vect_dict.keys())[0]]\n",
    "    return vect_dict.get(word, np.zeros_like(example))\n",
    "\n",
    "x = [np.array([word_to_vect(vect_dict, word) for word in sentence]).mean(axis=0) for sentence in processed_texts]\n",
    "\n",
    "x = np.array(x)\n",
    "\n",
    "lr.fit(x, df.iloc[:1000]['label_code'])\n",
    "\n",
    "test = df.iloc[1001:1005]\n",
    "\n",
    "processed_test = process_sentences(test)\n",
    "x_test = [np.array([word_to_vect(vect_dict, word) for word in sentence]).mean(axis=0) for sentence in processed_test]\n",
    "\n",
    "lr.predict(x_test)"
   ]
  }
 ],
 "metadata": {
  "kernelspec": {
   "display_name": "Python 3 (ipykernel)",
   "language": "python",
   "name": "python3"
  },
  "language_info": {
   "codemirror_mode": {
    "name": "ipython",
    "version": 3
   },
   "file_extension": ".py",
   "mimetype": "text/x-python",
   "name": "python",
   "nbconvert_exporter": "python",
   "pygments_lexer": "ipython3",
   "version": "3.9.7"
  }
 },
 "nbformat": 4,
 "nbformat_minor": 5
}
