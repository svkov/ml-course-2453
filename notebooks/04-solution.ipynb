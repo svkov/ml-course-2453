{
 "cells": [
  {
   "cell_type": "code",
   "execution_count": 1,
   "metadata": {},
   "outputs": [],
   "source": [
    "import numpy as np\n",
    "import pandas as pd\n",
    "import matplotlib.pyplot as plt\n",
    "\n",
    "from scipy.optimize import minimize"
   ]
  },
  {
   "cell_type": "markdown",
   "metadata": {},
   "source": [
    "## Задача\n",
    "\n",
    "Максимизировать функцию $g(x)=-x^5 - 10x^4 + 5x^3 + 10$\n",
    "\n",
    "P.S. функции maximize нет в scipy"
   ]
  },
  {
   "cell_type": "code",
   "execution_count": 2,
   "metadata": {},
   "outputs": [
    {
     "data": {
      "text/plain": [
       "      fun: -10.059275200004635\n",
       " hess_inv: array([[0.17768891]])\n",
       "      jac: array([1.1920929e-07])\n",
       "  message: 'Optimization terminated successfully.'\n",
       "     nfev: 42\n",
       "      nit: 20\n",
       "     njev: 21\n",
       "   status: 0\n",
       "  success: True\n",
       "        x: array([0.35889896])"
      ]
     },
     "execution_count": 2,
     "metadata": {},
     "output_type": "execute_result"
    }
   ],
   "source": [
    "def g(x):\n",
    "    return -x ** 5 - 10 * x ** 4 + 5 * x ** 3 + 10\n",
    "\n",
    "def maximize(func, x0):\n",
    "    return minimize(lambda x: -func(x), x0)\n",
    "\n",
    "maximize(g, 10)"
   ]
  },
  {
   "cell_type": "markdown",
   "metadata": {},
   "source": [
    "## Задача\n",
    "\n",
    "Построить график производной функции из прошлой задачи\n",
    "\n",
    "Производную можно вычислить аналитически и задать как функцию в python"
   ]
  },
  {
   "cell_type": "code",
   "execution_count": 3,
   "metadata": {},
   "outputs": [
    {
     "data": {
      "text/plain": [
       "[<matplotlib.lines.Line2D at 0x193962c1850>]"
      ]
     },
     "execution_count": 3,
     "metadata": {},
     "output_type": "execute_result"
    },
    {
     "data": {
      "image/png": "[encoded data removed]",
      "text/plain": [
       "<Figure size 432x288 with 1 Axes>"
      ]
     },
     "metadata": {
      "needs_background": "light"
     },
     "output_type": "display_data"
    }
   ],
   "source": [
    "def g_prime(x):\n",
    "    \"\"\"Производная функции g\"\"\"\n",
    "    return -5 * x ** 4 - 40 * x ** 3 + 15 * x ** 2\n",
    "\n",
    "x = np.arange(-1, 1, 0.1)\n",
    "y = g_prime(x)\n",
    "\n",
    "plt.plot(x, y)"
   ]
  },
  {
   "cell_type": "markdown",
   "metadata": {},
   "source": [
    "## Задача \n",
    "\n",
    "Диаметр подшипников, изготовленных на заводе, представляет собой случайную величину, распределенную нормально с математическим ожиданием 1,5 см и средним квадратическим отклонением 0,04 см.\n",
    "\n",
    "Найти вероятность того, что размер наугад взятого подшипника колеблется от 1,4 до 1,6 см.\n",
    "\n",
    "Оценить порядок величины можно при помощи правила трех сигм (точный ответ можно получить как в задаче выше)"
   ]
  },
  {
   "cell_type": "code",
   "execution_count": 5,
   "metadata": {},
   "outputs": [
    {
     "data": {
      "text/plain": [
       "98.76"
      ]
     },
     "execution_count": 5,
     "metadata": {},
     "output_type": "execute_result"
    }
   ],
   "source": [
    "import scipy.stats\n",
    "\n",
    "# Функция Лапласа для стандартного нормального распределения\n",
    "def normal_integral(x):\n",
    "    return scipy.stats.norm.cdf(x) - 0.5\n",
    "\n",
    "mean = 1.5\n",
    "std = 0.04\n",
    "a = (1.6 - mean) / std\n",
    "b = (1.4 - mean) / std\n",
    "answer = abs(normal_integral(b) - normal_integral(a))\n",
    "\n",
    "round(answer * 100, 2)"
   ]
  },
  {
   "cell_type": "markdown",
   "metadata": {},
   "source": [
    "Оценка по правилу трех сигм"
   ]
  },
  {
   "cell_type": "code",
   "execution_count": 14,
   "metadata": {},
   "outputs": [
    {
     "name": "stdout",
     "output_type": "stream",
     "text": [
      "(1.42, 1.58) - +- 2 сигмы\n",
      "(1.38, 1.62) - +- 3 сигмы\n",
      "[1.4, 1.6] содержится внутри [1.38, 1.62]\n"
     ]
    }
   ],
   "source": [
    "sigma_2 = (mean - 2 * std, mean + 2 * std)\n",
    "sigma_3 = (mean - 3 * std, mean + 3 * std)\n",
    "print(sigma_2, '- +- 2 сигмы')\n",
    "print(sigma_3, '- +- 3 сигмы')\n",
    "\n",
    "for left_border, right_border in [sigma_2, sigma_3]:\n",
    "    if left_border <= 1.4 <= right_border and \\\n",
    "        left_border <= 1.6 <= right_border:\n",
    "        print(f'[1.4, 1.6] содержится внутри [{left_border:.2f}, {right_border:.2f}]')"
   ]
  },
  {
   "cell_type": "markdown",
   "metadata": {},
   "source": [
    "## Задача\n",
    "\n",
    "По данным о погоде определить:\n",
    "\n",
    "- вероятность того, что температура будет в промежутке от 10 до 20 градусов\n",
    "- вероятность того, что температура изменится больше, чем на 5 градусов на следующий день\n",
    "- вероятность получить отрицательную температуру зимой"
   ]
  },
  {
   "cell_type": "code",
   "execution_count": 15,
   "metadata": {},
   "outputs": [
    {
     "data": {
      "text/html": [
       "<div>\n",
       "<style scoped>\n",
       "    .dataframe tbody tr th:only-of-type {\n",
       "        vertical-align: middle;\n",
       "    }\n",
       "\n",
       "    .dataframe tbody tr th {\n",
       "        vertical-align: top;\n",
       "    }\n",
       "\n",
       "    .dataframe thead th {\n",
       "        text-align: right;\n",
       "    }\n",
       "</style>\n",
       "<table border=\"1\" class=\"dataframe\">\n",
       "  <thead>\n",
       "    <tr style=\"text-align: right;\">\n",
       "      <th></th>\n",
       "      <th>t</th>\n",
       "    </tr>\n",
       "    <tr>\n",
       "      <th>Day</th>\n",
       "      <th></th>\n",
       "    </tr>\n",
       "  </thead>\n",
       "  <tbody>\n",
       "    <tr>\n",
       "      <th>2008-01-01</th>\n",
       "      <td>0</td>\n",
       "    </tr>\n",
       "    <tr>\n",
       "      <th>2008-01-02</th>\n",
       "      <td>-5</td>\n",
       "    </tr>\n",
       "    <tr>\n",
       "      <th>2008-01-03</th>\n",
       "      <td>-11</td>\n",
       "    </tr>\n",
       "    <tr>\n",
       "      <th>2008-01-04</th>\n",
       "      <td>-11</td>\n",
       "    </tr>\n",
       "    <tr>\n",
       "      <th>2008-01-05</th>\n",
       "      <td>-12</td>\n",
       "    </tr>\n",
       "  </tbody>\n",
       "</table>\n",
       "</div>"
      ],
      "text/plain": [
       "             t\n",
       "Day           \n",
       "2008-01-01   0\n",
       "2008-01-02  -5\n",
       "2008-01-03 -11\n",
       "2008-01-04 -11\n",
       "2008-01-05 -12"
      ]
     },
     "execution_count": 15,
     "metadata": {},
     "output_type": "execute_result"
    }
   ],
   "source": [
    "# Ваш код здесь\n",
    "df = pd.read_csv('data/weather.csv', index_col=0, parse_dates=True)\n",
    "df.head()"
   ]
  },
  {
   "cell_type": "markdown",
   "metadata": {},
   "source": [
    "Вероятность того, что температура будет в промежутке от 10 до 20 градусов"
   ]
  },
  {
   "cell_type": "code",
   "execution_count": 25,
   "metadata": {},
   "outputs": [
    {
     "data": {
      "text/plain": [
       "0.2800608828006088"
      ]
     },
     "execution_count": 25,
     "metadata": {},
     "output_type": "execute_result"
    }
   ],
   "source": [
    "df[(df['t'] > 10) & (df['t'] < 20)]['t'].count() / df['t'].count()"
   ]
  },
  {
   "cell_type": "markdown",
   "metadata": {},
   "source": [
    "Вероятность того, что температура изменится больше, чем на 5 градусов на следующий день"
   ]
  },
  {
   "cell_type": "code",
   "execution_count": 21,
   "metadata": {},
   "outputs": [
    {
     "data": {
      "text/plain": [
       "0.08252131546894031"
      ]
     },
     "execution_count": 21,
     "metadata": {},
     "output_type": "execute_result"
    }
   ],
   "source": [
    "diff_t = df['t'].diff().dropna().abs()\n",
    "diff_t[diff_t > 5].count() / diff_t.count()"
   ]
  },
  {
   "cell_type": "markdown",
   "metadata": {},
   "source": [
    "Вероятность получить отрицательную температуру зимой"
   ]
  },
  {
   "cell_type": "code",
   "execution_count": 29,
   "metadata": {},
   "outputs": [
    {
     "data": {
      "text/plain": [
       "0.6108374384236454"
      ]
     },
     "execution_count": 29,
     "metadata": {},
     "output_type": "execute_result"
    }
   ],
   "source": [
    "df['month'] = df.index.month\n",
    "winter_df = df[df['month'].isin([12, 1, 2])]\n",
    "winter_df[winter_df['t'] < 0]['t'].count() / winter_df['t'].count()"
   ]
  },
  {
   "cell_type": "markdown",
   "metadata": {},
   "source": [
    "## Задача\n",
    "\n",
    "По тем же данным посчитать:\n",
    "\n",
    "- вероятность получить отрицательную температуру, используя формулу полной вероятности (для времен года).\n",
    "- вероятность, что сейчас зима, если известно, что температура отрицательна."
   ]
  },
  {
   "cell_type": "code",
   "execution_count": null,
   "metadata": {},
   "outputs": [],
   "source": [
    "# To be continue"
   ]
  }
 ],
 "metadata": {
  "interpreter": {
   "hash": "3c60d125f86ecb331b65a8423cf0cca4676faa8812a500d14a58b02fbd427a36"
  },
  "kernelspec": {
   "display_name": "Python 3.9.7 64-bit ('data-science-class': conda)",
   "name": "python3"
  },
  "language_info": {
   "codemirror_mode": {
    "name": "ipython",
    "version": 3
   },
   "file_extension": ".py",
   "mimetype": "text/x-python",
   "name": "python",
   "nbconvert_exporter": "python",
   "pygments_lexer": "ipython3",
   "version": "3.9.7"
  },
  "orig_nbformat": 4
 },
 "nbformat": 4,
 "nbformat_minor": 2
}
