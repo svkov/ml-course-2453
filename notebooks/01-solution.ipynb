{
 "cells": [
  {
   "cell_type": "markdown",
   "id": "344e7e0e-74ba-4a10-b191-31ad448bba93",
   "metadata": {},
   "source": [
    "## Задача\n",
    "\n",
    "Перевести к типу `int` переменную float_variable."
   ]
  },
  {
   "cell_type": "code",
   "execution_count": 1,
   "id": "e7b97433-61dd-485e-abd7-b547491ee736",
   "metadata": {},
   "outputs": [
    {
     "name": "stdout",
     "output_type": "stream",
     "text": [
      "1 <class 'int'>\n"
     ]
    }
   ],
   "source": [
    "float_variable = 1.3\n",
    "converted_int_variable = int(float_variable)\n",
    "print(converted_int_variable, type(converted_int_variable))"
   ]
  },
  {
   "cell_type": "markdown",
   "id": "4df50229-3ce5-437f-804e-271569adc528",
   "metadata": {},
   "source": [
    "## Задача\n",
    "\n",
    "Проверить, делится ли число 85439372 нацело на 3. Для этого можно использовать оператор `%` - остаток от деления"
   ]
  },
  {
   "cell_type": "code",
   "execution_count": 2,
   "id": "23a1a499-ec1d-4ee6-8dc3-bdd7b3af9718",
   "metadata": {},
   "outputs": [
    {
     "name": "stdout",
     "output_type": "stream",
     "text": [
      "Не делится нацело\n"
     ]
    }
   ],
   "source": [
    "if 85439372 % 3 == 0:\n",
    "    print('Делится нацело')\n",
    "else:\n",
    "    print('Не делится нацело')"
   ]
  },
  {
   "cell_type": "markdown",
   "id": "13513f39-560e-46ea-bba5-feb8979f7824",
   "metadata": {},
   "source": [
    "## Задача\n",
    "\n",
    "Вывести числа от 10 до 1 (в обратном порядке)"
   ]
  },
  {
   "cell_type": "code",
   "execution_count": 3,
   "id": "9c49a485-a8ab-416c-9b6e-9c041da98ed8",
   "metadata": {},
   "outputs": [
    {
     "name": "stdout",
     "output_type": "stream",
     "text": [
      "10 9 8 7 6 5 4 3 2 "
     ]
    }
   ],
   "source": [
    "for i in range(10, 1, -1):\n",
    "    print(i, end=\" \")"
   ]
  },
  {
   "cell_type": "markdown",
   "id": "f053388d-f01c-47a8-bb36-e9f490b4149b",
   "metadata": {},
   "source": [
    "## Задача\n",
    "\n",
    "Напишем функцию, которая принимает два аргумента - `a` и `b` и возвращает числа от a до b, деленные на 2.\n",
    "\n",
    "Пример:\n",
    "\n",
    "```python\n",
    "div2(1, 5)\n",
    "# [0.5, 1.0, 1.5, 2.0]\n",
    "```"
   ]
  },
  {
   "cell_type": "code",
   "execution_count": 4,
   "id": "5e4c674e-cd05-47d7-8dcd-01d082b5d73e",
   "metadata": {},
   "outputs": [],
   "source": [
    "# 1 вариант\n",
    "def div2_1(a, b):\n",
    "    new_list = []\n",
    "    for i in range(a, b):\n",
    "        new_list.append(i / 2)\n",
    "    return new_list\n",
    "\n",
    "# 2 вариант\n",
    "def div2_2(a, b):\n",
    "    return [i / 2 for i in range(a, b)]"
   ]
  },
  {
   "cell_type": "code",
   "execution_count": 5,
   "id": "c03d1bd6-1b8e-44d9-a5b2-8245fdc01a4a",
   "metadata": {},
   "outputs": [
    {
     "name": "stdout",
     "output_type": "stream",
     "text": [
      "[0.5, 1.0, 1.5, 2.0]\n",
      "[0.5, 1.0, 1.5, 2.0]\n"
     ]
    }
   ],
   "source": [
    "print(div2_1(1, 5))\n",
    "print(div2_2(1, 5))"
   ]
  },
  {
   "cell_type": "markdown",
   "id": "689ae696-6842-4271-a1d1-867fa10c9aee",
   "metadata": {},
   "source": [
    "# Решаем квадратное уравнение\n",
    "\n",
    "Нужно написать код функции, которая на вход принимает коэфициенты a, b и c квадратного уравнения и считает ответ.\n",
    "\n",
    "Если корня два, то нужно вернуть кортеж вида $(x1, x2)$, где $x1 < x2$\n",
    "\n",
    "Если корень один, то просто возвращаем число\n",
    "\n",
    "Если корней нет, то возвращаем `None`"
   ]
  },
  {
   "cell_type": "code",
   "execution_count": 6,
   "id": "947aeef4-9a4b-4348-b463-9dc444f250a1",
   "metadata": {},
   "outputs": [],
   "source": [
    "from math import sqrt\n",
    "\n",
    "def solve_quadratic(a, b, c):\n",
    "    if a == 0:\n",
    "        if b == 0:\n",
    "            # Уравнение вида c = 0, решение нет\n",
    "            return None\n",
    "        return -c / b\n",
    "    d = b * b - 4 * a * c\n",
    "    if d > 0:\n",
    "        x1 = (-b + sqrt(d)) / (2 * a)\n",
    "        x2 = (-b - sqrt(d)) / (2 * a)\n",
    "        # Возвращаем в порядке возрастания\n",
    "        return min(x1, x2), max(x1, x2)\n",
    "    elif d == 0:\n",
    "        return -b / (2 * a)\n",
    "    else:\n",
    "        return None"
   ]
  },
  {
   "cell_type": "markdown",
   "id": "bd351039-b158-42e6-86dd-8715325cd429",
   "metadata": {},
   "source": [
    "Проверка решения. Полученный корень подставляем в исходное уравнение и проверяем, что решение близко к нулю."
   ]
  },
  {
   "cell_type": "code",
   "execution_count": 15,
   "id": "75f31989-045a-48f4-adf7-7525a39d56cf",
   "metadata": {},
   "outputs": [],
   "source": [
    "def calculate_quadratic(a, b, c, x):\n",
    "    return a * x ** 2 + b * x + c\n",
    "\n",
    "def test_quadratic(a, b, c):\n",
    "    result = solve_quadratic(a, b, c)\n",
    "    if b * b - 4 * a * c < 0:\n",
    "        assert result is None\n",
    "        return\n",
    "    from typing import Iterable\n",
    "    if isinstance(result, Iterable):\n",
    "        x1, x2 = result\n",
    "        assert abs(calculate_quadratic(a, b, c, x1)) < 0.00001\n",
    "        assert abs(calculate_quadratic(a, b, c, x2)) < 0.00001\n",
    "    else:\n",
    "        x = result\n",
    "        assert abs(calculate_quadratic(a, b, c, x)) < 0.00001"
   ]
  },
  {
   "cell_type": "markdown",
   "id": "35047667-d9c7-46e9-bc60-6abef8cb9cb6",
   "metadata": {},
   "source": [
    "Тестовые кейсы"
   ]
  },
  {
   "cell_type": "code",
   "execution_count": 20,
   "id": "1412b0e6-c1f1-4633-b212-37f159065348",
   "metadata": {},
   "outputs": [],
   "source": [
    "test_quadratic(1, -2, -3) # два корня\n",
    "test_quadratic(1, 12, 36) # один корень\n",
    "test_quadratic(1, 0, 0)\n",
    "test_quadratic(0, 1, 0)\n",
    "test_quadratic(2, 4, -7) # два корня\n",
    "test_quadratic(1, 6, 9) # один корень\n",
    "test_quadratic(2, 4, 7) # нет корней"
   ]
  }
 ],
 "metadata": {
  "kernelspec": {
   "display_name": "Python 3 (ipykernel)",
   "language": "python",
   "name": "python3"
  },
  "language_info": {
   "codemirror_mode": {
    "name": "ipython",
    "version": 3
   },
   "file_extension": ".py",
   "mimetype": "text/x-python",
   "name": "python",
   "nbconvert_exporter": "python",
   "pygments_lexer": "ipython3",
   "version": "3.9.7"
  }
 },
 "nbformat": 4,
 "nbformat_minor": 5
}
