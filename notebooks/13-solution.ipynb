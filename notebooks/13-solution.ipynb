{
 "cells": [
  {
   "cell_type": "markdown",
   "id": "8c3d0c49-9fa1-4878-b5fa-1819646837ee",
   "metadata": {},
   "source": [
    "## Скачиваем данные\n",
    "\n",
    "Получаем на Kaggle токен (файл kaggle.json), устанавливаем kaggle в нужное окружение:\n",
    "\n",
    "`pip install kaggle`\n",
    "\n",
    "Затем пытаемся скачать данные:"
   ]
  },
  {
   "cell_type": "code",
   "execution_count": 1,
   "id": "73ea5920-417a-48f8-a6c7-2751d8b0f420",
   "metadata": {},
   "outputs": [
    {
     "name": "stderr",
     "output_type": "stream",
     "text": [
      "Traceback (most recent call last):\n",
      "  File \"C:\\Users\\koval\\anaconda3\\envs\\data-science-class\\lib\\runpy.py\", line 197, in _run_module_as_main\n",
      "    return _run_code(code, main_globals, None,\n",
      "  File \"C:\\Users\\koval\\anaconda3\\envs\\data-science-class\\lib\\runpy.py\", line 87, in _run_code\n",
      "    exec(code, run_globals)\n",
      "  File \"C:\\Users\\koval\\anaconda3\\envs\\data-science-class\\Scripts\\kaggle.exe\\__main__.py\", line 4, in <module>\n",
      "  File \"C:\\Users\\koval\\anaconda3\\envs\\data-science-class\\lib\\site-packages\\kaggle\\__init__.py\", line 23, in <module>\n",
      "    api.authenticate()\n",
      "  File \"C:\\Users\\koval\\anaconda3\\envs\\data-science-class\\lib\\site-packages\\kaggle\\api\\kaggle_api_extended.py\", line 164, in authenticate\n",
      "    raise IOError('Could not find {}. Make sure it\\'s located in'\n",
      "OSError: Could not find kaggle.json. Make sure it's located in C:\\Users\\koval\\.kaggle. Or use the environment method.\n"
     ]
    }
   ],
   "source": [
    "! kaggle datasets download -d jp797498e/twitter-entity-sentiment-analysis"
   ]
  },
  {
   "cell_type": "markdown",
   "id": "408b2c60-3d10-44cc-b5f1-6ceaaf534124",
   "metadata": {},
   "source": [
    "Ошибка говорит о том, что библиотека не может найти файл kaggle.json в папке `C:\\Users\\<имя пользователя>\\.kaggle`\n",
    "\n",
    "Переносим файл в эту папку, пробуем еще раз"
   ]
  },
  {
   "cell_type": "code",
   "execution_count": 2,
   "id": "35c06885-1865-4242-8297-62c3d7d4ef16",
   "metadata": {},
   "outputs": [
    {
     "name": "stdout",
     "output_type": "stream",
     "text": [
      "Downloading twitter-entity-sentiment-analysis.zip to C:\\Users\\koval\\PycharmProjects\\ml-course-brunoyam\n",
      "\n"
     ]
    },
    {
     "name": "stderr",
     "output_type": "stream",
     "text": [
      "\n",
      "  0%|          | 0.00/1.99M [00:00<?, ?B/s]\n",
      " 50%|#####     | 1.00M/1.99M [00:02<00:02, 459kB/s]\n",
      "100%|##########| 1.99M/1.99M [00:02<00:00, 793kB/s]\n",
      "100%|##########| 1.99M/1.99M [00:02<00:00, 714kB/s]\n"
     ]
    }
   ],
   "source": [
    "! kaggle datasets download -d jp797498e/twitter-entity-sentiment-analysis"
   ]
  },
  {
   "cell_type": "markdown",
   "id": "2e1b5e2e-a23f-4b02-a6ac-a5408e06b12e",
   "metadata": {},
   "source": [
    "Разархивируем данные в папку data"
   ]
  },
  {
   "cell_type": "code",
   "execution_count": 6,
   "id": "72c196df-f9d2-4598-8fd2-71894708110c",
   "metadata": {},
   "outputs": [],
   "source": [
    "! tar -xf twitter-entity-sentiment-analysis.zip --directory data"
   ]
  },
  {
   "cell_type": "markdown",
   "id": "5b0d650e-f5fb-4eca-a824-457b113439b4",
   "metadata": {},
   "source": [
    "## Прочитаем данные"
   ]
  },
  {
   "cell_type": "code",
   "execution_count": 34,
   "id": "45b804bc-f1ec-484d-b888-3f9cee70c4d2",
   "metadata": {},
   "outputs": [],
   "source": [
    "import pandas as pd\n",
    "import numpy as np\n",
    "import matplotlib.pyplot as plt\n",
    "import re\n",
    "from nltk.stem import PorterStemmer\n",
    "from sklearn.pipeline import Pipeline\n",
    "from sklearn.feature_extraction.text import CountVectorizer\n",
    "from sklearn.feature_extraction.text import TfidfTransformer\n",
    "from sklearn.linear_model import LogisticRegression\n",
    "from sklearn.ensemble import RandomForestClassifier\n",
    "from sklearn.model_selection import train_test_split\n",
    "import pickle"
   ]
  },
  {
   "cell_type": "code",
   "execution_count": 24,
   "id": "54d90389-d94e-4cf3-91e2-020d3fc77c41",
   "metadata": {},
   "outputs": [
    {
     "data": {
      "text/html": [
       "<div>\n",
       "<style scoped>\n",
       "    .dataframe tbody tr th:only-of-type {\n",
       "        vertical-align: middle;\n",
       "    }\n",
       "\n",
       "    .dataframe tbody tr th {\n",
       "        vertical-align: top;\n",
       "    }\n",
       "\n",
       "    .dataframe thead th {\n",
       "        text-align: right;\n",
       "    }\n",
       "</style>\n",
       "<table border=\"1\" class=\"dataframe\">\n",
       "  <thead>\n",
       "    <tr style=\"text-align: right;\">\n",
       "      <th></th>\n",
       "      <th>tweet_id</th>\n",
       "      <th>entity</th>\n",
       "      <th>sentiment</th>\n",
       "      <th>content</th>\n",
       "    </tr>\n",
       "  </thead>\n",
       "  <tbody>\n",
       "    <tr>\n",
       "      <th>0</th>\n",
       "      <td>2401</td>\n",
       "      <td>Borderlands</td>\n",
       "      <td>Positive</td>\n",
       "      <td>im getting on borderlands and i will murder yo...</td>\n",
       "    </tr>\n",
       "    <tr>\n",
       "      <th>1</th>\n",
       "      <td>2401</td>\n",
       "      <td>Borderlands</td>\n",
       "      <td>Positive</td>\n",
       "      <td>I am coming to the borders and I will kill you...</td>\n",
       "    </tr>\n",
       "    <tr>\n",
       "      <th>2</th>\n",
       "      <td>2401</td>\n",
       "      <td>Borderlands</td>\n",
       "      <td>Positive</td>\n",
       "      <td>im getting on borderlands and i will kill you ...</td>\n",
       "    </tr>\n",
       "    <tr>\n",
       "      <th>3</th>\n",
       "      <td>2401</td>\n",
       "      <td>Borderlands</td>\n",
       "      <td>Positive</td>\n",
       "      <td>im coming on borderlands and i will murder you...</td>\n",
       "    </tr>\n",
       "    <tr>\n",
       "      <th>4</th>\n",
       "      <td>2401</td>\n",
       "      <td>Borderlands</td>\n",
       "      <td>Positive</td>\n",
       "      <td>im getting on borderlands 2 and i will murder ...</td>\n",
       "    </tr>\n",
       "  </tbody>\n",
       "</table>\n",
       "</div>"
      ],
      "text/plain": [
       "   tweet_id       entity sentiment  \\\n",
       "0      2401  Borderlands  Positive   \n",
       "1      2401  Borderlands  Positive   \n",
       "2      2401  Borderlands  Positive   \n",
       "3      2401  Borderlands  Positive   \n",
       "4      2401  Borderlands  Positive   \n",
       "\n",
       "                                             content  \n",
       "0  im getting on borderlands and i will murder yo...  \n",
       "1  I am coming to the borders and I will kill you...  \n",
       "2  im getting on borderlands and i will kill you ...  \n",
       "3  im coming on borderlands and i will murder you...  \n",
       "4  im getting on borderlands 2 and i will murder ...  "
      ]
     },
     "execution_count": 24,
     "metadata": {},
     "output_type": "execute_result"
    }
   ],
   "source": [
    "df = pd.read_csv('data/twitter_training.csv', header=None)\n",
    "df.columns = ['tweet_id', 'entity', 'sentiment', 'content']\n",
    "df.head()"
   ]
  },
  {
   "cell_type": "code",
   "execution_count": 25,
   "id": "b290dad7-a4a1-4d66-9baa-9216e53cd815",
   "metadata": {},
   "outputs": [],
   "source": [
    "df['sentiment'] = pd.Categorical(df['sentiment'])\n",
    "df = df.dropna()"
   ]
  },
  {
   "cell_type": "code",
   "execution_count": 26,
   "id": "1d638416-bbbd-4a33-8f5b-38ac6b9cd275",
   "metadata": {},
   "outputs": [
    {
     "data": {
      "text/plain": [
       "Text(0.5, 1.0, 'Гистограмма сбалансированности классов')"
      ]
     },
     "execution_count": 26,
     "metadata": {},
     "output_type": "execute_result"
    },
    {
     "data": {
      "image/png": "[encoded data removed]",
      "text/plain": [
       "<Figure size 432x288 with 1 Axes>"
      ]
     },
     "metadata": {
      "needs_background": "light"
     },
     "output_type": "display_data"
    }
   ],
   "source": [
    "df['sentiment'].hist()\n",
    "plt.ylabel('Частота')\n",
    "plt.title('Гистограмма сбалансированности классов')"
   ]
  },
  {
   "cell_type": "code",
   "execution_count": 27,
   "id": "7a1b83ee-ee57-459f-b448-44a47afa6fbe",
   "metadata": {},
   "outputs": [
    {
     "data": {
      "text/plain": [
       "'check preprocess on some word'"
      ]
     },
     "execution_count": 27,
     "metadata": {},
     "output_type": "execute_result"
    }
   ],
   "source": [
    "stemmer = PorterStemmer()\n",
    "\n",
    "def remove_punctuation(sentence):\n",
    "    return re.sub(r'[^\\w\\s]', '', sentence.lower())\n",
    "\n",
    "def stem_sentence(sentence):\n",
    "    words = sentence.split()\n",
    "    stemmed_words = [stemmer.stem(word) for word in words]\n",
    "    return ' '.join(stemmed_words)\n",
    "\n",
    "def preprocess_sentence(sentence):\n",
    "    return stem_sentence(remove_punctuation(sentence))\n",
    "\n",
    "preprocess_sentence('check, preprocessing, on, some, words,')"
   ]
  },
  {
   "cell_type": "code",
   "execution_count": 28,
   "id": "58caba31-ef1d-4e5b-b0a8-3635b064516b",
   "metadata": {},
   "outputs": [],
   "source": [
    "df['processed_content'] = df['content'].apply(preprocess_sentence)"
   ]
  },
  {
   "cell_type": "code",
   "execution_count": 30,
   "id": "549fb5af-b06c-4396-b17c-88bfa97eb8b0",
   "metadata": {},
   "outputs": [],
   "source": [
    "pipeline_lr = Pipeline(\n",
    "    [\n",
    "        (\"vect\", CountVectorizer()),\n",
    "        (\"tfidf\", TfidfTransformer()),\n",
    "        (\"clf\", LogisticRegression()),\n",
    "    ]\n",
    ")\n",
    "pipeline_rf = Pipeline(\n",
    "    [\n",
    "        (\"vect\", CountVectorizer()),\n",
    "        (\"tfidf\", TfidfTransformer()),\n",
    "        (\"clf\", RandomForestClassifier()),\n",
    "    ]\n",
    ")"
   ]
  },
  {
   "cell_type": "code",
   "execution_count": 32,
   "id": "6ef0c7bc-be01-48c1-9bc0-3c08e2e32443",
   "metadata": {},
   "outputs": [],
   "source": [
    "def fit_and_score_pipeline(df, pipeline):\n",
    "    train, test = train_test_split(df)\n",
    "    pipeline.fit(train['processed_content'], train['sentiment'])\n",
    "    return pipeline.score(test['processed_content'], test['sentiment'])"
   ]
  },
  {
   "cell_type": "code",
   "execution_count": 33,
   "id": "29b4a757-baae-409b-b26d-2a245c564dcb",
   "metadata": {},
   "outputs": [
    {
     "name": "stderr",
     "output_type": "stream",
     "text": [
      "C:\\Users\\koval\\anaconda3\\envs\\data-science-class\\lib\\site-packages\\sklearn\\linear_model\\_logistic.py:814: ConvergenceWarning: lbfgs failed to converge (status=1):\n",
      "STOP: TOTAL NO. of ITERATIONS REACHED LIMIT.\n",
      "\n",
      "Increase the number of iterations (max_iter) or scale the data as shown in:\n",
      "    https://scikit-learn.org/stable/modules/preprocessing.html\n",
      "Please also refer to the documentation for alternative solver options:\n",
      "    https://scikit-learn.org/stable/modules/linear_model.html#logistic-regression\n",
      "  n_iter_i = _check_optimize_result(\n"
     ]
    },
    {
     "data": {
      "text/plain": [
       "(0.7531758473430996, 0.9074544569976756)"
      ]
     },
     "execution_count": 33,
     "metadata": {},
     "output_type": "execute_result"
    }
   ],
   "source": [
    "fit_and_score_pipeline(df, pipeline_lr), fit_and_score_pipeline(df, pipeline_rf)"
   ]
  },
  {
   "cell_type": "markdown",
   "id": "b21b4054-9d84-48ef-924e-2454c14813c7",
   "metadata": {},
   "source": [
    "Случайный лес работает значительно лучше, сохраним этот пайплайн в файл и будем дальше использовать"
   ]
  },
  {
   "cell_type": "code",
   "execution_count": 36,
   "id": "45a40163-6fcb-4640-aa04-b2a3080d9736",
   "metadata": {},
   "outputs": [],
   "source": [
    "def save_model(model, path):\n",
    "    serialized_model = pickle.dumps(model)\n",
    "    with open(path, 'wb+') as file:\n",
    "        file.write(serialized_model)\n",
    "\n",
    "def load_model(path):\n",
    "    with open(path, 'rb') as file:\n",
    "        content = file.read()\n",
    "    return pickle.loads(content)"
   ]
  },
  {
   "cell_type": "code",
   "execution_count": 37,
   "id": "4357c4ff-3b49-429b-b784-38365d9749f5",
   "metadata": {},
   "outputs": [],
   "source": [
    "save_model(pipeline_rf, 'random_forest.pickle')"
   ]
  },
  {
   "cell_type": "markdown",
   "id": "32e1a0b5-9eb9-4f41-9670-0e3aabd9c3c3",
   "metadata": {},
   "source": [
    "Если хотим получать предсказание, можем написать такую функцию"
   ]
  },
  {
   "cell_type": "code",
   "execution_count": 38,
   "id": "1160296f-383c-43c1-985a-bb021230f247",
   "metadata": {},
   "outputs": [],
   "source": [
    "def predict(model, inp_string):\n",
    "    model_input = preprocess_sentence(inp_string)\n",
    "    return model.predict([model_input])"
   ]
  },
  {
   "cell_type": "code",
   "execution_count": 43,
   "id": "e558d2d1-94cf-48bf-8802-71b2d1f5f2a9",
   "metadata": {},
   "outputs": [
    {
     "data": {
      "text/plain": [
       "array(['Positive'], dtype=object)"
      ]
     },
     "execution_count": 43,
     "metadata": {},
     "output_type": "execute_result"
    }
   ],
   "source": [
    "predict(pipeline_rf, 'I really appreciate this')"
   ]
  },
  {
   "cell_type": "markdown",
   "id": "c7fb7c27-15fb-4404-99d4-c9f93ed66a55",
   "metadata": {},
   "source": [
    "Перенесем наши наработки в скрипты:\n",
    "\n",
    "- `train.py` - обучает модель и сохраняет ее в файл\n",
    "- `predict.py` - загружает модель из файла и предсказываем сентимент входных данных"
   ]
  },
  {
   "cell_type": "code",
   "execution_count": 46,
   "id": "271654f9-23e2-42d3-b922-f43c68d6792d",
   "metadata": {},
   "outputs": [
    {
     "name": "stdout",
     "output_type": "stream",
     "text": [
      "On training data accuracy: 0.9095086220876805\n"
     ]
    }
   ],
   "source": [
    "!python -m src.train data/twitter_training.csv random_forest.pickle"
   ]
  },
  {
   "cell_type": "code",
   "execution_count": 44,
   "id": "80c6d189-b93c-4dc8-bd5e-47a2f030769d",
   "metadata": {},
   "outputs": [
    {
     "name": "stdout",
     "output_type": "stream",
     "text": [
      "\"i appreciate this\" - Positive\n"
     ]
    }
   ],
   "source": [
    "!python -m src.predict random_forest.pickle \"i appreciate this\""
   ]
  },
  {
   "cell_type": "code",
   "execution_count": 45,
   "id": "991e5f34-560c-42e7-8da0-c60ef4756ee0",
   "metadata": {},
   "outputs": [
    {
     "name": "stdout",
     "output_type": "stream",
     "text": [
      "\"i hate this\" - Negative\n"
     ]
    }
   ],
   "source": [
    "!python -m src.predict random_forest.pickle \"i hate this\""
   ]
  },
  {
   "cell_type": "markdown",
   "id": "affe47ce-6071-469d-9f7a-2836e6898744",
   "metadata": {},
   "source": [
    "## В качестве практики можете написать скрипт, который будет загружать модель и прогнонять на тестовых данных"
   ]
  }
 ],
 "metadata": {
  "kernelspec": {
   "display_name": "Python 3 (ipykernel)",
   "language": "python",
   "name": "python3"
  },
  "language_info": {
   "codemirror_mode": {
    "name": "ipython",
    "version": 3
   },
   "file_extension": ".py",
   "mimetype": "text/x-python",
   "name": "python",
   "nbconvert_exporter": "python",
   "pygments_lexer": "ipython3",
   "version": "3.9.7"
  }
 },
 "nbformat": 4,
 "nbformat_minor": 5
}
