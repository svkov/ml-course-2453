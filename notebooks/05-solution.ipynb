{
 "cells": [
  {
   "cell_type": "code",
   "execution_count": 1,
   "id": "a4d1cb3a-9d99-4985-8915-fd5158a52c79",
   "metadata": {},
   "outputs": [],
   "source": [
    "import numpy as np\n",
    "import pandas as pd\n",
    "import scipy\n",
    "import scipy.stats\n",
    "import matplotlib.pyplot as plt"
   ]
  },
  {
   "cell_type": "markdown",
   "id": "e16c017c-2548-4660-9332-e07cc2d580a6",
   "metadata": {},
   "source": [
    "## Задача\n",
    "\n",
    "Вычислить вероятность того, что обезьяна напишет слово \"абракадабра\" на клавиатуре с 40 клавишами."
   ]
  },
  {
   "cell_type": "code",
   "execution_count": 3,
   "id": "9d9080a6-8a8d-470e-abd0-1c53ffd47765",
   "metadata": {},
   "outputs": [
    {
     "data": {
      "text/plain": [
       "2.3841857910156264e-18"
      ]
     },
     "execution_count": 3,
     "metadata": {},
     "output_type": "execute_result"
    }
   ],
   "source": [
    "word = 'абракадабра'\n",
    "n_keys = 40\n",
    "\n",
    "# Ваш код здесь\n",
    "\n",
    "(1 / n_keys) ** len(word)"
   ]
  },
  {
   "cell_type": "markdown",
   "id": "4c5af7f0-46ac-403d-aa8f-b765fc102b6f",
   "metadata": {},
   "source": [
    "## Задача\n",
    "\n",
    "Для бета-распределения с параметрами 1 и 0.1, найти n, для которого распределение средних значений выборок будет похоже на нормальное."
   ]
  },
  {
   "cell_type": "code",
   "execution_count": null,
   "id": "f23dcdfc-5015-4989-ae1f-a2cd4054b1a7",
   "metadata": {},
   "outputs": [],
   "source": [
    "n = 100\n",
    "means = np.random.beta(1, 0.1, size=(1000, n)).mean(axis=1)\n",
    "plt.hist(means)"
   ]
  },
  {
   "cell_type": "markdown",
   "id": "0e92186a-1ef0-4dbc-bb56-f426dc78f6e7",
   "metadata": {},
   "source": [
    "\n",
    "## Задача \n",
    "\n",
    "Человечество изобрело лекарство от рака! Клинические тесты показали, что оно действует с уровнем значимости 0.05, но у лекарства очень плохие побочные эффекты. \n",
    "\n",
    "Первая партия лекарства составила 50 млн ампул.\n",
    "\n",
    "Сколько людей можно было бы спасти, если бы проводимый тест был с уровнем значимости 0.01?"
   ]
  },
  {
   "cell_type": "code",
   "execution_count": 2,
   "id": "e2d4d7f8-0139-4029-94b5-66cdd5b6d91f",
   "metadata": {},
   "outputs": [
    {
     "data": {
      "text/plain": [
       "2000000.0"
      ]
     },
     "execution_count": 2,
     "metadata": {},
     "output_type": "execute_result"
    }
   ],
   "source": [
    "n = 50000000\n",
    "u = 0.05\n",
    "better_u = 0.01\n",
    "\n",
    "(u - better_u) * n"
   ]
  },
  {
   "cell_type": "markdown",
   "id": "79813e75-0995-4769-be79-b30230d06eb6",
   "metadata": {},
   "source": [
    "## Задача\n",
    "\n",
    "Реализовать функцию для подсчета одновыборочного t-критерия Стьюдента\n",
    "\n",
    "## $T = \\frac{a - a_0}{\\sigma / \\sqrt{df}}$\n",
    "\n",
    "$df$ - количество степеней свободы и равно $n - 1$"
   ]
  },
  {
   "cell_type": "code",
   "execution_count": 3,
   "id": "4e1a4785-3230-4f7c-a285-557cdb739da5",
   "metadata": {},
   "outputs": [],
   "source": [
    "def t_stat(sample_mean, a0, std, df):\n",
    "    return (sample_mean - a0) / (std / sqrt(df))"
   ]
  },
  {
   "cell_type": "markdown",
   "id": "c07e2d43-ebe1-42ac-b28e-6007cb475e9b",
   "metadata": {},
   "source": [
    "## Задача\n",
    "\n",
    "Сгенерировать две выборки роста людей с одинаковыми дисперсиями и разными матожиданиями (из нормального распределения). \n",
    "\n",
    "Опровергнуть гипотезу $H_0$ о том, что матожидания этих распределений равны.\n",
    "\n",
    "Для решения можно использовать `scipy.stats.ttest_ind`.\n",
    "\n",
    "Важно: тест работает только для распределений с равными дисперсиями. Можно поставить разные дисперсии и одинаковые матожидания и посмотреть на результаты."
   ]
  },
  {
   "cell_type": "code",
   "execution_count": 16,
   "id": "27033464-3a84-4f5c-9724-9c9f54455a75",
   "metadata": {},
   "outputs": [
    {
     "data": {
      "text/plain": [
       "Ttest_indResult(statistic=-3.6109913973709626, pvalue=0.0003865325806368606)"
      ]
     },
     "execution_count": 16,
     "metadata": {},
     "output_type": "execute_result"
    }
   ],
   "source": [
    "mean1 = 170\n",
    "mean2 = 175\n",
    "std = 10\n",
    "sample1 = np.random.normal(mean1, std, size=100)\n",
    "sample2 = np.random.normal(mean2, std, size=100)\n",
    "\n",
    "scipy.stats.ttest_ind(sample1, sample2)"
   ]
  },
  {
   "cell_type": "markdown",
   "id": "403ae7e5-d165-4b53-85ec-771f817b1212",
   "metadata": {},
   "source": [
    "Тест с двусторонней альтернативой, pvalue < 0.05, значит матожидания не равны.\n",
    "\n",
    "Если бы изначально формулировали гипотезу о том, что матожидание первого распределения меньше, чем матожидание второго распределения, то могли бы доказать и это."
   ]
  },
  {
   "cell_type": "markdown",
   "id": "a890262d-b5b5-4a28-b492-949bb4fb704d",
   "metadata": {},
   "source": [
    "## Задача\n",
    "\n",
    "Взять данные о погоде (data/weather.csv) и проверить на нормальность распределение первых разностей температуры. Использовать уровень значимости 0.05. Использовать любой критерий для проверки на нормальность."
   ]
  },
  {
   "cell_type": "code",
   "execution_count": 18,
   "id": "52eb8b79-8d59-455e-8c22-24d400a7f6e3",
   "metadata": {},
   "outputs": [
    {
     "data": {
      "text/html": [
       "<div>\n",
       "<style scoped>\n",
       "    .dataframe tbody tr th:only-of-type {\n",
       "        vertical-align: middle;\n",
       "    }\n",
       "\n",
       "    .dataframe tbody tr th {\n",
       "        vertical-align: top;\n",
       "    }\n",
       "\n",
       "    .dataframe thead th {\n",
       "        text-align: right;\n",
       "    }\n",
       "</style>\n",
       "<table border=\"1\" class=\"dataframe\">\n",
       "  <thead>\n",
       "    <tr style=\"text-align: right;\">\n",
       "      <th></th>\n",
       "      <th>t</th>\n",
       "    </tr>\n",
       "    <tr>\n",
       "      <th>Day</th>\n",
       "      <th></th>\n",
       "    </tr>\n",
       "  </thead>\n",
       "  <tbody>\n",
       "    <tr>\n",
       "      <th>2008-01-01</th>\n",
       "      <td>0</td>\n",
       "    </tr>\n",
       "    <tr>\n",
       "      <th>2008-01-02</th>\n",
       "      <td>-5</td>\n",
       "    </tr>\n",
       "    <tr>\n",
       "      <th>2008-01-03</th>\n",
       "      <td>-11</td>\n",
       "    </tr>\n",
       "    <tr>\n",
       "      <th>2008-01-04</th>\n",
       "      <td>-11</td>\n",
       "    </tr>\n",
       "    <tr>\n",
       "      <th>2008-01-05</th>\n",
       "      <td>-12</td>\n",
       "    </tr>\n",
       "  </tbody>\n",
       "</table>\n",
       "</div>"
      ],
      "text/plain": [
       "             t\n",
       "Day           \n",
       "2008-01-01   0\n",
       "2008-01-02  -5\n",
       "2008-01-03 -11\n",
       "2008-01-04 -11\n",
       "2008-01-05 -12"
      ]
     },
     "execution_count": 18,
     "metadata": {},
     "output_type": "execute_result"
    }
   ],
   "source": [
    "df = pd.read_csv('data/weather.csv', index_col=0, parse_dates=True)\n",
    "df.head()"
   ]
  },
  {
   "cell_type": "markdown",
   "id": "71a4842b-f209-410c-81b8-273097b23d95",
   "metadata": {},
   "source": [
    "Внешне похоже на нормальное распределение"
   ]
  },
  {
   "cell_type": "code",
   "execution_count": 21,
   "id": "8cdad19d-c028-4bea-a920-00a0ae547852",
   "metadata": {},
   "outputs": [
    {
     "data": {
      "text/plain": [
       "array([[<AxesSubplot:title={'center':'t'}>]], dtype=object)"
      ]
     },
     "execution_count": 21,
     "metadata": {},
     "output_type": "execute_result"
    },
    {
     "data": {
      "image/png": "[encoded data removed]",
      "text/plain": [
       "<Figure size 432x288 with 1 Axes>"
      ]
     },
     "metadata": {
      "needs_background": "light"
     },
     "output_type": "display_data"
    }
   ],
   "source": [
    "diff_t = df.diff().dropna()\n",
    "diff_t.hist()"
   ]
  },
  {
   "cell_type": "markdown",
   "id": "d558ec0f-24d6-428c-af51-d2d2b10350c6",
   "metadata": {},
   "source": [
    "Тест говорит, что распределение не нормальное"
   ]
  },
  {
   "cell_type": "code",
   "execution_count": 22,
   "id": "ec8345ac-f82a-4098-8c77-c77ff120218b",
   "metadata": {},
   "outputs": [
    {
     "data": {
      "text/plain": [
       "ShapiroResult(statistic=0.9792944192886353, pvalue=1.716121890060503e-21)"
      ]
     },
     "execution_count": 22,
     "metadata": {},
     "output_type": "execute_result"
    }
   ],
   "source": [
    "scipy.stats.shapiro(diff_t)"
   ]
  },
  {
   "cell_type": "markdown",
   "id": "d3110125-5dd8-42d2-8cc8-bc10ed884538",
   "metadata": {},
   "source": [
    "Нарисуем гистограмму нормального распределения с таким же средним и среднеквадратичным отклонением"
   ]
  },
  {
   "cell_type": "code",
   "execution_count": 28,
   "id": "3ba5c5fa-7965-40bd-a61b-8f637c2f7de0",
   "metadata": {},
   "outputs": [
    {
     "data": {
      "image/png": "[encoded data removed]",
      "text/plain": [
       "<Figure size 432x288 with 1 Axes>"
      ]
     },
     "metadata": {
      "needs_background": "light"
     },
     "output_type": "display_data"
    }
   ],
   "source": [
    "norm_sample = np.random.normal(diff_t.mean(), diff_t.std(), size=10000)\n",
    "plt.hist(norm_sample, density=True, bins=50)\n",
    "plt.hist(diff_t.values, density=True, bins=50)\n",
    "plt.legend(['нормальное распределение', 'распределение температур'])\n",
    "plt.show()"
   ]
  },
  {
   "cell_type": "markdown",
   "id": "a9b0fa27-47ec-4a9c-ae3e-6bc74479e629",
   "metadata": {},
   "source": [
    "Как видим, настоящее нормальное распределение менее вытянутое. \n",
    "\n",
    "Также для визуальной оценки можно построить [qq-plot](https://habr.com/ru/post/578754/) (функция для построения есть в statsmodels)."
   ]
  },
  {
   "cell_type": "code",
   "execution_count": 33,
   "id": "ea1f8188-eb4d-4fe5-bf03-7833004440cb",
   "metadata": {},
   "outputs": [
    {
     "data": {
      "image/png": "[encoded data removed]",
      "text/plain": [
       "<Figure size 432x288 with 1 Axes>"
      ]
     },
     "metadata": {
      "needs_background": "light"
     },
     "output_type": "display_data"
    }
   ],
   "source": [
    "from statsmodels.graphics.gofplots import qqplot\n",
    "qqplot(diff_t)\n",
    "plt.show()"
   ]
  },
  {
   "cell_type": "markdown",
   "id": "c1d8064b-9176-4c87-baf4-5b103773f606",
   "metadata": {},
   "source": [
    "Должно быть вот так в случае нормального распределения"
   ]
  },
  {
   "cell_type": "code",
   "execution_count": 36,
   "id": "e563899c-4323-438f-a320-e29ecd3a0d28",
   "metadata": {},
   "outputs": [
    {
     "data": {
      "image/png": "[encoded data removed]",
      "text/plain": [
       "<Figure size 432x288 with 1 Axes>"
      ]
     },
     "metadata": {
      "needs_background": "light"
     },
     "output_type": "display_data"
    }
   ],
   "source": [
    "qqplot(norm_sample)\n",
    "plt.show()"
   ]
  }
 ],
 "metadata": {
  "interpreter": {
   "hash": "3c60d125f86ecb331b65a8423cf0cca4676faa8812a500d14a58b02fbd427a36"
  },
  "kernelspec": {
   "display_name": "Python 3 (ipykernel)",
   "language": "python",
   "name": "python3"
  },
  "language_info": {
   "codemirror_mode": {
    "name": "ipython",
    "version": 3
   },
   "file_extension": ".py",
   "mimetype": "text/x-python",
   "name": "python",
   "nbconvert_exporter": "python",
   "pygments_lexer": "ipython3",
   "version": "3.9.7"
  }
 },
 "nbformat": 4,
 "nbformat_minor": 5
}
