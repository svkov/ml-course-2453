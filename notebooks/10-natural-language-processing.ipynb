{
 "cells": [
  {
   "cell_type": "code",
   "execution_count": 21,
   "id": "0282bb38-0c4b-4b04-a319-095c9c559c03",
   "metadata": {},
   "outputs": [],
   "source": [
    "import numpy as np\n",
    "import pandas as pd"
   ]
  },
  {
   "cell_type": "markdown",
   "id": "8bda9c6a-fb2d-4677-a21e-886013e5bb83",
   "metadata": {},
   "source": [
    "# Обработка естественного языка\n",
    "\n",
    "Где используется:\n",
    "\n",
    "- Анализ соц.сетей\n",
    "- Голосовые помощники, чат-боты\n",
    "- Веб-поиск\n",
    "- Машинный перевод\n",
    "- Анализ тематики текста"
   ]
  },
  {
   "cell_type": "markdown",
   "id": "337e1505-6ee7-4613-8793-7b8efe8b02b0",
   "metadata": {},
   "source": [
    "## Работаем со строками"
   ]
  },
  {
   "cell_type": "markdown",
   "id": "87c8111a-1f30-456a-95c6-7238757b9166",
   "metadata": {},
   "source": [
    "По строкам можно индексироваться как и по спискам"
   ]
  },
  {
   "cell_type": "code",
   "execution_count": 53,
   "id": "12eefc68-7a2a-4fa0-8257-92134ee0f5ed",
   "metadata": {},
   "outputs": [
    {
     "data": {
      "text/plain": [
       "'арозА упал ан алапу азоР'"
      ]
     },
     "execution_count": 53,
     "metadata": {},
     "output_type": "execute_result"
    }
   ],
   "source": [
    "sentence = \"Роза упала на лапу Азора\"\n",
    "sentence[::-1]"
   ]
  },
  {
   "cell_type": "markdown",
   "id": "efdcec90-9eeb-443d-9c0f-b81bdbd2780d",
   "metadata": {},
   "source": [
    "Строки можно разбивать на слова"
   ]
  },
  {
   "cell_type": "code",
   "execution_count": 55,
   "id": "2d52a843-78da-49f9-bf5a-2b7bb02ab6e0",
   "metadata": {},
   "outputs": [
    {
     "data": {
      "text/plain": [
       "['Роза', 'упала', 'на', 'лапу', 'Азора']"
      ]
     },
     "execution_count": 55,
     "metadata": {},
     "output_type": "execute_result"
    }
   ],
   "source": [
    "sentence.split()"
   ]
  },
  {
   "cell_type": "markdown",
   "id": "5286f5dc-bc3a-48e4-8e49-298995e8d05a",
   "metadata": {},
   "source": [
    "Массивы строк можно соединять"
   ]
  },
  {
   "cell_type": "code",
   "execution_count": 57,
   "id": "f62c05d4-a971-499f-9daa-c2ea73f5795e",
   "metadata": {},
   "outputs": [
    {
     "data": {
      "text/plain": [
       "'Роза/упала/на/лапу/Азора'"
      ]
     },
     "execution_count": 57,
     "metadata": {},
     "output_type": "execute_result"
    }
   ],
   "source": [
    "\"/\".join(sentence.split())"
   ]
  },
  {
   "cell_type": "markdown",
   "id": "7ca3ca6d-7899-4d24-bebb-7769a5830375",
   "metadata": {},
   "source": [
    "Можно менять регистр"
   ]
  },
  {
   "cell_type": "code",
   "execution_count": 60,
   "id": "0414ffbc-e677-4c08-b357-d644ad432bcf",
   "metadata": {},
   "outputs": [
    {
     "data": {
      "text/plain": [
       "('роза упала на лапу азора', 'РОЗА УПАЛА НА ЛАПУ АЗОРА')"
      ]
     },
     "execution_count": 60,
     "metadata": {},
     "output_type": "execute_result"
    }
   ],
   "source": [
    "sentence.lower(), sentence.upper()"
   ]
  },
  {
   "cell_type": "markdown",
   "id": "f27b6b74-0a1a-4144-bf4e-fd12d2bb62fe",
   "metadata": {},
   "source": [
    "Проверять на числа"
   ]
  },
  {
   "cell_type": "code",
   "execution_count": 62,
   "id": "c50312fb-8e9f-4ec5-8d0f-07126fd591b9",
   "metadata": {},
   "outputs": [
    {
     "data": {
      "text/plain": [
       "(False, False)"
      ]
     },
     "execution_count": 62,
     "metadata": {},
     "output_type": "execute_result"
    }
   ],
   "source": [
    "sentence.isnumeric(), sentence.isalpha() "
   ]
  },
  {
   "cell_type": "markdown",
   "id": "5a2b2b12-be2a-45d4-9d81-ccfcbbd5744f",
   "metadata": {},
   "source": [
    "Можно делать замены"
   ]
  },
  {
   "cell_type": "code",
   "execution_count": 65,
   "id": "5e29666f-57cb-422b-8200-70939ac62e90",
   "metadata": {},
   "outputs": [
    {
     "data": {
      "text/plain": [
       "'не роза упала на лапу Азора'"
      ]
     },
     "execution_count": 65,
     "metadata": {},
     "output_type": "execute_result"
    }
   ],
   "source": [
    "sentence.replace('Роза', 'не роза')"
   ]
  },
  {
   "cell_type": "markdown",
   "id": "b51db90f-e1b9-4ccf-ac06-c55ad81130de",
   "metadata": {},
   "source": [
    "Есть специальные символы, которые записываются через `\\` и позволяют сделать перенос строки, табуляцию и многое другое"
   ]
  },
  {
   "cell_type": "code",
   "execution_count": 81,
   "id": "29310346-23fe-45e3-a610-572dcfd570ab",
   "metadata": {},
   "outputs": [
    {
     "name": "stdout",
     "output_type": "stream",
     "text": [
      "первая строка\n",
      "вторая строка\n",
      "до\tпосле\n",
      "Пишем кавычки: ', \"\n",
      "Пишем обратный слэш: \\\n"
     ]
    }
   ],
   "source": [
    "print('первая строка\\nвторая строка') # перенос строки\n",
    "print('до\\tпосле') # табуляция\n",
    "print('Пишем кавычки: \\', \\\"')\n",
    "print('Пишем обратный слэш: \\\\')"
   ]
  },
  {
   "cell_type": "markdown",
   "id": "528a8e53-197a-428c-a5f9-57cc37c6e3ab",
   "metadata": {},
   "source": [
    "Также существуют регулярные выражения, с помощью которых можно сделать практически что угодно с любым набором символов.\n",
    "\n",
    "Ниже пример проверки на валидность адреса электронной почты. \n",
    "\n",
    "В реальном приложении лучше не использовать такую проверку."
   ]
  },
  {
   "cell_type": "code",
   "execution_count": 73,
   "id": "7e1ca7a7-1ab9-4751-89e9-7e897152f897",
   "metadata": {},
   "outputs": [
    {
     "name": "stdout",
     "output_type": "stream",
     "text": [
      "Valid Email\n",
      "Invalid Email\n",
      "Invalid Email\n"
     ]
    }
   ],
   "source": [
    "import re\n",
    "regex = r'\\b[A-Za-z0-9._%+-]+@[A-Za-z0-9.-]+\\.[A-Z|a-z]{2,}\\b'\n",
    "\n",
    "# Don't use it in prod\n",
    "def check(email):\n",
    "    if(re.fullmatch(regex, email)):\n",
    "        print(\"Valid Email\") \n",
    "    else:\n",
    "        print(\"Invalid Email\")\n",
    "        \n",
    "check('valid_email@mail.ru')\n",
    "check('invalid email')\n",
    "check('invalid_email@mail.21')"
   ]
  },
  {
   "cell_type": "markdown",
   "id": "d2bb0992-bb27-4c5d-a11f-64d1cc3394f5",
   "metadata": {},
   "source": [
    "## Задача\n",
    "\n",
    "Предобработать текст следующим способом:\n",
    "\n",
    "- разбить текст на слова\n",
    "- привести все к нижнему регистру\n",
    "- убрать из текста все точки, запятые и скобки\n",
    "\n",
    "Найти в тексте самое частовстречаемое слово."
   ]
  },
  {
   "cell_type": "code",
   "execution_count": 211,
   "id": "f1841dcb-cfb5-4f5f-b908-280bcd88df11",
   "metadata": {},
   "outputs": [],
   "source": [
    "text = \"Разобьем этот текст на слова, приведем к нижнему регистру. Затем уберем пунктуацию (точки, запятые и скобки). А потом найдем слово, которое встречается чаще всего. текст текст текст.\"\n",
    "\n",
    "# Ваш код здесь\n"
   ]
  },
  {
   "cell_type": "markdown",
   "id": "e30d5adb-e004-47a3-86f1-cfe1b7637092",
   "metadata": {},
   "source": [
    "## Bag of word\n",
    "\n",
    "Чтобы применять к тексту методы машинного обучения, его необходимо векторизовать (превратить в массив чисел). Это можно сделать разными способами. Самый простой способ - bag of word.\n",
    "\n",
    "Разбиваем весь текст на токены (слова). Затем формируем матрицу, в которой в строках храним предложения, а в колонках слова. За каждое вхождение слова в предложение добавляем 1 в соответствующую ячейку. Не забываем убрать знаки препинания, табуляцию, пробелы и знаки переноса строки."
   ]
  },
  {
   "cell_type": "code",
   "execution_count": 10,
   "id": "efce0bda-b313-411c-ad5d-aa7e2cad0394",
   "metadata": {},
   "outputs": [],
   "source": [
    "from sklearn.feature_extraction.text import CountVectorizer"
   ]
  },
  {
   "cell_type": "code",
   "execution_count": 31,
   "id": "2575abff-96d8-47ef-a47a-3aaf52fdec07",
   "metadata": {},
   "outputs": [
    {
     "data": {
      "text/html": [
       "<div>\n",
       "<style scoped>\n",
       "    .dataframe tbody tr th:only-of-type {\n",
       "        vertical-align: middle;\n",
       "    }\n",
       "\n",
       "    .dataframe tbody tr th {\n",
       "        vertical-align: top;\n",
       "    }\n",
       "\n",
       "    .dataframe thead th {\n",
       "        text-align: right;\n",
       "    }\n",
       "</style>\n",
       "<table border=\"1\" class=\"dataframe\">\n",
       "  <thead>\n",
       "    <tr style=\"text-align: right;\">\n",
       "      <th></th>\n",
       "      <th>and</th>\n",
       "      <th>document</th>\n",
       "      <th>first</th>\n",
       "      <th>is</th>\n",
       "      <th>one</th>\n",
       "      <th>second</th>\n",
       "      <th>the</th>\n",
       "      <th>third</th>\n",
       "      <th>this</th>\n",
       "    </tr>\n",
       "  </thead>\n",
       "  <tbody>\n",
       "    <tr>\n",
       "      <th>This is the first document.</th>\n",
       "      <td>0</td>\n",
       "      <td>1</td>\n",
       "      <td>1</td>\n",
       "      <td>1</td>\n",
       "      <td>0</td>\n",
       "      <td>0</td>\n",
       "      <td>1</td>\n",
       "      <td>0</td>\n",
       "      <td>1</td>\n",
       "    </tr>\n",
       "    <tr>\n",
       "      <th>This is the second second document.</th>\n",
       "      <td>0</td>\n",
       "      <td>1</td>\n",
       "      <td>0</td>\n",
       "      <td>1</td>\n",
       "      <td>0</td>\n",
       "      <td>2</td>\n",
       "      <td>1</td>\n",
       "      <td>0</td>\n",
       "      <td>1</td>\n",
       "    </tr>\n",
       "    <tr>\n",
       "      <th>And the third one.</th>\n",
       "      <td>1</td>\n",
       "      <td>0</td>\n",
       "      <td>0</td>\n",
       "      <td>0</td>\n",
       "      <td>1</td>\n",
       "      <td>0</td>\n",
       "      <td>1</td>\n",
       "      <td>1</td>\n",
       "      <td>0</td>\n",
       "    </tr>\n",
       "    <tr>\n",
       "      <th>Is this the first document?</th>\n",
       "      <td>0</td>\n",
       "      <td>1</td>\n",
       "      <td>1</td>\n",
       "      <td>1</td>\n",
       "      <td>0</td>\n",
       "      <td>0</td>\n",
       "      <td>1</td>\n",
       "      <td>0</td>\n",
       "      <td>1</td>\n",
       "    </tr>\n",
       "  </tbody>\n",
       "</table>\n",
       "</div>"
      ],
      "text/plain": [
       "                                     and  document  first  is  one  second  \\\n",
       "This is the first document.            0         1      1   1    0       0   \n",
       "This is the second second document.    0         1      0   1    0       2   \n",
       "And the third one.                     1         0      0   0    1       0   \n",
       "Is this the first document?            0         1      1   1    0       0   \n",
       "\n",
       "                                     the  third  this  \n",
       "This is the first document.            1      0     1  \n",
       "This is the second second document.    1      0     1  \n",
       "And the third one.                     1      1     0  \n",
       "Is this the first document?            1      0     1  "
      ]
     },
     "execution_count": 31,
     "metadata": {},
     "output_type": "execute_result"
    }
   ],
   "source": [
    "corpus = [\n",
    "    'This is the first document.',\n",
    "    'This is the second second document.',\n",
    "    'And the third one.',\n",
    "    'Is this the first document?',\n",
    "]\n",
    "\n",
    "bow = CountVectorizer()\n",
    "bow_result = bow.fit_transform(corpus).toarray()\n",
    "pd.DataFrame(bow_result, columns=bow.get_feature_names_out(), index=corpus)"
   ]
  },
  {
   "cell_type": "markdown",
   "id": "0ff6d2c7-b835-4271-b319-3eeed05eea3d",
   "metadata": {},
   "source": [
    "С русским текстом это будет работать не очень хорошо"
   ]
  },
  {
   "cell_type": "code",
   "execution_count": 47,
   "id": "ecc111ed-3e2a-43eb-a795-7c4b524ed388",
   "metadata": {},
   "outputs": [
    {
     "data": {
      "text/html": [
       "<div>\n",
       "<style scoped>\n",
       "    .dataframe tbody tr th:only-of-type {\n",
       "        vertical-align: middle;\n",
       "    }\n",
       "\n",
       "    .dataframe tbody tr th {\n",
       "        vertical-align: top;\n",
       "    }\n",
       "\n",
       "    .dataframe thead th {\n",
       "        text-align: right;\n",
       "    }\n",
       "</style>\n",
       "<table border=\"1\" class=\"dataframe\">\n",
       "  <thead>\n",
       "    <tr style=\"text-align: right;\">\n",
       "      <th></th>\n",
       "      <th>вот</th>\n",
       "      <th>всех</th>\n",
       "      <th>второй</th>\n",
       "      <th>документ</th>\n",
       "      <th>документов</th>\n",
       "      <th>документы</th>\n",
       "      <th>кончились</th>\n",
       "      <th>первый</th>\n",
       "      <th>среди</th>\n",
       "      <th>третий</th>\n",
       "      <th>это</th>\n",
       "    </tr>\n",
       "  </thead>\n",
       "  <tbody>\n",
       "    <tr>\n",
       "      <th>Это первый документ.</th>\n",
       "      <td>0</td>\n",
       "      <td>0</td>\n",
       "      <td>0</td>\n",
       "      <td>1</td>\n",
       "      <td>0</td>\n",
       "      <td>0</td>\n",
       "      <td>0</td>\n",
       "      <td>1</td>\n",
       "      <td>0</td>\n",
       "      <td>0</td>\n",
       "      <td>1</td>\n",
       "    </tr>\n",
       "    <tr>\n",
       "      <th>Это второй документ среди всех документов.</th>\n",
       "      <td>0</td>\n",
       "      <td>1</td>\n",
       "      <td>1</td>\n",
       "      <td>1</td>\n",
       "      <td>1</td>\n",
       "      <td>0</td>\n",
       "      <td>0</td>\n",
       "      <td>0</td>\n",
       "      <td>1</td>\n",
       "      <td>0</td>\n",
       "      <td>1</td>\n",
       "    </tr>\n",
       "    <tr>\n",
       "      <th>А вот и третий.</th>\n",
       "      <td>1</td>\n",
       "      <td>0</td>\n",
       "      <td>0</td>\n",
       "      <td>0</td>\n",
       "      <td>0</td>\n",
       "      <td>0</td>\n",
       "      <td>0</td>\n",
       "      <td>0</td>\n",
       "      <td>0</td>\n",
       "      <td>1</td>\n",
       "      <td>0</td>\n",
       "    </tr>\n",
       "    <tr>\n",
       "      <th>Вот и кончились документы.</th>\n",
       "      <td>1</td>\n",
       "      <td>0</td>\n",
       "      <td>0</td>\n",
       "      <td>0</td>\n",
       "      <td>0</td>\n",
       "      <td>1</td>\n",
       "      <td>1</td>\n",
       "      <td>0</td>\n",
       "      <td>0</td>\n",
       "      <td>0</td>\n",
       "      <td>0</td>\n",
       "    </tr>\n",
       "  </tbody>\n",
       "</table>\n",
       "</div>"
      ],
      "text/plain": [
       "                                            вот  всех  второй  документ  \\\n",
       "Это первый документ.                          0     0       0         1   \n",
       "Это второй документ среди всех документов.    0     1       1         1   \n",
       "А вот и третий.                               1     0       0         0   \n",
       "Вот и кончились документы.                    1     0       0         0   \n",
       "\n",
       "                                            документов  документы  кончились  \\\n",
       "Это первый документ.                                 0          0          0   \n",
       "Это второй документ среди всех документов.           1          0          0   \n",
       "А вот и третий.                                      0          0          0   \n",
       "Вот и кончились документы.                           0          1          1   \n",
       "\n",
       "                                            первый  среди  третий  это  \n",
       "Это первый документ.                             1      0       0    1  \n",
       "Это второй документ среди всех документов.       0      1       0    1  \n",
       "А вот и третий.                                  0      0       1    0  \n",
       "Вот и кончились документы.                       0      0       0    0  "
      ]
     },
     "execution_count": 47,
     "metadata": {},
     "output_type": "execute_result"
    }
   ],
   "source": [
    "corpus = [\n",
    "    'Это первый документ.',\n",
    "    'Это второй документ среди всех документов.',\n",
    "    'А вот и третий.',\n",
    "    'Вот и кончились документы.',\n",
    "]\n",
    "\n",
    "bow = CountVectorizer()\n",
    "bow_result = bow.fit_transform(corpus).toarray()\n",
    "pd.DataFrame(bow_result, columns=bow.get_feature_names_out(), index=corpus)"
   ]
  },
  {
   "cell_type": "markdown",
   "id": "34c8fcf9-e232-4e88-bdd6-e5fd8aeb4828",
   "metadata": {},
   "source": [
    "\"документ\", \"документов\", \"документы\" - это все об одном, но колонки получились разные. Что делать с этим?\n",
    "\n",
    "Применить стемминг!"
   ]
  },
  {
   "cell_type": "markdown",
   "id": "170e4ebb-0ec9-4df1-a37d-2a8367b4f5d4",
   "metadata": {},
   "source": [
    "## Стемминг\n",
    "\n",
    "Стемминг - процесс извлечения основы слова, потому что зачастую форма слова не влияет на смысл.\n",
    "\n",
    "В классе будем использовать довольно простой стеммер Портера. На практике лучше использовать библиотеку `nltk` для русского текста."
   ]
  },
  {
   "cell_type": "code",
   "execution_count": 33,
   "id": "fceb7478-1487-43b8-bee9-74cd7bf73de4",
   "metadata": {},
   "outputs": [],
   "source": [
    "# Взято отсюда: https://gist.github.com/Kein1945/9111512\n",
    "import re\n",
    "\n",
    "class Porter:\n",
    "\tPERFECTIVEGROUND =  re.compile(u\"((ив|ивши|ившись|ыв|ывши|ывшись)|((?<=[ая])(в|вши|вшись)))$\")\n",
    "\tREFLEXIVE = re.compile(u\"(с[яь])$\")\n",
    "\tADJECTIVE = re.compile(u\"(ее|ие|ые|ое|ими|ыми|ей|ий|ый|ой|ем|им|ым|ом|его|ого|ему|ому|их|ых|ую|юю|ая|яя|ою|ею)$\")\n",
    "\tPARTICIPLE = re.compile(u\"((ивш|ывш|ующ)|((?<=[ая])(ем|нн|вш|ющ|щ)))$\")\n",
    "\tVERB = re.compile(u\"((ила|ыла|ена|ейте|уйте|ите|или|ыли|ей|уй|ил|ыл|им|ым|ен|ило|ыло|ено|ят|ует|уют|ит|ыт|ены|ить|ыть|ишь|ую|ю)|((?<=[ая])(ла|на|ете|йте|ли|й|л|ем|н|ло|но|ет|ют|ны|ть|ешь|нно)))$\")\n",
    "\tNOUN = re.compile(u\"(а|ев|ов|ие|ье|е|иями|ями|ами|еи|ии|и|ией|ей|ой|ий|й|иям|ям|ием|ем|ам|ом|о|у|ах|иях|ях|ы|ь|ию|ью|ю|ия|ья|я)$\")\n",
    "\tRVRE = re.compile(u\"^(.*?[аеиоуыэюя])(.*)$\")\n",
    "\tDERIVATIONAL = re.compile(u\".*[^аеиоуыэюя]+[аеиоуыэюя].*ость?$\")\n",
    "\tDER = re.compile(u\"ость?$\")\n",
    "\tSUPERLATIVE = re.compile(u\"(ейше|ейш)$\")\n",
    "\tI = re.compile(u\"и$\")\n",
    "\tP = re.compile(u\"ь$\")\n",
    "\tNN = re.compile(u\"нн$\")\n",
    "\n",
    "\tdef stem(word):\n",
    "\t\tword = word.lower()\n",
    "\t\tword = word.replace(u'ё', u'е')\n",
    "\t\tm = re.match(Porter.RVRE, word)\n",
    "\t\tif m and m.groups():\n",
    "\t\t\tpre = m.group(1)\n",
    "\t\t\trv = m.group(2)\n",
    "\t\t\ttemp = Porter.PERFECTIVEGROUND.sub('', rv, 1)\n",
    "\t\t\tif temp == rv:\n",
    "\t\t\t\trv = Porter.REFLEXIVE.sub('', rv, 1)\n",
    "\t\t\t\ttemp = Porter.ADJECTIVE.sub('', rv, 1)\n",
    "\t\t\t\tif temp != rv:\n",
    "\t\t\t\t\trv = temp\n",
    "\t\t\t\t\trv = Porter.PARTICIPLE.sub('', rv, 1)\n",
    "\t\t\t\telse:\n",
    "\t\t\t\t\ttemp = Porter.VERB.sub('', rv, 1)\n",
    "\t\t\t\t\tif temp == rv:\n",
    "\t\t\t\t\t\trv = Porter.NOUN.sub('', rv, 1)\n",
    "\t\t\t\t\telse:\n",
    "\t\t\t\t\t\trv = temp\n",
    "\t\t\telse:\n",
    "\t\t\t\trv = temp\n",
    "\t\t\t\n",
    "\t\t\trv = Porter.I.sub('', rv, 1)\n",
    "\n",
    "\t\t\tif re.match(Porter.DERIVATIONAL, rv):\n",
    "\t\t\t\trv = Porter.DER.sub('', rv, 1)\n",
    "\n",
    "\t\t\ttemp = Porter.P.sub('', rv, 1)\n",
    "\t\t\tif temp == rv:\n",
    "\t\t\t\trv = Porter.SUPERLATIVE.sub('', rv, 1)\n",
    "\t\t\t\trv = Porter.NN.sub(u'н', rv, 1)\n",
    "\t\t\telse:\n",
    "\t\t\t\trv = temp\n",
    "\t\t\tword = pre+rv\n",
    "\t\treturn word\n",
    "\tstem=staticmethod(stem)"
   ]
  },
  {
   "cell_type": "code",
   "execution_count": 39,
   "id": "dd676844-e5fc-46bd-a990-0038cc9440ad",
   "metadata": {},
   "outputs": [
    {
     "data": {
      "text/plain": [
       "('документ', 'документ', 'документ')"
      ]
     },
     "execution_count": 39,
     "metadata": {},
     "output_type": "execute_result"
    }
   ],
   "source": [
    "Porter.stem('документа'), Porter.stem('документы'), Porter.stem('документов')"
   ]
  },
  {
   "cell_type": "code",
   "execution_count": 49,
   "id": "c722923a-afb8-4907-971e-d79b46050cc3",
   "metadata": {},
   "outputs": [],
   "source": [
    "def preprocess_word(word):\n",
    "    return Porter.stem(word.replace('.', ''))"
   ]
  },
  {
   "cell_type": "code",
   "execution_count": 83,
   "id": "352c8fba-fc83-4e53-ba81-1a3da74d81e5",
   "metadata": {},
   "outputs": [
    {
     "data": {
      "text/plain": [
       "['эт перв документ',\n",
       " 'эт втор документ сред всех документ',\n",
       " 'а вот и трет',\n",
       " 'вот и конч документ']"
      ]
     },
     "execution_count": 83,
     "metadata": {},
     "output_type": "execute_result"
    }
   ],
   "source": [
    "stemmed_corpus = [' '.join(map(preprocess_word, text.split())) for text in corpus]\n",
    "stemmed_corpus"
   ]
  },
  {
   "cell_type": "markdown",
   "id": "fd11b0a8-e47d-4934-81ac-2b2e77ff6ab5",
   "metadata": {},
   "source": [
    "Вынесем в отдельную функцию, она нам дальше понадобится"
   ]
  },
  {
   "cell_type": "code",
   "execution_count": 99,
   "id": "14d69518-3802-474f-9856-e47c9e65fd1c",
   "metadata": {},
   "outputs": [],
   "source": [
    "def preprocess_corpus(corpus):\n",
    "    return [' '.join(map(preprocess_word, text.split())) for text in corpus]"
   ]
  },
  {
   "cell_type": "markdown",
   "id": "7034e11c-9e07-434f-baa8-9151457a629a",
   "metadata": {},
   "source": [
    "Запустим Bag of word на новом корпусе"
   ]
  },
  {
   "cell_type": "code",
   "execution_count": 85,
   "id": "a4aab0fd-1f17-4c1e-b18f-ab78cc8b24c9",
   "metadata": {},
   "outputs": [
    {
     "data": {
      "text/html": [
       "<div>\n",
       "<style scoped>\n",
       "    .dataframe tbody tr th:only-of-type {\n",
       "        vertical-align: middle;\n",
       "    }\n",
       "\n",
       "    .dataframe tbody tr th {\n",
       "        vertical-align: top;\n",
       "    }\n",
       "\n",
       "    .dataframe thead th {\n",
       "        text-align: right;\n",
       "    }\n",
       "</style>\n",
       "<table border=\"1\" class=\"dataframe\">\n",
       "  <thead>\n",
       "    <tr style=\"text-align: right;\">\n",
       "      <th></th>\n",
       "      <th>вот</th>\n",
       "      <th>всех</th>\n",
       "      <th>втор</th>\n",
       "      <th>документ</th>\n",
       "      <th>конч</th>\n",
       "      <th>перв</th>\n",
       "      <th>сред</th>\n",
       "      <th>трет</th>\n",
       "      <th>эт</th>\n",
       "    </tr>\n",
       "  </thead>\n",
       "  <tbody>\n",
       "    <tr>\n",
       "      <th>эт перв документ</th>\n",
       "      <td>0</td>\n",
       "      <td>0</td>\n",
       "      <td>0</td>\n",
       "      <td>1</td>\n",
       "      <td>0</td>\n",
       "      <td>1</td>\n",
       "      <td>0</td>\n",
       "      <td>0</td>\n",
       "      <td>1</td>\n",
       "    </tr>\n",
       "    <tr>\n",
       "      <th>эт втор документ сред всех документ</th>\n",
       "      <td>0</td>\n",
       "      <td>1</td>\n",
       "      <td>1</td>\n",
       "      <td>2</td>\n",
       "      <td>0</td>\n",
       "      <td>0</td>\n",
       "      <td>1</td>\n",
       "      <td>0</td>\n",
       "      <td>1</td>\n",
       "    </tr>\n",
       "    <tr>\n",
       "      <th>а вот и трет</th>\n",
       "      <td>1</td>\n",
       "      <td>0</td>\n",
       "      <td>0</td>\n",
       "      <td>0</td>\n",
       "      <td>0</td>\n",
       "      <td>0</td>\n",
       "      <td>0</td>\n",
       "      <td>1</td>\n",
       "      <td>0</td>\n",
       "    </tr>\n",
       "    <tr>\n",
       "      <th>вот и конч документ</th>\n",
       "      <td>1</td>\n",
       "      <td>0</td>\n",
       "      <td>0</td>\n",
       "      <td>1</td>\n",
       "      <td>1</td>\n",
       "      <td>0</td>\n",
       "      <td>0</td>\n",
       "      <td>0</td>\n",
       "      <td>0</td>\n",
       "    </tr>\n",
       "  </tbody>\n",
       "</table>\n",
       "</div>"
      ],
      "text/plain": [
       "                                     вот  всех  втор  документ  конч  перв  \\\n",
       "эт перв документ                       0     0     0         1     0     1   \n",
       "эт втор документ сред всех документ    0     1     1         2     0     0   \n",
       "а вот и трет                           1     0     0         0     0     0   \n",
       "вот и конч документ                    1     0     0         1     1     0   \n",
       "\n",
       "                                     сред  трет  эт  \n",
       "эт перв документ                        0     0   1  \n",
       "эт втор документ сред всех документ     1     0   1  \n",
       "а вот и трет                            0     1   0  \n",
       "вот и конч документ                     0     0   0  "
      ]
     },
     "execution_count": 85,
     "metadata": {},
     "output_type": "execute_result"
    }
   ],
   "source": [
    "bow = CountVectorizer()\n",
    "bow_result = bow.fit_transform(stemmed_corpus).toarray()\n",
    "pd.DataFrame(bow_result, columns=bow.get_feature_names_out(), index=stemmed_corpus)"
   ]
  },
  {
   "cell_type": "markdown",
   "id": "fd9f8e6d-074d-4c25-80cd-cf406f71b3ed",
   "metadata": {},
   "source": [
    "Если хотим подставить исходные предложения, передаем другое значение в index"
   ]
  },
  {
   "cell_type": "code",
   "execution_count": 86,
   "id": "e19bed5f-140b-4763-8b74-8e1c77eccd03",
   "metadata": {},
   "outputs": [
    {
     "data": {
      "text/html": [
       "<div>\n",
       "<style scoped>\n",
       "    .dataframe tbody tr th:only-of-type {\n",
       "        vertical-align: middle;\n",
       "    }\n",
       "\n",
       "    .dataframe tbody tr th {\n",
       "        vertical-align: top;\n",
       "    }\n",
       "\n",
       "    .dataframe thead th {\n",
       "        text-align: right;\n",
       "    }\n",
       "</style>\n",
       "<table border=\"1\" class=\"dataframe\">\n",
       "  <thead>\n",
       "    <tr style=\"text-align: right;\">\n",
       "      <th></th>\n",
       "      <th>вот</th>\n",
       "      <th>всех</th>\n",
       "      <th>втор</th>\n",
       "      <th>документ</th>\n",
       "      <th>конч</th>\n",
       "      <th>перв</th>\n",
       "      <th>сред</th>\n",
       "      <th>трет</th>\n",
       "      <th>эт</th>\n",
       "    </tr>\n",
       "  </thead>\n",
       "  <tbody>\n",
       "    <tr>\n",
       "      <th>Это первый документ.</th>\n",
       "      <td>0</td>\n",
       "      <td>0</td>\n",
       "      <td>0</td>\n",
       "      <td>1</td>\n",
       "      <td>0</td>\n",
       "      <td>1</td>\n",
       "      <td>0</td>\n",
       "      <td>0</td>\n",
       "      <td>1</td>\n",
       "    </tr>\n",
       "    <tr>\n",
       "      <th>Это второй документ среди всех документов.</th>\n",
       "      <td>0</td>\n",
       "      <td>1</td>\n",
       "      <td>1</td>\n",
       "      <td>2</td>\n",
       "      <td>0</td>\n",
       "      <td>0</td>\n",
       "      <td>1</td>\n",
       "      <td>0</td>\n",
       "      <td>1</td>\n",
       "    </tr>\n",
       "    <tr>\n",
       "      <th>А вот и третий.</th>\n",
       "      <td>1</td>\n",
       "      <td>0</td>\n",
       "      <td>0</td>\n",
       "      <td>0</td>\n",
       "      <td>0</td>\n",
       "      <td>0</td>\n",
       "      <td>0</td>\n",
       "      <td>1</td>\n",
       "      <td>0</td>\n",
       "    </tr>\n",
       "    <tr>\n",
       "      <th>Вот и кончились документы.</th>\n",
       "      <td>1</td>\n",
       "      <td>0</td>\n",
       "      <td>0</td>\n",
       "      <td>1</td>\n",
       "      <td>1</td>\n",
       "      <td>0</td>\n",
       "      <td>0</td>\n",
       "      <td>0</td>\n",
       "      <td>0</td>\n",
       "    </tr>\n",
       "  </tbody>\n",
       "</table>\n",
       "</div>"
      ],
      "text/plain": [
       "                                            вот  всех  втор  документ  конч  \\\n",
       "Это первый документ.                          0     0     0         1     0   \n",
       "Это второй документ среди всех документов.    0     1     1         2     0   \n",
       "А вот и третий.                               1     0     0         0     0   \n",
       "Вот и кончились документы.                    1     0     0         1     1   \n",
       "\n",
       "                                            перв  сред  трет  эт  \n",
       "Это первый документ.                           1     0     0   1  \n",
       "Это второй документ среди всех документов.     0     1     0   1  \n",
       "А вот и третий.                                0     0     1   0  \n",
       "Вот и кончились документы.                     0     0     0   0  "
      ]
     },
     "execution_count": 86,
     "metadata": {},
     "output_type": "execute_result"
    }
   ],
   "source": [
    "pd.DataFrame(bow_result, columns=bow.get_feature_names_out(), index=corpus)"
   ]
  },
  {
   "cell_type": "markdown",
   "id": "9a6105c1-c06a-44d4-a7c3-7be6b5612d06",
   "metadata": {},
   "source": [
    "## Попробуем взять документ побольше"
   ]
  },
  {
   "cell_type": "markdown",
   "id": "c70b9f10-0adb-4d68-ba4f-7d1588ffba64",
   "metadata": {},
   "source": [
    "Сначала распакуем архив"
   ]
  },
  {
   "cell_type": "code",
   "execution_count": 3,
   "id": "856517c6-34db-4a2e-ae31-ed51e492d08e",
   "metadata": {},
   "outputs": [
    {
     "name": "stderr",
     "output_type": "stream",
     "text": [
      "gzip: data/news.txt already exists;\tnot overwritten\n"
     ]
    }
   ],
   "source": [
    "!gzip -dk data/news.txt.gz"
   ]
  },
  {
   "cell_type": "code",
   "execution_count": 114,
   "id": "c5713259-cc92-4d1b-a0ee-8511d841bfed",
   "metadata": {},
   "outputs": [
    {
     "data": {
      "text/html": [
       "<div>\n",
       "<style scoped>\n",
       "    .dataframe tbody tr th:only-of-type {\n",
       "        vertical-align: middle;\n",
       "    }\n",
       "\n",
       "    .dataframe tbody tr th {\n",
       "        vertical-align: top;\n",
       "    }\n",
       "\n",
       "    .dataframe thead th {\n",
       "        text-align: right;\n",
       "    }\n",
       "</style>\n",
       "<table border=\"1\" class=\"dataframe\">\n",
       "  <thead>\n",
       "    <tr style=\"text-align: right;\">\n",
       "      <th></th>\n",
       "      <th>label</th>\n",
       "      <th>title</th>\n",
       "      <th>text</th>\n",
       "    </tr>\n",
       "  </thead>\n",
       "  <tbody>\n",
       "    <tr>\n",
       "      <th>0</th>\n",
       "      <td>style</td>\n",
       "      <td>Rolex наградит победителей регаты</td>\n",
       "      <td>Парусная гонка Giraglia Rolex Cup пройдет в Ср...</td>\n",
       "    </tr>\n",
       "    <tr>\n",
       "      <th>1</th>\n",
       "      <td>sport</td>\n",
       "      <td>Матс Сундин стал советником тренера сборной Шв...</td>\n",
       "      <td>Шведский хоккеист Матс Сундин назначен советни...</td>\n",
       "    </tr>\n",
       "    <tr>\n",
       "      <th>2</th>\n",
       "      <td>media</td>\n",
       "      <td>Брендом года по версии EFFIE впервые стал город</td>\n",
       "      <td>Гран-при конкурса \"Брэнд года/EFFIE\" получил г...</td>\n",
       "    </tr>\n",
       "    <tr>\n",
       "      <th>3</th>\n",
       "      <td>economics</td>\n",
       "      <td>Цена нефти WTI снизилась после публикации данн...</td>\n",
       "      <td>Цена американской нефти WTI на лондонской бирж...</td>\n",
       "    </tr>\n",
       "    <tr>\n",
       "      <th>4</th>\n",
       "      <td>economics</td>\n",
       "      <td>Сбербанк распродаст другим банкирам миллиардны...</td>\n",
       "      <td>Сбербанк выставил на продажу долги по 21,4 тыс...</td>\n",
       "    </tr>\n",
       "  </tbody>\n",
       "</table>\n",
       "</div>"
      ],
      "text/plain": [
       "       label                                              title  \\\n",
       "0      style                  Rolex наградит победителей регаты   \n",
       "1      sport  Матс Сундин стал советником тренера сборной Шв...   \n",
       "2      media    Брендом года по версии EFFIE впервые стал город   \n",
       "3  economics  Цена нефти WTI снизилась после публикации данн...   \n",
       "4  economics  Сбербанк распродаст другим банкирам миллиардны...   \n",
       "\n",
       "                                                text  \n",
       "0  Парусная гонка Giraglia Rolex Cup пройдет в Ср...  \n",
       "1  Шведский хоккеист Матс Сундин назначен советни...  \n",
       "2  Гран-при конкурса \"Брэнд года/EFFIE\" получил г...  \n",
       "3  Цена американской нефти WTI на лондонской бирж...  \n",
       "4  Сбербанк выставил на продажу долги по 21,4 тыс...  "
      ]
     },
     "execution_count": 114,
     "metadata": {},
     "output_type": "execute_result"
    }
   ],
   "source": [
    "df = pd.read_csv('data/news/news.txt', sep='\\t', header=None)\n",
    "df.columns = ['label', 'title', 'text']\n",
    "df.head()"
   ]
  },
  {
   "cell_type": "code",
   "execution_count": 121,
   "id": "38625023-ac1b-45e1-8cc4-dcac22b95905",
   "metadata": {},
   "outputs": [
    {
     "data": {
      "text/plain": [
       "<AxesSubplot:>"
      ]
     },
     "execution_count": 121,
     "metadata": {},
     "output_type": "execute_result"
    },
    {
     "data": {
      "image/png": "[encoded data removed]",
      "text/plain": [
       "<Figure size 432x288 with 1 Axes>"
      ]
     },
     "metadata": {
      "needs_background": "light"
     },
     "output_type": "display_data"
    }
   ],
   "source": [
    "df.label.hist(bins=20)"
   ]
  },
  {
   "cell_type": "markdown",
   "id": "c07831ea-1978-4317-b50c-bd02d73148ce",
   "metadata": {},
   "source": [
    "## Задача\n",
    "\n",
    "Применить стемминг к тексту и добавить колонку `text_stemmed`"
   ]
  },
  {
   "cell_type": "code",
   "execution_count": 122,
   "id": "902f1e52-4d9d-4b92-9e60-19e2deb3857f",
   "metadata": {},
   "outputs": [],
   "source": [
    "# Ваш код здесь\n"
   ]
  },
  {
   "cell_type": "markdown",
   "id": "d7ca3698-6645-4046-b85c-a82edee94e48",
   "metadata": {},
   "source": [
    "## Задача\n",
    "\n",
    "Применить логистическую регрессию к датасету, чтобы классифицировать тему.\n",
    "\n",
    "Выборку разделить на train и test, использовать метрику accuracy. Вывести confusion matrix."
   ]
  },
  {
   "cell_type": "code",
   "execution_count": 139,
   "id": "843bceaf-dab1-4031-8529-725705c36f63",
   "metadata": {},
   "outputs": [],
   "source": [
    "from sklearn.model_selection import train_test_split\n",
    "from sklearn.linear_model import LogisticRegression\n",
    "from sklearn.metrics import accuracy_score, confusion_matrix"
   ]
  },
  {
   "cell_type": "code",
   "execution_count": 130,
   "id": "9cf67dae-3782-47f7-b3e3-14d42ff50b41",
   "metadata": {},
   "outputs": [],
   "source": [
    "df['label'] = pd.Categorical(df['label'])\n",
    "df['label_code'] = df.label.cat.codes"
   ]
  },
  {
   "cell_type": "code",
   "execution_count": 142,
   "id": "572e85db-d758-4087-a240-984aa7098765",
   "metadata": {},
   "outputs": [],
   "source": [
    "# Ваш код здесь\n"
   ]
  },
  {
   "cell_type": "markdown",
   "id": "303ed6ea-1804-4c46-a190-2277ce32b9e4",
   "metadata": {},
   "source": [
    "## TF-IDF\n",
    "\n",
    "BOW - очень простой алгоритм, но даже он дает неплохой результат. Попробуем его улучшить. \n",
    "\n",
    "TF-IDF - формула, состоящая из двух частей **Term frequency - Inverce Document Frequency**\n",
    "\n",
    "TF - какой процент указанного слова по отношению ко всем словам в документе\n",
    "\n",
    "IDF - количество документов делим на количество документов, в которые входит данное слово\n",
    "\n",
    "TF-IDF = TF * IDF\n",
    "\n",
    "Класс `TfidfVectorizer` имеет такие же методы, как и `CountVectorizer`."
   ]
  },
  {
   "cell_type": "code",
   "execution_count": 141,
   "id": "36610cb8-4a81-472c-98ed-f194b85b73ea",
   "metadata": {},
   "outputs": [],
   "source": [
    "from sklearn.feature_extraction.text import TfidfVectorizer"
   ]
  },
  {
   "cell_type": "markdown",
   "id": "53edeec5-80be-41d1-81da-9eb1050c6907",
   "metadata": {},
   "source": [
    "## Задача \n",
    "\n",
    "Применить TF-IDF к тому же датасету, сравнить качество с BOW"
   ]
  },
  {
   "cell_type": "code",
   "execution_count": null,
   "id": "4dec253a-031b-420b-810a-a62427be7cd1",
   "metadata": {},
   "outputs": [],
   "source": [
    "# Ваш код здесь\n"
   ]
  },
  {
   "cell_type": "markdown",
   "id": "8d968de9-a0d4-42e5-9437-830f92ca1bd2",
   "metadata": {
    "tags": []
   },
   "source": [
    "## Пайплайны\n",
    "\n",
    "Можно использовать сложные преобразования и легко сравнивать качество моделей, а также подбирать гиперпараметры, используя пайплайны"
   ]
  },
  {
   "cell_type": "code",
   "execution_count": 215,
   "id": "56815ac4-4ef4-4d7d-b817-7af88a0dfdc7",
   "metadata": {},
   "outputs": [],
   "source": [
    "from sklearn.pipeline import Pipeline\n",
    "from sklearn.feature_extraction.text import CountVectorizer\n",
    "from sklearn.feature_extraction.text import TfidfTransformer"
   ]
  },
  {
   "cell_type": "code",
   "execution_count": 217,
   "id": "f0e8aa04-4648-4b1e-975c-1cae38af8c8d",
   "metadata": {},
   "outputs": [],
   "source": [
    "pipeline = Pipeline(\n",
    "    [\n",
    "        (\"vect\", CountVectorizer()),\n",
    "        (\"tfidf\", TfidfTransformer()),\n",
    "        (\"clf\", LogisticRegression()),\n",
    "    ]\n",
    ")"
   ]
  },
  {
   "cell_type": "markdown",
   "id": "a2445154-8ea8-4021-b54c-79e1e12d4b2c",
   "metadata": {},
   "source": [
    "Для примера обучимся на всей выборке и попробуем что-то предсказать"
   ]
  },
  {
   "cell_type": "code",
   "execution_count": 218,
   "id": "6c11ca18-caa9-405e-ade5-fb3b31948c41",
   "metadata": {},
   "outputs": [
    {
     "name": "stderr",
     "output_type": "stream",
     "text": [
      "C:\\Users\\koval\\anaconda3\\envs\\data-science-class\\lib\\site-packages\\sklearn\\linear_model\\_logistic.py:814: ConvergenceWarning: lbfgs failed to converge (status=1):\n",
      "STOP: TOTAL NO. of ITERATIONS REACHED LIMIT.\n",
      "\n",
      "Increase the number of iterations (max_iter) or scale the data as shown in:\n",
      "    https://scikit-learn.org/stable/modules/preprocessing.html\n",
      "Please also refer to the documentation for alternative solver options:\n",
      "    https://scikit-learn.org/stable/modules/linear_model.html#logistic-regression\n",
      "  n_iter_i = _check_optimize_result(\n"
     ]
    },
    {
     "data": {
      "text/plain": [
       "Pipeline(steps=[('vect', CountVectorizer()), ('tfidf', TfidfTransformer()),\n",
       "                ('clf', LogisticRegression())])"
      ]
     },
     "execution_count": 218,
     "metadata": {},
     "output_type": "execute_result"
    }
   ],
   "source": [
    "pipeline.fit(df['text'], df['label_code'])"
   ]
  },
  {
   "cell_type": "code",
   "execution_count": 221,
   "id": "5a8d1cee-e5dc-4078-b9dc-b06a80d7a7ce",
   "metadata": {},
   "outputs": [
    {
     "data": {
      "text/plain": [
       "0    Парусная гонка Giraglia Rolex Cup пройдет в Ср...\n",
       "1    Шведский хоккеист Матс Сундин назначен советни...\n",
       "2    Гран-при конкурса \"Брэнд года/EFFIE\" получил г...\n",
       "3    Цена американской нефти WTI на лондонской бирж...\n",
       "4    Сбербанк выставил на продажу долги по 21,4 тыс...\n",
       "Name: text, dtype: object"
      ]
     },
     "execution_count": 221,
     "metadata": {},
     "output_type": "execute_result"
    }
   ],
   "source": [
    "df['text'].iloc[:5]"
   ]
  },
  {
   "cell_type": "code",
   "execution_count": 222,
   "id": "99882538-170f-4f5b-85a5-dbe3534ab83c",
   "metadata": {},
   "outputs": [
    {
     "data": {
      "text/plain": [
       "0    8\n",
       "1    7\n",
       "2    5\n",
       "3    2\n",
       "4    2\n",
       "Name: label_code, dtype: int8"
      ]
     },
     "execution_count": 222,
     "metadata": {},
     "output_type": "execute_result"
    }
   ],
   "source": [
    "df['label_code'].iloc[:5]"
   ]
  },
  {
   "cell_type": "code",
   "execution_count": 219,
   "id": "83a65aab-fa0d-4e91-b8b7-15f5a451309b",
   "metadata": {},
   "outputs": [
    {
     "data": {
      "text/plain": [
       "array([8, 7, 5, 2, 2], dtype=int8)"
      ]
     },
     "execution_count": 219,
     "metadata": {},
     "output_type": "execute_result"
    }
   ],
   "source": [
    "pipeline.predict(df['text'].iloc[:5])"
   ]
  },
  {
   "cell_type": "markdown",
   "id": "57b38c07-1953-445b-bd11-55011480bd29",
   "metadata": {},
   "source": [
    "Подробнее можно посмотреть [тут](https://www.kaggle.com/sermakarevich/sklearn-pipelines-tutorial)\n",
    "\n",
    "Мы вернемся к пайплайнам через несколько занятий и рассмотрим инструменты, которые дают большую гибкость, чем sklearn"
   ]
  },
  {
   "cell_type": "markdown",
   "id": "1eae16bf-f5a9-4fb3-8a90-e4d72e20b0f4",
   "metadata": {},
   "source": [
    "## Word2Vec\n",
    "\n",
    "Все предыдущие методы позволяли посмотреть частоту вхождения слова, но при этом не учитывали смысл слова и похожесть слов.\n",
    "\n",
    "Метод word2vec пытается понять смысл слов.\n",
    "\n",
    "![](images/word2vec.png)"
   ]
  },
  {
   "cell_type": "code",
   "execution_count": 180,
   "id": "dc28c675-e67f-498c-a7cd-551a6f372991",
   "metadata": {},
   "outputs": [],
   "source": [
    "def process_sentences(df):\n",
    "    \"\"\"\n",
    "    Разбиваем на слова, убираем пунктуацию и применяем стемминг\n",
    "    \"\"\"\n",
    "    processed_texts = []\n",
    "    for i, text in enumerate(df['text']):\n",
    "        if i % 500 == 0:\n",
    "            print(i) # Отмечаем прогресс\n",
    "        text = text.lower()\n",
    "        words = re.findall(r'\\b\\w+\\b', text) # Убираем пунктуацию, разбиваем на слова\n",
    "        tokens = [Porter.stem(word) for word in words] # Применяем стемминг\n",
    "        processed_texts.append(tokens)\n",
    "    return processed_texts"
   ]
  },
  {
   "cell_type": "code",
   "execution_count": 257,
   "id": "f1dcbbaa-7a45-41d3-a66f-8dc9028c5ac4",
   "metadata": {},
   "outputs": [
    {
     "name": "stdout",
     "output_type": "stream",
     "text": [
      "0\n",
      "500\n"
     ]
    }
   ],
   "source": [
    "processed_texts = process_sentences(df.iloc[:1000])"
   ]
  },
  {
   "cell_type": "code",
   "execution_count": 258,
   "id": "cbefc1b1-90d4-4541-81d3-c3aee78face8",
   "metadata": {},
   "outputs": [],
   "source": [
    "from gensim.models import Word2Vec\n",
    "\n",
    "model = Word2Vec(sentences=processed_texts)"
   ]
  },
  {
   "cell_type": "code",
   "execution_count": 259,
   "id": "70a7b746-37f7-4972-af8f-36192333e255",
   "metadata": {},
   "outputs": [
    {
     "data": {
      "text/plain": [
       "(4324481, 5803980)"
      ]
     },
     "execution_count": 259,
     "metadata": {},
     "output_type": "execute_result"
    }
   ],
   "source": [
    "model.train(processed_texts, total_examples=len(processed_texts), epochs=30)"
   ]
  },
  {
   "cell_type": "code",
   "execution_count": 260,
   "id": "05eb50d9-d8b3-4f8a-9de1-b66df98dd562",
   "metadata": {},
   "outputs": [
    {
     "data": {
      "text/plain": [
       "[('двукратн', 0.8481460809707642),\n",
       " ('группов', 0.8304762840270996),\n",
       " ('атлетик', 0.8242084980010986),\n",
       " ('чемпион', 0.8062988519668579),\n",
       " ('футбол', 0.7551819086074829),\n",
       " ('серебр', 0.7530339956283569),\n",
       " ('мадридск', 0.7509691715240479),\n",
       " ('медал', 0.7493553161621094),\n",
       " ('гонк', 0.7383221983909607),\n",
       " ('кубок', 0.7368074059486389)]"
      ]
     },
     "execution_count": 260,
     "metadata": {},
     "output_type": "execute_result"
    }
   ],
   "source": [
    "word = 'хоккей'\n",
    "stemmed_word = Porter.stem(word)\n",
    "model.wv.most_similar(stemmed_word, topn=10)"
   ]
  },
  {
   "cell_type": "code",
   "execution_count": 261,
   "id": "cd8f007e-18a8-451a-9fd0-672b392d39bb",
   "metadata": {},
   "outputs": [
    {
     "data": {
      "text/plain": [
       "[('полиц', 0.9244458079338074),\n",
       " ('мужчин', 0.8585390448570251),\n",
       " ('полицейск', 0.8070032000541687),\n",
       " ('обвинен', 0.7531096339225769),\n",
       " ('коз', 0.7407615780830383),\n",
       " ('нападен', 0.7124038338661194),\n",
       " ('подозрева', 0.702332615852356),\n",
       " ('догерт', 0.6975364685058594),\n",
       " ('муж', 0.6896600723266602),\n",
       " ('супруг', 0.6887236833572388)]"
      ]
     },
     "execution_count": 261,
     "metadata": {},
     "output_type": "execute_result"
    }
   ],
   "source": [
    "def get_v(word):\n",
    "    return model.wv[Porter.stem(word)]\n",
    "\n",
    "model.wv.similar_by_vector(get_v('полиция') + get_v('мужчина'))"
   ]
  },
  {
   "cell_type": "markdown",
   "id": "f6ee258d-4ccc-4cb0-b041-e76cd358654f",
   "metadata": {},
   "source": [
    "## Задача\n",
    "\n",
    "Используя word2vec классифицировать тексты\n",
    "\n",
    "Алгоритм:\n",
    "\n",
    "- разделить на треин и тест выборки\n",
    "- обучить word2vec на треин выборке\n",
    "- написать функцию для составления вектора по документу (для этого нужно посчитать среднее векторов всех слов)\n",
    "- обучить модель, оценить результаты\n",
    "\n",
    "Для начала лучше взять небольшую выборку, чтобы проще было писать код (например, 2000 в треин и 5 примеров в тест). \n",
    "\n",
    "Когда убедились, что все работает, брать весь датасет.\n",
    "\n",
    "Функции, которые могут помочь и подсказки:\n",
    "\n",
    "- `model.wv.key_to_index` - словарь токен->номер токена. Можно взять список всех слов отсюда.\n",
    "- `model.wv[word]` - получаем вектор по слову. Не забываем применить предобработку!\n",
    "- может случиться так, что word2vec не будет знать какого-то слова из обучающей выборки. Тогда этому слову присваиваем нулевой вектор."
   ]
  },
  {
   "cell_type": "code",
   "execution_count": null,
   "id": "9a2671d8-829b-473b-85b6-e41475eb8e26",
   "metadata": {},
   "outputs": [],
   "source": []
  },
  {
   "cell_type": "markdown",
   "id": "b5be690e-403d-451b-9f03-2a49272c142f",
   "metadata": {},
   "source": [
    "# Домашняя работа\n",
    "\n",
    "Будем решать задачу сентимент-анализа. В архиве `data/sentiment analisys.zip` лежит несколько эксель файлов с твитами разных пользователей на разных языках (один файл - один язык).\n",
    "\n",
    "Нужно выбрать один из файлов и провести над ним работу.\n",
    "\n",
    "## Easy\n",
    "\n",
    "Оценить сбалансированность классов.\n",
    "\n",
    "Удалить пунктуацию из датасета.\n",
    "\n",
    "Преобразовать датасет в BOW или TF-IDF, поделить на треин-тест и спрогнозировать вашей любимой моделью\n",
    "\n",
    "## Normal\n",
    "\n",
    "Удалить стоп-слова из датасета, использовать стеммер Портера (лежит в `src/porter.py`). Использовать пайплайн для TF-IDF и модели машинного обучения. Подобрать параметры. Сравнить качество нескольких моделей.\n",
    "\n",
    "## Hard\n",
    "\n",
    "Использовать лемматизатор `pymorphy` вместо стемминга. Использовать word2vec вместо tf-idf. В качестве модели использовать градиентный бустинг не из sklearn. Подобрать параметры, оценить качество на кросс-валидации."
   ]
  }
 ],
 "metadata": {
  "kernelspec": {
   "display_name": "Python 3 (ipykernel)",
   "language": "python",
   "name": "python3"
  },
  "language_info": {
   "codemirror_mode": {
    "name": "ipython",
    "version": 3
   },
   "file_extension": ".py",
   "mimetype": "text/x-python",
   "name": "python",
   "nbconvert_exporter": "python",
   "pygments_lexer": "ipython3",
   "version": "3.9.7"
  }
 },
 "nbformat": 4,
 "nbformat_minor": 5
}
