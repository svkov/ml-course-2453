{
 "cells": [
  {
   "cell_type": "code",
   "execution_count": 1,
   "id": "494a13a9-74bb-4e98-a461-56cb1311334f",
   "metadata": {},
   "outputs": [],
   "source": [
    "import numpy as np"
   ]
  },
  {
   "cell_type": "markdown",
   "id": "322e00d9-9a19-49c7-b45f-2952e316fc2b",
   "metadata": {},
   "source": [
    "## Задача\n",
    "\n",
    "Сгенерировать вектор из 100 элементов и превратить его в:\n",
    "\n",
    "- матрицу 10x10\n",
    "- вектор 1x100\n",
    "- вектор 100x1"
   ]
  },
  {
   "cell_type": "code",
   "execution_count": 3,
   "id": "f7877dcb-3d48-4dbe-81b8-7847222032e3",
   "metadata": {},
   "outputs": [
    {
     "name": "stdout",
     "output_type": "stream",
     "text": [
      "(10, 10) (1, 100) (100, 1)\n"
     ]
    }
   ],
   "source": [
    "vector = np.arange(100)\n",
    "\n",
    "matrix10 = vector.reshape(10, 10)\n",
    "vec1 = vector.reshape(1, 100)\n",
    "vec2 = vector.reshape(100, 1)\n",
    "\n",
    "print(matrix10.shape, vec1.shape, vec2.shape)"
   ]
  },
  {
   "cell_type": "markdown",
   "id": "5ba18996-cd8f-49c8-aa82-b8be09d1753a",
   "metadata": {},
   "source": [
    "## Задача - Решение СЛАУ\n",
    "\n",
    "$Ax = b$\n",
    "\n",
    "Функция обратной матрицы - `np.linalg.inv(A)`"
   ]
  },
  {
   "cell_type": "markdown",
   "id": "bd69837a-4771-416f-a3fb-41e3ce9b7fbb",
   "metadata": {},
   "source": [
    "Решение СЛАУ выглядит так:\n",
    "\n",
    "$Ax = b$\n",
    "\n",
    "$A^{-1}Ax=A^{-1}b$\n",
    "\n",
    "$x=A^{-1}b$"
   ]
  },
  {
   "cell_type": "code",
   "execution_count": 5,
   "id": "bce41e1b-5510-4ba6-a468-5bc644a30c3f",
   "metadata": {},
   "outputs": [
    {
     "data": {
      "text/plain": [
       "array([1.11022302e-16, 3.00000000e+00])"
      ]
     },
     "execution_count": 5,
     "metadata": {},
     "output_type": "execute_result"
    }
   ],
   "source": [
    "A = np.array([\n",
    "    [3, -2],\n",
    "    [5, 1]]\n",
    ")\n",
    "b = np.array([-6, 3])\n",
    "# Решение - [0, 3]\n",
    "x = np.linalg.inv(A) @ b\n",
    "x"
   ]
  },
  {
   "cell_type": "code",
   "execution_count": 6,
   "id": "f2c6eab0-5bf5-449b-8ad6-60b0248dacb4",
   "metadata": {},
   "outputs": [
    {
     "data": {
      "text/plain": [
       "array([0., 3.])"
      ]
     },
     "execution_count": 6,
     "metadata": {},
     "output_type": "execute_result"
    }
   ],
   "source": [
    "np.linalg.solve(A, b)"
   ]
  },
  {
   "cell_type": "markdown",
   "id": "50c538d7-57c9-49be-b6cf-ec94726aa0e0",
   "metadata": {},
   "source": [
    "## Задача\n",
    "\n",
    "Сгенерировать случайную матрицу и посчитать сумму положительных элементов в каждой строке, в каждом столбце."
   ]
  },
  {
   "cell_type": "code",
   "execution_count": 12,
   "id": "04ebb6e0-c076-4788-97e1-d297fc66c1e4",
   "metadata": {},
   "outputs": [],
   "source": [
    "a = np.random.uniform(-1, 1, size=(5, 3))\n",
    "a[a < 0] = 0"
   ]
  },
  {
   "cell_type": "code",
   "execution_count": 13,
   "id": "454f8e3f-8039-418b-934c-186d33e160e2",
   "metadata": {},
   "outputs": [
    {
     "data": {
      "text/plain": [
       "array([1.45412721, 0.69746327, 0.79263092])"
      ]
     },
     "execution_count": 13,
     "metadata": {},
     "output_type": "execute_result"
    }
   ],
   "source": [
    "a.sum(axis=0)"
   ]
  },
  {
   "cell_type": "code",
   "execution_count": 14,
   "id": "f6dd6bec-71f8-4297-9c28-7ff6e21d4665",
   "metadata": {},
   "outputs": [
    {
     "data": {
      "text/plain": [
       "array([0.4265673 , 0.4297739 , 0.77118111, 0.79730625, 0.51939283])"
      ]
     },
     "execution_count": 14,
     "metadata": {},
     "output_type": "execute_result"
    }
   ],
   "source": [
    "a.sum(axis=1)"
   ]
  },
  {
   "cell_type": "markdown",
   "id": "79b142e1-c502-4c7e-a320-df9a27b27d04",
   "metadata": {},
   "source": [
    "## Задача\n",
    "\n",
    "Вывести матрицу из нулей и единиц в шахматном порядке"
   ]
  },
  {
   "cell_type": "code",
   "execution_count": 18,
   "id": "944b339f-07ac-4d5c-9788-4ed44d7c177a",
   "metadata": {},
   "outputs": [
    {
     "data": {
      "text/plain": [
       "array([[1., 0., 1., 0., 1.],\n",
       "       [0., 1., 0., 1., 0.],\n",
       "       [1., 0., 1., 0., 1.],\n",
       "       [0., 1., 0., 1., 0.],\n",
       "       [1., 0., 1., 0., 1.]])"
      ]
     },
     "execution_count": 18,
     "metadata": {},
     "output_type": "execute_result"
    }
   ],
   "source": [
    "n = 5\n",
    "m = np.zeros((n, n))\n",
    "\n",
    "m[::2, ::2] = 1\n",
    "m[1::2, 1::2] = 1\n",
    "\n",
    "m"
   ]
  },
  {
   "cell_type": "markdown",
   "id": "2e77ab60-815c-4613-b9be-f0f3c4a3617e",
   "metadata": {},
   "source": [
    "## Задача\n",
    "\n",
    "Решим СЛАУ 2 порядка методом Крамера\n",
    "\n",
    "https://ru.wikipedia.org/wiki/%D0%9C%D0%B5%D1%82%D0%BE%D0%B4_%D0%9A%D1%80%D0%B0%D0%BC%D0%B5%D1%80%D0%B0\n",
    "\n",
    "На практике этот метод неэффективен, но зато позволяет разобраться с индексацией"
   ]
  },
  {
   "cell_type": "code",
   "execution_count": 21,
   "id": "5c84ea56-cdae-48fd-83fd-68700daac7ec",
   "metadata": {},
   "outputs": [
    {
     "name": "stdout",
     "output_type": "stream",
     "text": [
      "[0.0, 2.9999999999999996]\n"
     ]
    }
   ],
   "source": [
    "A = np.array([\n",
    "    [3, -2],\n",
    "    [5, 1]]\n",
    ")\n",
    "b = np.array([-6, 3])\n",
    "\n",
    "A1 = A.copy()\n",
    "A2 = A.copy()\n",
    "\n",
    "A1[:, 0] = b\n",
    "A2[:, 1] = b\n",
    "\n",
    "delta = np.linalg.det(A)\n",
    "delta1 = np.linalg.det(A1)\n",
    "delta2 = np.linalg.det(A2)\n",
    "\n",
    "if delta == 0:\n",
    "    x = None\n",
    "    print('Корней нет')\n",
    "else:\n",
    "    x = [delta1 / delta, delta2 / delta]\n",
    "    print(x)"
   ]
  },
  {
   "cell_type": "markdown",
   "id": "8b8e2092-aebd-416d-8df4-d09bfc3196da",
   "metadata": {},
   "source": [
    "Решение можно оформить в функцию"
   ]
  },
  {
   "cell_type": "code",
   "execution_count": 22,
   "id": "3b0ba5c6-3d17-45c2-bd88-c889a1e0abdc",
   "metadata": {},
   "outputs": [],
   "source": [
    "def solve_cramer(A, b):\n",
    "    A1 = A.copy()\n",
    "    A2 = A.copy()\n",
    "    A1[:, 0] = b\n",
    "    A2[:, 1] = b\n",
    "\n",
    "    delta = np.linalg.det(A)\n",
    "    delta1 = np.linalg.det(A1)\n",
    "    delta2 = np.linalg.det(A2)\n",
    "\n",
    "    if delta == 0:\n",
    "        return None\n",
    "    else:\n",
    "        return [delta1 / delta, delta2 / delta]"
   ]
  },
  {
   "cell_type": "markdown",
   "id": "72e66cae-e09a-4784-b760-8cde1a758e75",
   "metadata": {},
   "source": [
    "Сравним скорость решения метода Крамера и стандартного способа, реализованного в numpy"
   ]
  },
  {
   "cell_type": "code",
   "execution_count": 26,
   "id": "faa9730a-1aac-4e2a-91a3-86172248172d",
   "metadata": {},
   "outputs": [
    {
     "name": "stdout",
     "output_type": "stream",
     "text": [
      "20.3 µs ± 967 ns per loop (mean ± std. dev. of 7 runs, 10000 loops each)\n"
     ]
    }
   ],
   "source": [
    "%%timeit\n",
    "solve_cramer(A, b)"
   ]
  },
  {
   "cell_type": "code",
   "execution_count": 27,
   "id": "46484a8d-32ff-425e-9c52-f2d43d6e5b96",
   "metadata": {},
   "outputs": [
    {
     "name": "stdout",
     "output_type": "stream",
     "text": [
      "6.72 µs ± 155 ns per loop (mean ± std. dev. of 7 runs, 100000 loops each)\n"
     ]
    }
   ],
   "source": [
    "%%timeit\n",
    "np.linalg.solve(A, b)"
   ]
  },
  {
   "cell_type": "markdown",
   "id": "d52a02ad-5913-48fe-9db3-0c8126bda3f7",
   "metadata": {},
   "source": [
    "numpy решает в 3 раза быстрее даже для матрицы 2х2"
   ]
  }
 ],
 "metadata": {
  "kernelspec": {
   "display_name": "Python 3 (ipykernel)",
   "language": "python",
   "name": "python3"
  },
  "language_info": {
   "codemirror_mode": {
    "name": "ipython",
    "version": 3
   },
   "file_extension": ".py",
   "mimetype": "text/x-python",
   "name": "python",
   "nbconvert_exporter": "python",
   "pygments_lexer": "ipython3",
   "version": "3.9.7"
  }
 },
 "nbformat": 4,
 "nbformat_minor": 5
}
