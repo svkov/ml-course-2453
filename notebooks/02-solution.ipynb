{
 "cells": [
  {
   "cell_type": "code",
   "execution_count": 1,
   "id": "494a13a9-74bb-4e98-a461-56cb1311334f",
   "metadata": {},
   "outputs": [],
   "source": [
    "import numpy as np\n",
    "import pandas as pd\n",
    "import matplotlib.pyplot as plt"
   ]
  },
  {
   "cell_type": "markdown",
   "id": "698fd58e-a74a-4828-899c-e69100aaf379",
   "metadata": {},
   "source": [
    "# Numpy"
   ]
  },
  {
   "cell_type": "markdown",
   "id": "322e00d9-9a19-49c7-b45f-2952e316fc2b",
   "metadata": {},
   "source": [
    "## Задача\n",
    "\n",
    "Сгенерировать вектор из 100 элементов и превратить его в:\n",
    "\n",
    "- матрицу 10x10\n",
    "- вектор 1x100\n",
    "- вектор 100x1"
   ]
  },
  {
   "cell_type": "code",
   "execution_count": 3,
   "id": "f7877dcb-3d48-4dbe-81b8-7847222032e3",
   "metadata": {},
   "outputs": [
    {
     "name": "stdout",
     "output_type": "stream",
     "text": [
      "(10, 10) (1, 100) (100, 1)\n"
     ]
    }
   ],
   "source": [
    "vector = np.arange(100)\n",
    "\n",
    "matrix10 = vector.reshape(10, 10)\n",
    "vec1 = vector.reshape(1, 100)\n",
    "vec2 = vector.reshape(100, 1)\n",
    "\n",
    "print(matrix10.shape, vec1.shape, vec2.shape)"
   ]
  },
  {
   "cell_type": "markdown",
   "id": "5ba18996-cd8f-49c8-aa82-b8be09d1753a",
   "metadata": {},
   "source": [
    "## Задача - Решение СЛАУ\n",
    "\n",
    "$Ax = b$\n",
    "\n",
    "Функция обратной матрицы - `np.linalg.inv(A)`"
   ]
  },
  {
   "cell_type": "markdown",
   "id": "bd69837a-4771-416f-a3fb-41e3ce9b7fbb",
   "metadata": {},
   "source": [
    "Решение СЛАУ выглядит так:\n",
    "\n",
    "$Ax = b$\n",
    "\n",
    "$A^{-1}Ax=A^{-1}b$\n",
    "\n",
    "$x=A^{-1}b$"
   ]
  },
  {
   "cell_type": "code",
   "execution_count": 5,
   "id": "bce41e1b-5510-4ba6-a468-5bc644a30c3f",
   "metadata": {},
   "outputs": [
    {
     "data": {
      "text/plain": [
       "array([1.11022302e-16, 3.00000000e+00])"
      ]
     },
     "execution_count": 5,
     "metadata": {},
     "output_type": "execute_result"
    }
   ],
   "source": [
    "A = np.array([\n",
    "    [3, -2],\n",
    "    [5, 1]]\n",
    ")\n",
    "b = np.array([-6, 3])\n",
    "# Решение - [0, 3]\n",
    "x = np.linalg.inv(A) @ b\n",
    "x"
   ]
  },
  {
   "cell_type": "code",
   "execution_count": 6,
   "id": "f2c6eab0-5bf5-449b-8ad6-60b0248dacb4",
   "metadata": {},
   "outputs": [
    {
     "data": {
      "text/plain": [
       "array([0., 3.])"
      ]
     },
     "execution_count": 6,
     "metadata": {},
     "output_type": "execute_result"
    }
   ],
   "source": [
    "np.linalg.solve(A, b)"
   ]
  },
  {
   "cell_type": "markdown",
   "id": "50c538d7-57c9-49be-b6cf-ec94726aa0e0",
   "metadata": {},
   "source": [
    "## Задача\n",
    "\n",
    "Сгенерировать случайную матрицу и посчитать сумму положительных элементов в каждой строке, в каждом столбце."
   ]
  },
  {
   "cell_type": "code",
   "execution_count": 12,
   "id": "04ebb6e0-c076-4788-97e1-d297fc66c1e4",
   "metadata": {},
   "outputs": [],
   "source": [
    "a = np.random.uniform(-1, 1, size=(5, 3))\n",
    "a[a < 0] = 0"
   ]
  },
  {
   "cell_type": "code",
   "execution_count": 13,
   "id": "454f8e3f-8039-418b-934c-186d33e160e2",
   "metadata": {},
   "outputs": [
    {
     "data": {
      "text/plain": [
       "array([1.45412721, 0.69746327, 0.79263092])"
      ]
     },
     "execution_count": 13,
     "metadata": {},
     "output_type": "execute_result"
    }
   ],
   "source": [
    "a.sum(axis=0)"
   ]
  },
  {
   "cell_type": "code",
   "execution_count": 14,
   "id": "f6dd6bec-71f8-4297-9c28-7ff6e21d4665",
   "metadata": {},
   "outputs": [
    {
     "data": {
      "text/plain": [
       "array([0.4265673 , 0.4297739 , 0.77118111, 0.79730625, 0.51939283])"
      ]
     },
     "execution_count": 14,
     "metadata": {},
     "output_type": "execute_result"
    }
   ],
   "source": [
    "a.sum(axis=1)"
   ]
  },
  {
   "cell_type": "markdown",
   "id": "79b142e1-c502-4c7e-a320-df9a27b27d04",
   "metadata": {},
   "source": [
    "## Задача\n",
    "\n",
    "Вывести матрицу из нулей и единиц в шахматном порядке"
   ]
  },
  {
   "cell_type": "code",
   "execution_count": 18,
   "id": "944b339f-07ac-4d5c-9788-4ed44d7c177a",
   "metadata": {},
   "outputs": [
    {
     "data": {
      "text/plain": [
       "array([[1., 0., 1., 0., 1.],\n",
       "       [0., 1., 0., 1., 0.],\n",
       "       [1., 0., 1., 0., 1.],\n",
       "       [0., 1., 0., 1., 0.],\n",
       "       [1., 0., 1., 0., 1.]])"
      ]
     },
     "execution_count": 18,
     "metadata": {},
     "output_type": "execute_result"
    }
   ],
   "source": [
    "n = 5\n",
    "m = np.zeros((n, n))\n",
    "\n",
    "m[::2, ::2] = 1\n",
    "m[1::2, 1::2] = 1\n",
    "\n",
    "m"
   ]
  },
  {
   "cell_type": "markdown",
   "id": "2e77ab60-815c-4613-b9be-f0f3c4a3617e",
   "metadata": {},
   "source": [
    "## Задача\n",
    "\n",
    "Решим СЛАУ 2 порядка методом Крамера\n",
    "\n",
    "https://ru.wikipedia.org/wiki/%D0%9C%D0%B5%D1%82%D0%BE%D0%B4_%D0%9A%D1%80%D0%B0%D0%BC%D0%B5%D1%80%D0%B0\n",
    "\n",
    "На практике этот метод неэффективен, но зато позволяет разобраться с индексацией"
   ]
  },
  {
   "cell_type": "code",
   "execution_count": 21,
   "id": "5c84ea56-cdae-48fd-83fd-68700daac7ec",
   "metadata": {},
   "outputs": [
    {
     "name": "stdout",
     "output_type": "stream",
     "text": [
      "[0.0, 2.9999999999999996]\n"
     ]
    }
   ],
   "source": [
    "A = np.array([\n",
    "    [3, -2],\n",
    "    [5, 1]]\n",
    ")\n",
    "b = np.array([-6, 3])\n",
    "\n",
    "A1 = A.copy()\n",
    "A2 = A.copy()\n",
    "\n",
    "A1[:, 0] = b\n",
    "A2[:, 1] = b\n",
    "\n",
    "delta = np.linalg.det(A)\n",
    "delta1 = np.linalg.det(A1)\n",
    "delta2 = np.linalg.det(A2)\n",
    "\n",
    "if delta == 0:\n",
    "    x = None\n",
    "    print('Корней нет')\n",
    "else:\n",
    "    x = [delta1 / delta, delta2 / delta]\n",
    "    print(x)"
   ]
  },
  {
   "cell_type": "markdown",
   "id": "8b8e2092-aebd-416d-8df4-d09bfc3196da",
   "metadata": {},
   "source": [
    "Решение можно оформить в функцию"
   ]
  },
  {
   "cell_type": "code",
   "execution_count": 22,
   "id": "3b0ba5c6-3d17-45c2-bd88-c889a1e0abdc",
   "metadata": {},
   "outputs": [],
   "source": [
    "def solve_cramer(A, b):\n",
    "    A1 = A.copy()\n",
    "    A2 = A.copy()\n",
    "    A1[:, 0] = b\n",
    "    A2[:, 1] = b\n",
    "\n",
    "    delta = np.linalg.det(A)\n",
    "    delta1 = np.linalg.det(A1)\n",
    "    delta2 = np.linalg.det(A2)\n",
    "\n",
    "    if delta == 0:\n",
    "        return None\n",
    "    else:\n",
    "        return [delta1 / delta, delta2 / delta]"
   ]
  },
  {
   "cell_type": "markdown",
   "id": "72e66cae-e09a-4784-b760-8cde1a758e75",
   "metadata": {},
   "source": [
    "Сравним скорость решения метода Крамера и стандартного способа, реализованного в numpy"
   ]
  },
  {
   "cell_type": "code",
   "execution_count": 26,
   "id": "faa9730a-1aac-4e2a-91a3-86172248172d",
   "metadata": {},
   "outputs": [
    {
     "name": "stdout",
     "output_type": "stream",
     "text": [
      "20.3 µs ± 967 ns per loop (mean ± std. dev. of 7 runs, 10000 loops each)\n"
     ]
    }
   ],
   "source": [
    "%%timeit\n",
    "solve_cramer(A, b)"
   ]
  },
  {
   "cell_type": "code",
   "execution_count": 27,
   "id": "46484a8d-32ff-425e-9c52-f2d43d6e5b96",
   "metadata": {},
   "outputs": [
    {
     "name": "stdout",
     "output_type": "stream",
     "text": [
      "6.72 µs ± 155 ns per loop (mean ± std. dev. of 7 runs, 100000 loops each)\n"
     ]
    }
   ],
   "source": [
    "%%timeit\n",
    "np.linalg.solve(A, b)"
   ]
  },
  {
   "cell_type": "markdown",
   "id": "d52a02ad-5913-48fe-9db3-0c8126bda3f7",
   "metadata": {},
   "source": [
    "numpy решает в 3 раза быстрее даже для матрицы 2х2"
   ]
  },
  {
   "cell_type": "markdown",
   "id": "46d1c233-73d0-4481-a5a1-7393fe77ef52",
   "metadata": {},
   "source": [
    "# Pandas"
   ]
  },
  {
   "cell_type": "markdown",
   "id": "63a8b551-f4e5-4218-9915-66d5dfab2edf",
   "metadata": {},
   "source": [
    "## Задача\n",
    "\n",
    "Посчитать средний рост для высоких людей"
   ]
  },
  {
   "cell_type": "code",
   "execution_count": 3,
   "id": "e687017c-6788-40ac-ab8e-699a58a2c8c9",
   "metadata": {},
   "outputs": [
    {
     "data": {
      "text/html": [
       "<div>\n",
       "<style scoped>\n",
       "    .dataframe tbody tr th:only-of-type {\n",
       "        vertical-align: middle;\n",
       "    }\n",
       "\n",
       "    .dataframe tbody tr th {\n",
       "        vertical-align: top;\n",
       "    }\n",
       "\n",
       "    .dataframe thead th {\n",
       "        text-align: right;\n",
       "    }\n",
       "</style>\n",
       "<table border=\"1\" class=\"dataframe\">\n",
       "  <thead>\n",
       "    <tr style=\"text-align: right;\">\n",
       "      <th></th>\n",
       "      <th>age</th>\n",
       "      <th>height</th>\n",
       "      <th>name</th>\n",
       "      <th>height_category</th>\n",
       "    </tr>\n",
       "  </thead>\n",
       "  <tbody>\n",
       "    <tr>\n",
       "      <th>0</th>\n",
       "      <td>25</td>\n",
       "      <td>170</td>\n",
       "      <td>Alex</td>\n",
       "      <td>низкий</td>\n",
       "    </tr>\n",
       "    <tr>\n",
       "      <th>1</th>\n",
       "      <td>35</td>\n",
       "      <td>180</td>\n",
       "      <td>Polina</td>\n",
       "      <td>высокий</td>\n",
       "    </tr>\n",
       "    <tr>\n",
       "      <th>2</th>\n",
       "      <td>45</td>\n",
       "      <td>190</td>\n",
       "      <td>Misha</td>\n",
       "      <td>высокий</td>\n",
       "    </tr>\n",
       "  </tbody>\n",
       "</table>\n",
       "</div>"
      ],
      "text/plain": [
       "   age  height    name height_category\n",
       "0   25     170    Alex          низкий\n",
       "1   35     180  Polina         высокий\n",
       "2   45     190   Misha         высокий"
      ]
     },
     "execution_count": 3,
     "metadata": {},
     "output_type": "execute_result"
    }
   ],
   "source": [
    "# Сгенерируем датафрейм\n",
    "ages = [25, 35, 45]\n",
    "heights = [170, 180, 190]\n",
    "names = [\"Alex\", \"Polina\", \"Misha\"]\n",
    "data = {'age': ages, 'height': heights, 'name': names}\n",
    "df = pd.DataFrame(data)\n",
    "df[\"height_category\"] = df[\"height\"].apply(lambda x: \"высокий\" if x > 175 else \"низкий\")\n",
    "df"
   ]
  },
  {
   "cell_type": "code",
   "execution_count": 4,
   "id": "a59f2cdc-c7f3-4b78-8e4c-7530eac75bc8",
   "metadata": {},
   "outputs": [
    {
     "data": {
      "text/plain": [
       "185.0"
      ]
     },
     "execution_count": 4,
     "metadata": {},
     "output_type": "execute_result"
    }
   ],
   "source": [
    "df.loc[df['height_category'] == 'высокий', 'height'].mean()"
   ]
  },
  {
   "cell_type": "markdown",
   "id": "9f19ccdf-f585-4b9a-90c5-2da07e27b2a0",
   "metadata": {},
   "source": [
    "## Задача\n",
    "\n",
    "Вывести среднюю температуру за январь 2010 года"
   ]
  },
  {
   "cell_type": "code",
   "execution_count": 6,
   "id": "93f4c3f2-0665-4042-92a7-31270d3019c1",
   "metadata": {},
   "outputs": [
    {
     "data": {
      "text/html": [
       "<div>\n",
       "<style scoped>\n",
       "    .dataframe tbody tr th:only-of-type {\n",
       "        vertical-align: middle;\n",
       "    }\n",
       "\n",
       "    .dataframe tbody tr th {\n",
       "        vertical-align: top;\n",
       "    }\n",
       "\n",
       "    .dataframe thead th {\n",
       "        text-align: right;\n",
       "    }\n",
       "</style>\n",
       "<table border=\"1\" class=\"dataframe\">\n",
       "  <thead>\n",
       "    <tr style=\"text-align: right;\">\n",
       "      <th></th>\n",
       "      <th>Day</th>\n",
       "      <th>t</th>\n",
       "      <th>year</th>\n",
       "      <th>month</th>\n",
       "      <th>day</th>\n",
       "    </tr>\n",
       "  </thead>\n",
       "  <tbody>\n",
       "    <tr>\n",
       "      <th>0</th>\n",
       "      <td>2008-01-01</td>\n",
       "      <td>0</td>\n",
       "      <td>2008</td>\n",
       "      <td>1</td>\n",
       "      <td>1</td>\n",
       "    </tr>\n",
       "    <tr>\n",
       "      <th>1</th>\n",
       "      <td>2008-01-02</td>\n",
       "      <td>-5</td>\n",
       "      <td>2008</td>\n",
       "      <td>1</td>\n",
       "      <td>2</td>\n",
       "    </tr>\n",
       "    <tr>\n",
       "      <th>2</th>\n",
       "      <td>2008-01-03</td>\n",
       "      <td>-11</td>\n",
       "      <td>2008</td>\n",
       "      <td>1</td>\n",
       "      <td>3</td>\n",
       "    </tr>\n",
       "    <tr>\n",
       "      <th>3</th>\n",
       "      <td>2008-01-04</td>\n",
       "      <td>-11</td>\n",
       "      <td>2008</td>\n",
       "      <td>1</td>\n",
       "      <td>4</td>\n",
       "    </tr>\n",
       "    <tr>\n",
       "      <th>4</th>\n",
       "      <td>2008-01-05</td>\n",
       "      <td>-12</td>\n",
       "      <td>2008</td>\n",
       "      <td>1</td>\n",
       "      <td>5</td>\n",
       "    </tr>\n",
       "  </tbody>\n",
       "</table>\n",
       "</div>"
      ],
      "text/plain": [
       "         Day   t  year  month  day\n",
       "0 2008-01-01   0  2008      1    1\n",
       "1 2008-01-02  -5  2008      1    2\n",
       "2 2008-01-03 -11  2008      1    3\n",
       "3 2008-01-04 -11  2008      1    4\n",
       "4 2008-01-05 -12  2008      1    5"
      ]
     },
     "execution_count": 6,
     "metadata": {},
     "output_type": "execute_result"
    }
   ],
   "source": [
    "# Прочитаем данные\n",
    "df = pd.read_csv('../data/weather.csv')\n",
    "df[\"Day\"] = pd.to_datetime(df[\"Day\"])\n",
    "df[\"year\"] = df.Day.dt.year\n",
    "df[\"month\"] = df.Day.dt.month\n",
    "df[\"day\"] = df.Day.dt.day\n",
    "df.head()"
   ]
  },
  {
   "cell_type": "code",
   "execution_count": 8,
   "id": "797091c8-3b5b-4aa8-b6c1-f66a7ff9c0a8",
   "metadata": {},
   "outputs": [
    {
     "data": {
      "text/plain": [
       "-11.419354838709678"
      ]
     },
     "execution_count": 8,
     "metadata": {},
     "output_type": "execute_result"
    }
   ],
   "source": [
    "df.loc[(df['year'] == 2010) & (df['month'] == 1), 't'].mean()"
   ]
  },
  {
   "cell_type": "markdown",
   "id": "c6346cca-21f5-4e11-9ce4-3e5ba49621e9",
   "metadata": {},
   "source": [
    "## Задания\n",
    "\n",
    "Стараемся избегать циклов\n",
    "\n",
    "### Easy\n",
    "- Найти насколько отличалась температура в самый жаркий и самый холодный день"
   ]
  },
  {
   "cell_type": "code",
   "execution_count": 9,
   "id": "cd2688ca-919d-4d8a-ad37-9e1aa3ea5271",
   "metadata": {},
   "outputs": [
    {
     "data": {
      "text/plain": [
       "57"
      ]
     },
     "execution_count": 9,
     "metadata": {},
     "output_type": "execute_result"
    }
   ],
   "source": [
    "abs(df['t'].min() - df['t'].max())"
   ]
  },
  {
   "cell_type": "markdown",
   "id": "73bba487-b09e-46fe-aa25-fbce54f558ee",
   "metadata": {},
   "source": [
    "### Normal\n",
    "- Вывести среднюю температуру за каждый год"
   ]
  },
  {
   "cell_type": "code",
   "execution_count": 11,
   "id": "c2aa7ae6-b643-491a-956b-77f28cd9922a",
   "metadata": {},
   "outputs": [
    {
     "data": {
      "text/plain": [
       "year\n",
       "2008    8.545205\n",
       "2009    7.610959\n",
       "2010    7.117808\n",
       "2011    8.337912\n",
       "2012    6.980822\n",
       "2013    8.728767\n",
       "2014    8.931507\n",
       "2015    9.079452\n",
       "2016    7.907104\n",
       "Name: t, dtype: float64"
      ]
     },
     "execution_count": 11,
     "metadata": {},
     "output_type": "execute_result"
    }
   ],
   "source": [
    "df.groupby('year').mean()['t']"
   ]
  },
  {
   "cell_type": "markdown",
   "id": "331e16c2-039a-4aae-a2db-5425cc6b90d3",
   "metadata": {},
   "source": [
    "### Hard\n",
    "- Вывести день, в который максимально изменилась температура\n",
    "\n",
    "Подсказка: `diff()`"
   ]
  },
  {
   "cell_type": "markdown",
   "id": "7aad1e8a-d7ce-4c7f-b8fa-99570769e5c4",
   "metadata": {},
   "source": [
    "## Решение\n",
    "\n",
    "С помощью `diff` посчитаем разницу между соседними днями"
   ]
  },
  {
   "cell_type": "code",
   "execution_count": 19,
   "id": "857388d6-65ca-4e02-b5df-d5d554bc6e01",
   "metadata": {},
   "outputs": [
    {
     "data": {
      "text/plain": [
       "0       NaN\n",
       "1      -5.0\n",
       "2      -6.0\n",
       "3       0.0\n",
       "4      -1.0\n",
       "       ... \n",
       "3280   -4.0\n",
       "3281   -4.0\n",
       "3282    3.0\n",
       "3283    3.0\n",
       "3284    1.0\n",
       "Name: t, Length: 3285, dtype: float64"
      ]
     },
     "execution_count": 19,
     "metadata": {},
     "output_type": "execute_result"
    }
   ],
   "source": [
    "df['t'].diff()"
   ]
  },
  {
   "cell_type": "markdown",
   "id": "32ccd29e-4ffb-4ae9-9b70-ad6f824f5ba4",
   "metadata": {},
   "source": [
    "Видим, что есть отрицательные значения, но нам не важно в какую сторону менялась температура, поэтому берем абсолютное значение.\n",
    "\n",
    "Также есть `NaN`, но для решения этой задачи это не должно быть проблемой"
   ]
  },
  {
   "cell_type": "code",
   "execution_count": 21,
   "id": "1f21869d-8fd7-476e-86e5-eb4d05399790",
   "metadata": {},
   "outputs": [
    {
     "data": {
      "text/plain": [
       "0       NaN\n",
       "1       5.0\n",
       "2       6.0\n",
       "3       0.0\n",
       "4       1.0\n",
       "       ... \n",
       "3280    4.0\n",
       "3281    4.0\n",
       "3282    3.0\n",
       "3283    3.0\n",
       "3284    1.0\n",
       "Name: t, Length: 3285, dtype: float64"
      ]
     },
     "execution_count": 21,
     "metadata": {},
     "output_type": "execute_result"
    }
   ],
   "source": [
    "abs(df['t'].diff())"
   ]
  },
  {
   "cell_type": "markdown",
   "id": "2ca967c5-a6ad-46e2-98be-937e2db947b6",
   "metadata": {},
   "source": [
    "Сохраним это в новую колонку, чтобы дальше ее использовать"
   ]
  },
  {
   "cell_type": "code",
   "execution_count": 22,
   "id": "4d752684-0bbf-4661-b924-c11c23876153",
   "metadata": {},
   "outputs": [],
   "source": [
    "df['diff_t'] = abs(df['t'].diff())"
   ]
  },
  {
   "cell_type": "markdown",
   "id": "af7d9623-469d-452d-9992-4a0c39c7956d",
   "metadata": {},
   "source": [
    "Теперь надо найти максимальное значение и посмотреть в каком дне это было. Максимум можно найти при помощи функции `max`"
   ]
  },
  {
   "cell_type": "code",
   "execution_count": 23,
   "id": "172730bd-ad66-4849-bca6-37f7a694308d",
   "metadata": {},
   "outputs": [
    {
     "data": {
      "text/plain": [
       "15.0"
      ]
     },
     "execution_count": 23,
     "metadata": {},
     "output_type": "execute_result"
    }
   ],
   "source": [
    "df['diff_t'].max()"
   ]
  },
  {
   "cell_type": "code",
   "execution_count": 24,
   "id": "9dc0e54e-2d7e-4cec-a27b-ded5b4e63c8d",
   "metadata": {},
   "outputs": [
    {
     "data": {
      "text/html": [
       "<div>\n",
       "<style scoped>\n",
       "    .dataframe tbody tr th:only-of-type {\n",
       "        vertical-align: middle;\n",
       "    }\n",
       "\n",
       "    .dataframe tbody tr th {\n",
       "        vertical-align: top;\n",
       "    }\n",
       "\n",
       "    .dataframe thead th {\n",
       "        text-align: right;\n",
       "    }\n",
       "</style>\n",
       "<table border=\"1\" class=\"dataframe\">\n",
       "  <thead>\n",
       "    <tr style=\"text-align: right;\">\n",
       "      <th></th>\n",
       "      <th>Day</th>\n",
       "      <th>t</th>\n",
       "      <th>year</th>\n",
       "      <th>month</th>\n",
       "      <th>day</th>\n",
       "      <th>diff_t</th>\n",
       "    </tr>\n",
       "  </thead>\n",
       "  <tbody>\n",
       "    <tr>\n",
       "      <th>2335</th>\n",
       "      <td>2014-05-27</td>\n",
       "      <td>7</td>\n",
       "      <td>2014</td>\n",
       "      <td>5</td>\n",
       "      <td>27</td>\n",
       "      <td>15.0</td>\n",
       "    </tr>\n",
       "  </tbody>\n",
       "</table>\n",
       "</div>"
      ],
      "text/plain": [
       "            Day  t  year  month  day  diff_t\n",
       "2335 2014-05-27  7  2014      5   27    15.0"
      ]
     },
     "execution_count": 24,
     "metadata": {},
     "output_type": "execute_result"
    }
   ],
   "source": [
    "df[df['diff_t'] == 15]"
   ]
  },
  {
   "cell_type": "markdown",
   "id": "9d901f05-45e5-4456-a637-3cb87ad10ce8",
   "metadata": {},
   "source": [
    "Можно не писать фильтрацию, а просто воспользоваться функцией argmax, которая вернет индекс максимального значения"
   ]
  },
  {
   "cell_type": "code",
   "execution_count": 25,
   "id": "ad7410f9-8c38-40cc-a884-19f1cdee35e1",
   "metadata": {},
   "outputs": [
    {
     "data": {
      "text/plain": [
       "2335"
      ]
     },
     "execution_count": 25,
     "metadata": {},
     "output_type": "execute_result"
    }
   ],
   "source": [
    "df['diff_t'].argmax()"
   ]
  },
  {
   "cell_type": "markdown",
   "id": "75aeb17d-6ed9-496a-94ef-d116e728967c",
   "metadata": {},
   "source": [
    "Ну и решим задачу окончательно"
   ]
  },
  {
   "cell_type": "code",
   "execution_count": 26,
   "id": "67ad943e-389c-4717-baa6-016ec97505f7",
   "metadata": {},
   "outputs": [
    {
     "data": {
      "text/plain": [
       "Day       2014-05-27 00:00:00\n",
       "t                           7\n",
       "year                     2014\n",
       "month                       5\n",
       "day                        27\n",
       "diff_t                   15.0\n",
       "Name: 2335, dtype: object"
      ]
     },
     "execution_count": 26,
     "metadata": {},
     "output_type": "execute_result"
    }
   ],
   "source": [
    "df.loc[df['diff_t'].argmax()]"
   ]
  },
  {
   "cell_type": "markdown",
   "id": "a56b9c8e-be6d-4668-827e-95d50bb08968",
   "metadata": {},
   "source": [
    "Вся задача решается в две строки:"
   ]
  },
  {
   "cell_type": "code",
   "execution_count": 27,
   "id": "0f1e40bd-3781-43e4-8fe3-c8ac5db0f684",
   "metadata": {},
   "outputs": [
    {
     "data": {
      "text/plain": [
       "Day       2014-05-27 00:00:00\n",
       "t                           7\n",
       "year                     2014\n",
       "month                       5\n",
       "day                        27\n",
       "diff_t                   15.0\n",
       "Name: 2335, dtype: object"
      ]
     },
     "execution_count": 27,
     "metadata": {},
     "output_type": "execute_result"
    }
   ],
   "source": [
    "df['diff_t'] = abs(df['t'].diff())\n",
    "df.loc[df['diff_t'].argmax()]"
   ]
  },
  {
   "cell_type": "markdown",
   "id": "8683bcca-174f-42b9-9ecd-06930997dc84",
   "metadata": {},
   "source": [
    "## Задание - нарисовать $n$ линий\n",
    "\n",
    "Написать функцию, которая на вход принимает параметр $n$ и рисует $n$ графиков по такому приципу:\n",
    "\n",
    "$$y = x$$\n",
    "$$y = 2x$$\n",
    "$$y = 3x$$\n",
    "$$...$$\n",
    "$$y = nx$$"
   ]
  },
  {
   "cell_type": "code",
   "execution_count": 28,
   "id": "a8569ab9-d0ca-4c1f-bb98-6c0b72501b9c",
   "metadata": {},
   "outputs": [],
   "source": [
    "def draw_lines(n):\n",
    "    x = np.linspace(-5, 5, 100)\n",
    "    for i in range(n):\n",
    "        plt.plot(x, i * x)"
   ]
  },
  {
   "cell_type": "code",
   "execution_count": 30,
   "id": "75d10426-60a5-42fa-9d61-6a260e43588a",
   "metadata": {},
   "outputs": [
    {
     "data": {
      "image/png": "[encoded data removed]",
      "text/plain": [
       "<Figure size 432x288 with 1 Axes>"
      ]
     },
     "metadata": {
      "needs_background": "light"
     },
     "output_type": "display_data"
    }
   ],
   "source": [
    "draw_lines(500)"
   ]
  },
  {
   "cell_type": "markdown",
   "id": "13b5fb8f-71ba-4477-849b-edb5d56ca42e",
   "metadata": {},
   "source": [
    "## Задача\n",
    "\n",
    "По заданным точкам нарисовать квадрат.\n",
    "\n"
   ]
  },
  {
   "cell_type": "code",
   "execution_count": 9,
   "id": "8d08ea7f-335d-4744-a5d8-36175b1e5cf3",
   "metadata": {},
   "outputs": [],
   "source": [
    "square_coord = [\n",
    "    (0, 0),\n",
    "    (1, 0),\n",
    "    (1, 1),\n",
    "    (0, 1)\n",
    "]"
   ]
  },
  {
   "cell_type": "code",
   "execution_count": 10,
   "id": "02cb7cb1-e60b-4eff-ac6a-1a8aa637c36b",
   "metadata": {},
   "outputs": [
    {
     "data": {
      "image/png": "[encoded data removed]",
      "text/plain": [
       "<Figure size 432x288 with 1 Axes>"
      ]
     },
     "metadata": {
      "needs_background": "light"
     },
     "output_type": "display_data"
    }
   ],
   "source": [
    "for i in range(len(square_coord)):\n",
    "    x1, y1 = square_coord[i - 1]\n",
    "    x2, y2 = square_coord[i]\n",
    "    plt.plot([x1, x2], [y1, y2], color='g')"
   ]
  },
  {
   "cell_type": "markdown",
   "id": "1196209a-4d94-4078-9ee0-80c4f25df48f",
   "metadata": {},
   "source": [
    "Можно оформить код в функцию и он будет рисовать любую замкнутую фигуру"
   ]
  },
  {
   "cell_type": "code",
   "execution_count": 11,
   "id": "6a0b0d6e-3adf-4111-8fcd-42085f9a1f03",
   "metadata": {},
   "outputs": [],
   "source": [
    "def draw_figure(coords):\n",
    "    for i in range(len(coords)):\n",
    "        x1, y1 = coords[i - 1]\n",
    "        x2, y2 = coords[i]\n",
    "        plt.plot([x1, x2], [y1, y2], color='g')"
   ]
  },
  {
   "cell_type": "code",
   "execution_count": 13,
   "id": "3ec33bbb-ab62-42f8-960e-4425a83344bf",
   "metadata": {},
   "outputs": [
    {
     "data": {
      "image/png": "[encoded data removed]",
      "text/plain": [
       "<Figure size 432x288 with 1 Axes>"
      ]
     },
     "metadata": {
      "needs_background": "light"
     },
     "output_type": "display_data"
    }
   ],
   "source": [
    "star_coords = [\n",
    "    (-9, 2),\n",
    "    (-3, 3),\n",
    "    (0, 8),\n",
    "    (3, 3), \n",
    "    (9, 2),\n",
    "    (5, -3),\n",
    "    (6, -9),\n",
    "    (0, -7),\n",
    "    (-6, -9),\n",
    "    (-5, -3)\n",
    "]\n",
    "draw_figure(star_coords)"
   ]
  },
  {
   "cell_type": "markdown",
   "id": "b7fea7db-0d5c-4fed-803b-31a18bc9ac57",
   "metadata": {},
   "source": [
    "## Задача\n",
    "\n",
    "Дана СЛАУ второго порядка, нужно отобразить на графике линии и точку их пересечения\n",
    "\n",
    "$$a_{11}x + a_{12}y = b_1$$\n",
    "$$a_{21}x + a_{22}y = b_2$$\n",
    "\n"
   ]
  },
  {
   "cell_type": "markdown",
   "id": "ec7d5568-1d76-46a1-ac16-7e8b4d7582d4",
   "metadata": {},
   "source": [
    "## Решение\n",
    "\n",
    "Мы можем нарисовать линию такого вида:\n",
    "\n",
    "$y = kx + b$\n",
    "\n",
    "Для этого можем привести каждое из уравнений выше к такому виду:\n",
    "\n",
    "$y = \\frac{(b_1 - a_{11}x)}{a_{12}}$\n",
    "\n",
    "$y = \\frac{(b_2 - a_{21}x)}{a_{22}}$\n",
    "\n",
    "Чтобы использовать эти формулы, нужно чтобы коэфициенты $a_{12}, a_{22}$ были не равны 0 (на 0 делить нельзя).\n",
    "\n",
    "Как будет выглядеть уравнение, если обнулить коэфициенты?\n",
    "\n",
    "$a_{11}x = b1$\n",
    "\n",
    "$a_{21}x = b2$\n",
    "\n",
    "В таком случае графики будут вертикальными линиями с иксами $\\frac{b1}{a_{11}}$ и $\\frac{a_{21}}{b2}$\n",
    "\n",
    "Можно писать код. Сначала напишем функцию, которая принимает на вход строку из матрицы (массив $[a_{11}, a_{12}]$, например), а также значение $b$. "
   ]
  },
  {
   "cell_type": "code",
   "execution_count": 6,
   "id": "1d009e3a-694a-4ba1-9b6a-6fceb445030f",
   "metadata": {},
   "outputs": [
    {
     "data": {
      "text/plain": [
       "array([3., 2.])"
      ]
     },
     "execution_count": 6,
     "metadata": {},
     "output_type": "execute_result"
    }
   ],
   "source": [
    "A = np.array([[1, 0], [0, 1]])\n",
    "b = np.array([3, 2])\n",
    "\n",
    "solution = np.linalg.solve(A, b)\n",
    "solution"
   ]
  },
  {
   "cell_type": "code",
   "execution_count": 7,
   "id": "0818ebc7-c1c1-4d47-aa92-3cfa0b49f758",
   "metadata": {},
   "outputs": [],
   "source": [
    "def draw_line(a_row, b):\n",
    "    # Будем рисовать от -50 до 50\n",
    "    x = np.linspace(-50, 50, 100)\n",
    "    if a_row[1] == 0:\n",
    "        # Если коэфициент 0, рисуем вертикальную линию от -50 до 50\n",
    "        y = [-50, 50]\n",
    "        x_value = b / a_row[0]\n",
    "        x = [x_value, x_value]\n",
    "    else:\n",
    "        # Если не 0, то используем обычную формулу\n",
    "        y = (b - a_row[0] * x) / a_row[1]\n",
    "    plt.plot(x, y)"
   ]
  },
  {
   "cell_type": "markdown",
   "id": "5630b4d7-012c-4bb9-9642-712d3c7f634e",
   "metadata": {},
   "source": [
    "Будем передавать сначала первую строку:"
   ]
  },
  {
   "cell_type": "code",
   "execution_count": 8,
   "id": "ea189a9e-ea1e-41e3-b198-da57c7ae358a",
   "metadata": {},
   "outputs": [
    {
     "data": {
      "text/plain": [
       "array([1, 0])"
      ]
     },
     "execution_count": 8,
     "metadata": {},
     "output_type": "execute_result"
    }
   ],
   "source": [
    "A[0, :]"
   ]
  },
  {
   "cell_type": "markdown",
   "id": "ff4d3c62-5d58-4972-8f49-a788a7ee6e35",
   "metadata": {},
   "source": [
    "Затем вторую:"
   ]
  },
  {
   "cell_type": "code",
   "execution_count": 9,
   "id": "55671c7a-7420-4422-a45e-d8e7f34950fe",
   "metadata": {},
   "outputs": [
    {
     "data": {
      "text/plain": [
       "array([0, 1])"
      ]
     },
     "execution_count": 9,
     "metadata": {},
     "output_type": "execute_result"
    }
   ],
   "source": [
    "A[1, :]"
   ]
  },
  {
   "cell_type": "markdown",
   "id": "b1768f5e-2f7d-4b44-a67f-510d579e8227",
   "metadata": {},
   "source": [
    "Получим вот такие линии:"
   ]
  },
  {
   "cell_type": "code",
   "execution_count": 10,
   "id": "2101b0bb-f981-4edc-977c-2d31809e80c2",
   "metadata": {},
   "outputs": [
    {
     "data": {
      "text/plain": [
       "<matplotlib.collections.PathCollection at 0x2770b4a34c0>"
      ]
     },
     "execution_count": 10,
     "metadata": {},
     "output_type": "execute_result"
    },
    {
     "data": {
      "image/png": "[encoded data removed]",
      "text/plain": [
       "<Figure size 432x288 with 1 Axes>"
      ]
     },
     "metadata": {
      "needs_background": "light"
     },
     "output_type": "display_data"
    }
   ],
   "source": [
    "draw_line(A[0, :], b[0])\n",
    "draw_line(A[1, :], b[1])\n",
    "\n",
    "# Нарисуем также точку пересечения\n",
    "plt.scatter([solution[0]], [solution[1]], marker='x', s=100, c='r')"
   ]
  },
  {
   "cell_type": "markdown",
   "id": "ff23c438-0cbc-4ff4-80b1-d79a12568e5f",
   "metadata": {},
   "source": [
    "Можем оформить итоговое решение в функцию, которая будет принимать массивы A и b и рисовать по ним график"
   ]
  },
  {
   "cell_type": "code",
   "execution_count": 11,
   "id": "3c1aa33c-35a3-4f80-b831-a94d3746c4c0",
   "metadata": {},
   "outputs": [],
   "source": [
    "def draw_linear_solution(A, b):\n",
    "    solution = np.linalg.solve(A, b)\n",
    "    draw_line(A[0, :], b[0])\n",
    "    draw_line(A[1, :], b[1])\n",
    "\n",
    "    # Нарисуем также точку пересечения\n",
    "    plt.scatter([solution[0]], [solution[1]], marker='x', s=100, c='r')"
   ]
  },
  {
   "cell_type": "code",
   "execution_count": 12,
   "id": "bce8120f-d3d0-4641-a771-1ee2d1ff3e33",
   "metadata": {},
   "outputs": [
    {
     "data": {
      "image/png": "[encoded data removed]",
      "text/plain": [
       "<Figure size 432x288 with 1 Axes>"
      ]
     },
     "metadata": {
      "needs_background": "light"
     },
     "output_type": "display_data"
    }
   ],
   "source": [
    "A = np.array([[3, 10], [1, 5]])\n",
    "b = np.array([1, 20])\n",
    "draw_linear_solution(A, b)"
   ]
  },
  {
   "cell_type": "markdown",
   "id": "b4dd1f1a-dc6c-47ad-9bd1-7983c476dd74",
   "metadata": {},
   "source": [
    "Добавим слайдер\n",
    "\n",
    "Для этого необходимо установить `ipywidgets`:\n",
    "\n",
    "```\n",
    "conda install ipywidgets\n",
    "```"
   ]
  },
  {
   "cell_type": "code",
   "execution_count": 13,
   "id": "d073b14c-900e-49e7-8ecc-bf8b1be70f0b",
   "metadata": {},
   "outputs": [],
   "source": [
    "%matplotlib inline\n",
    "from ipywidgets import interact\n",
    "import ipywidgets as widgets"
   ]
  },
  {
   "cell_type": "markdown",
   "id": "cbbad624-b21d-418d-8984-1afd02da8271",
   "metadata": {},
   "source": [
    "Если посмотреть примеры, то на вход функции должны поступать числа. Напишем функцию, которая будет принимать на вход числа, преобразовывать их в матрицу и передавать в функцию, которую мы написали раньше."
   ]
  },
  {
   "cell_type": "code",
   "execution_count": 14,
   "id": "4223fd0f-4489-4723-97e7-95f18c6d0089",
   "metadata": {},
   "outputs": [],
   "source": [
    "def draw_linear_from_numbers(a11, a12, a21, a22, b1, b2):\n",
    "    A = np.array([[a11, a12], [a21, a22]])\n",
    "    b = np.array([b1, b2])\n",
    "    draw_linear_solution(A, b)\n",
    "    # Для красоты зафиксируем положение графика\n",
    "    plt.xlim(-50, 50)\n",
    "    plt.ylim(-50, 50)"
   ]
  },
  {
   "cell_type": "markdown",
   "id": "6a475272-3fff-4d49-8845-fe900ba3d24c",
   "metadata": {},
   "source": [
    "Создаем слайдеры"
   ]
  },
  {
   "cell_type": "code",
   "execution_count": 15,
   "id": "b9fa79a4-737f-482d-916d-78923d2e4e8b",
   "metadata": {},
   "outputs": [],
   "source": [
    "slider1 = widgets.FloatSlider(value=1, min=-5, max=5, step=0.01)\n",
    "slider2 = widgets.FloatSlider(value=0, min=-5, max=5, step=0.01)\n",
    "slider3 = widgets.FloatSlider(value=0, min=-5, max=5, step=0.01)\n",
    "slider4 = widgets.FloatSlider(value=1, min=-5, max=5, step=0.01)\n",
    "slider5 = widgets.FloatSlider(value=3, min=-5, max=5, step=0.01)\n",
    "slider6 = widgets.FloatSlider(value=2, min=-5, max=5, step=0.01)"
   ]
  },
  {
   "cell_type": "markdown",
   "id": "1dfe653f-d888-43df-aebe-821f8a98b7a6",
   "metadata": {},
   "source": [
    "Передаем в функцию `interact` нашу функцию и какие слайдеры будут отвечать за какие аргументы"
   ]
  },
  {
   "cell_type": "code",
   "execution_count": 16,
   "id": "7d44c40c-9af5-4afa-9454-af1aacbb2dc5",
   "metadata": {},
   "outputs": [
    {
     "data": {
      "application/vnd.jupyter.widget-view+json": {
       "model_id": "243c5bafb10c4a148e303a4abb8dd2c8",
       "version_major": 2,
       "version_minor": 0
      },
      "text/plain": [
       "interactive(children=(FloatSlider(value=1.0, description='a11', max=5.0, min=-5.0, step=0.01), FloatSlider(val…"
      ]
     },
     "metadata": {},
     "output_type": "display_data"
    },
    {
     "data": {
      "text/plain": [
       "<function __main__.draw_linear_from_numbers(a11, a12, a21, a22, b1, b2)>"
      ]
     },
     "execution_count": 16,
     "metadata": {},
     "output_type": "execute_result"
    }
   ],
   "source": [
    "interact(draw_linear_from_numbers, a11=slider1, a12=slider2, a21=slider3, a22=slider4, b1=slider5, b2=slider6)"
   ]
  },
  {
   "cell_type": "code",
   "execution_count": null,
   "id": "47ac0d10-00f9-4076-a00b-5109f55ba60b",
   "metadata": {},
   "outputs": [],
   "source": []
  }
 ],
 "metadata": {
  "kernelspec": {
   "display_name": "Python 3 (ipykernel)",
   "language": "python",
   "name": "python3"
  },
  "language_info": {
   "codemirror_mode": {
    "name": "ipython",
    "version": 3
   },
   "file_extension": ".py",
   "mimetype": "text/x-python",
   "name": "python",
   "nbconvert_exporter": "python",
   "pygments_lexer": "ipython3",
   "version": "3.9.7"
  }
 },
 "nbformat": 4,
 "nbformat_minor": 5
}
