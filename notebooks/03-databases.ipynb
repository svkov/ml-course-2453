{
 "cells": [
  {
   "cell_type": "markdown",
   "metadata": {},
   "source": [
    "# Базы данных\n",
    "\n",
    "Реляционные базы данных представляют из себя таблицы, которые соединены между собой.\n",
    "\n",
    "В каждой таблице есть первичный ключ (Primary key - PK). Обычно он включает в себя id строки.\n",
    "\n",
    "Если мы хотим соединить две таблицы, то можно сделать это при помощи внешнего ключа (Foreign key - FK).\n",
    "\n",
    "## Нормальные формы\n",
    "\n",
    "Большие таблицы (в которых много столбцов) принято разбивать на несколько маленьких.\n",
    "\n",
    "Например, если в таблице есть колонки \"имя пользователя\", \"дата+время сообщения\", \"текст сообщения\", то лучше вынести имена пользователя в отдельную таблицу.\n",
    "\n",
    "Если этого не сделать, то при изменении/удалении существующих сообщений мы можем случайно удалить лишнюю информацию.\n",
    "\n",
    "Есть формальные правила, которые определяют как нужно разбивать таблицы, чтобы было меньше проблем при работе с ними. \n",
    "\n",
    "Правила называются нормальными формами, всего их 6 (8), но обычно достаточно первых трех. [Почитать подробнее можно здесь.](https://habr.com/ru/post/254773/)\n",
    "\n",
    "## Типы связей\n",
    "\n",
    "Таблицы могут быть связаны между собой следующими видами связей:\n",
    "\n",
    "- one-to-many - когда одной строке таблицы соответствует много записей в другой. Например, \"пользователь\" и \"комментарий\" - пользователь может оставить много комментариев, но у комментария может быть только один автор.\n",
    "- many-to-many - когда многим записям таблицы соответствует много записей в другой. Например, \"пользователь\" и \"сообщество\" - пользователь может вступать во много сообществ, и у сообщества может быть много пользователей.\n",
    "\n",
    "## Пример схемы БД:\n",
    "\n",
    "![db example](../images/db_example.png)\n",
    "\n",
    "## Вопросы\n",
    "\n",
    "- Какой тип связи между User и Message?\n",
    "- Какой тип связи между Chat и Message?\n",
    "- Какой тип связи между User и Chat?\n",
    "- Как бы можно было реализовать закрепление сообщений на этой схеме?"
   ]
  },
  {
   "cell_type": "markdown",
   "metadata": {},
   "source": [
    "## Как взаимодействовать с базой?\n",
    "\n",
    "Обычно это делают при помощи SQL (Structured Query Language) - специального языка запросов. [Прочитать введение в SQL можно тут.](https://proglib.io/p/sql-for-20-minutes)\n",
    "\n",
    "Запрос на языке SQL обрабатывается системой управления базой данных и возвращает в ответ таблицу с нужными данными. \n",
    "\n",
    "Мы будем писать простые запросы на SQL и отдавать их pandas, который за нас будет общаться с базой данных.\n",
    "\n",
    "## Про ORM\n",
    "\n",
    "Обычно для работы с БД подключают специальные библиотеки, которые позволяют в коде описывать схему базы данных и из кода ей управлять. \n",
    "\n",
    "Такие библиотеки называются ORM (object-relational-mapping) и они позволяют удобно работать со строками таблицы как с объектами в коде.\n",
    "\n",
    "Для наших целей это не понадобится, поэтому просто оставлю ссылку на самую популярную ORM в Python: [SQLAlchemy](https://www.sqlalchemy.org/)\n",
    "\n",
    "## Про СУБД\n",
    "\n",
    "Мы будем пользоваться SQLite, так как она установлена в стандартной библиотеке питона и ее проще всего использовать.\n",
    "\n",
    "Также существуют другие СУБД, которые более безопасны, быстрее работают и имеют больше функций:\n",
    "\n",
    "- PostgreSQL\n",
    "- MySQL\n",
    "- MariaDB\n",
    "- Oracle\n",
    "- Microsoft SQL Server\n",
    "\n",
    "Но SQLite не бесполезен, его часто используют для разработки. А также принцип работы со всеми СУБД один и тот же, поэтому научившись работать с SQLite будет гораздо проще работать с остальными СУБД"
   ]
  },
  {
   "cell_type": "code",
   "execution_count": 1,
   "metadata": {},
   "outputs": [],
   "source": [
    "import pandas as pd\n",
    "import sqlite3"
   ]
  },
  {
   "cell_type": "markdown",
   "metadata": {},
   "source": [
    "Создадим две таблицы - с предметами и учителями"
   ]
  },
  {
   "cell_type": "code",
   "execution_count": 2,
   "metadata": {},
   "outputs": [],
   "source": [
    "sql = sqlite3.connect('../data/school.db')"
   ]
  },
  {
   "cell_type": "code",
   "execution_count": 3,
   "metadata": {},
   "outputs": [
    {
     "data": {
      "text/html": [
       "<div>\n",
       "<style scoped>\n",
       "    .dataframe tbody tr th:only-of-type {\n",
       "        vertical-align: middle;\n",
       "    }\n",
       "\n",
       "    .dataframe tbody tr th {\n",
       "        vertical-align: top;\n",
       "    }\n",
       "\n",
       "    .dataframe thead th {\n",
       "        text-align: right;\n",
       "    }\n",
       "</style>\n",
       "<table border=\"1\" class=\"dataframe\">\n",
       "  <thead>\n",
       "    <tr style=\"text-align: right;\">\n",
       "      <th></th>\n",
       "      <th>name</th>\n",
       "    </tr>\n",
       "  </thead>\n",
       "  <tbody>\n",
       "    <tr>\n",
       "      <th>0</th>\n",
       "      <td>English</td>\n",
       "    </tr>\n",
       "    <tr>\n",
       "      <th>1</th>\n",
       "      <td>Math</td>\n",
       "    </tr>\n",
       "    <tr>\n",
       "      <th>2</th>\n",
       "      <td>IT</td>\n",
       "    </tr>\n",
       "    <tr>\n",
       "      <th>3</th>\n",
       "      <td>Literature</td>\n",
       "    </tr>\n",
       "  </tbody>\n",
       "</table>\n",
       "</div>"
      ],
      "text/plain": [
       "         name\n",
       "0     English\n",
       "1        Math\n",
       "2          IT\n",
       "3  Literature"
      ]
     },
     "execution_count": 3,
     "metadata": {},
     "output_type": "execute_result"
    }
   ],
   "source": [
    "subjects = [\"English\", \"Math\", \"IT\", \"Literature\"]\n",
    "subject_df = pd.DataFrame({'name': subjects})\n",
    "subject_df"
   ]
  },
  {
   "cell_type": "code",
   "execution_count": 4,
   "metadata": {},
   "outputs": [
    {
     "data": {
      "text/html": [
       "<div>\n",
       "<style scoped>\n",
       "    .dataframe tbody tr th:only-of-type {\n",
       "        vertical-align: middle;\n",
       "    }\n",
       "\n",
       "    .dataframe tbody tr th {\n",
       "        vertical-align: top;\n",
       "    }\n",
       "\n",
       "    .dataframe thead th {\n",
       "        text-align: right;\n",
       "    }\n",
       "</style>\n",
       "<table border=\"1\" class=\"dataframe\">\n",
       "  <thead>\n",
       "    <tr style=\"text-align: right;\">\n",
       "      <th></th>\n",
       "      <th>id</th>\n",
       "      <th>name</th>\n",
       "    </tr>\n",
       "  </thead>\n",
       "  <tbody>\n",
       "    <tr>\n",
       "      <th>0</th>\n",
       "      <td>0</td>\n",
       "      <td>English</td>\n",
       "    </tr>\n",
       "    <tr>\n",
       "      <th>1</th>\n",
       "      <td>1</td>\n",
       "      <td>Math</td>\n",
       "    </tr>\n",
       "    <tr>\n",
       "      <th>2</th>\n",
       "      <td>2</td>\n",
       "      <td>IT</td>\n",
       "    </tr>\n",
       "    <tr>\n",
       "      <th>3</th>\n",
       "      <td>3</td>\n",
       "      <td>Literature</td>\n",
       "    </tr>\n",
       "  </tbody>\n",
       "</table>\n",
       "</div>"
      ],
      "text/plain": [
       "   id        name\n",
       "0   0     English\n",
       "1   1        Math\n",
       "2   2          IT\n",
       "3   3  Literature"
      ]
     },
     "execution_count": 4,
     "metadata": {},
     "output_type": "execute_result"
    }
   ],
   "source": [
    "subject_df.to_sql('subjects', sql, index_label=\"id\", if_exists='replace') # Сохраним в базу\n",
    "pd.read_sql(\"SELECT * FROM subjects\", sql) # Проверим, что сохранилось правильно"
   ]
  },
  {
   "cell_type": "code",
   "execution_count": 5,
   "metadata": {},
   "outputs": [
    {
     "data": {
      "text/html": [
       "<div>\n",
       "<style scoped>\n",
       "    .dataframe tbody tr th:only-of-type {\n",
       "        vertical-align: middle;\n",
       "    }\n",
       "\n",
       "    .dataframe tbody tr th {\n",
       "        vertical-align: top;\n",
       "    }\n",
       "\n",
       "    .dataframe thead th {\n",
       "        text-align: right;\n",
       "    }\n",
       "</style>\n",
       "<table border=\"1\" class=\"dataframe\">\n",
       "  <thead>\n",
       "    <tr style=\"text-align: right;\">\n",
       "      <th></th>\n",
       "      <th>name</th>\n",
       "      <th>age</th>\n",
       "    </tr>\n",
       "  </thead>\n",
       "  <tbody>\n",
       "    <tr>\n",
       "      <th>0</th>\n",
       "      <td>Alice</td>\n",
       "      <td>20</td>\n",
       "    </tr>\n",
       "    <tr>\n",
       "      <th>1</th>\n",
       "      <td>Bob</td>\n",
       "      <td>25</td>\n",
       "    </tr>\n",
       "    <tr>\n",
       "      <th>2</th>\n",
       "      <td>Charlie</td>\n",
       "      <td>35</td>\n",
       "    </tr>\n",
       "    <tr>\n",
       "      <th>3</th>\n",
       "      <td>Denis</td>\n",
       "      <td>30</td>\n",
       "    </tr>\n",
       "    <tr>\n",
       "      <th>4</th>\n",
       "      <td>Emilie</td>\n",
       "      <td>45</td>\n",
       "    </tr>\n",
       "  </tbody>\n",
       "</table>\n",
       "</div>"
      ],
      "text/plain": [
       "      name  age\n",
       "0    Alice   20\n",
       "1      Bob   25\n",
       "2  Charlie   35\n",
       "3    Denis   30\n",
       "4   Emilie   45"
      ]
     },
     "execution_count": 5,
     "metadata": {},
     "output_type": "execute_result"
    }
   ],
   "source": [
    "names = [\"Alice\", \"Bob\", \"Charlie\", \"Denis\", \"Emilie\"]\n",
    "ages = [20, 25, 35, 30, 45]\n",
    "teachers_df = pd.DataFrame({'name': names, 'age': ages})\n",
    "teachers_df"
   ]
  },
  {
   "cell_type": "code",
   "execution_count": 6,
   "metadata": {},
   "outputs": [
    {
     "data": {
      "text/html": [
       "<div>\n",
       "<style scoped>\n",
       "    .dataframe tbody tr th:only-of-type {\n",
       "        vertical-align: middle;\n",
       "    }\n",
       "\n",
       "    .dataframe tbody tr th {\n",
       "        vertical-align: top;\n",
       "    }\n",
       "\n",
       "    .dataframe thead th {\n",
       "        text-align: right;\n",
       "    }\n",
       "</style>\n",
       "<table border=\"1\" class=\"dataframe\">\n",
       "  <thead>\n",
       "    <tr style=\"text-align: right;\">\n",
       "      <th></th>\n",
       "      <th>id</th>\n",
       "      <th>name</th>\n",
       "      <th>age</th>\n",
       "    </tr>\n",
       "  </thead>\n",
       "  <tbody>\n",
       "    <tr>\n",
       "      <th>0</th>\n",
       "      <td>0</td>\n",
       "      <td>Alice</td>\n",
       "      <td>20</td>\n",
       "    </tr>\n",
       "    <tr>\n",
       "      <th>1</th>\n",
       "      <td>1</td>\n",
       "      <td>Bob</td>\n",
       "      <td>25</td>\n",
       "    </tr>\n",
       "    <tr>\n",
       "      <th>2</th>\n",
       "      <td>2</td>\n",
       "      <td>Charlie</td>\n",
       "      <td>35</td>\n",
       "    </tr>\n",
       "    <tr>\n",
       "      <th>3</th>\n",
       "      <td>3</td>\n",
       "      <td>Denis</td>\n",
       "      <td>30</td>\n",
       "    </tr>\n",
       "    <tr>\n",
       "      <th>4</th>\n",
       "      <td>4</td>\n",
       "      <td>Emilie</td>\n",
       "      <td>45</td>\n",
       "    </tr>\n",
       "  </tbody>\n",
       "</table>\n",
       "</div>"
      ],
      "text/plain": [
       "   id     name  age\n",
       "0   0    Alice   20\n",
       "1   1      Bob   25\n",
       "2   2  Charlie   35\n",
       "3   3    Denis   30\n",
       "4   4   Emilie   45"
      ]
     },
     "execution_count": 6,
     "metadata": {},
     "output_type": "execute_result"
    }
   ],
   "source": [
    "teachers_df.to_sql('teachers', sql, index_label=\"id\", if_exists=\"replace\")\n",
    "pd.read_sql(\"SELECT * FROM teachers\", sql)"
   ]
  },
  {
   "cell_type": "markdown",
   "metadata": {},
   "source": [
    "Как друг к другу относятся учителя и предметы?\n",
    "\n",
    "- 1-to-1\n",
    "- 1-to-many\n",
    "- many-to-many"
   ]
  },
  {
   "cell_type": "code",
   "execution_count": 7,
   "metadata": {},
   "outputs": [
    {
     "data": {
      "text/html": [
       "<div>\n",
       "<style scoped>\n",
       "    .dataframe tbody tr th:only-of-type {\n",
       "        vertical-align: middle;\n",
       "    }\n",
       "\n",
       "    .dataframe tbody tr th {\n",
       "        vertical-align: top;\n",
       "    }\n",
       "\n",
       "    .dataframe thead th {\n",
       "        text-align: right;\n",
       "    }\n",
       "</style>\n",
       "<table border=\"1\" class=\"dataframe\">\n",
       "  <thead>\n",
       "    <tr style=\"text-align: right;\">\n",
       "      <th></th>\n",
       "      <th>teacher_id</th>\n",
       "      <th>subject_id</th>\n",
       "    </tr>\n",
       "  </thead>\n",
       "  <tbody>\n",
       "    <tr>\n",
       "      <th>0</th>\n",
       "      <td>0</td>\n",
       "      <td>3</td>\n",
       "    </tr>\n",
       "    <tr>\n",
       "      <th>1</th>\n",
       "      <td>1</td>\n",
       "      <td>2</td>\n",
       "    </tr>\n",
       "    <tr>\n",
       "      <th>2</th>\n",
       "      <td>2</td>\n",
       "      <td>2</td>\n",
       "    </tr>\n",
       "    <tr>\n",
       "      <th>3</th>\n",
       "      <td>3</td>\n",
       "      <td>1</td>\n",
       "    </tr>\n",
       "    <tr>\n",
       "      <th>4</th>\n",
       "      <td>4</td>\n",
       "      <td>3</td>\n",
       "    </tr>\n",
       "    <tr>\n",
       "      <th>5</th>\n",
       "      <td>0</td>\n",
       "      <td>2</td>\n",
       "    </tr>\n",
       "  </tbody>\n",
       "</table>\n",
       "</div>"
      ],
      "text/plain": [
       "   teacher_id  subject_id\n",
       "0           0           3\n",
       "1           1           2\n",
       "2           2           2\n",
       "3           3           1\n",
       "4           4           3\n",
       "5           0           2"
      ]
     },
     "execution_count": 7,
     "metadata": {},
     "output_type": "execute_result"
    }
   ],
   "source": [
    "teacher_id = [0, 1, 2, 3, 4, 0]\n",
    "subject_id = [3, 2, 2, 1, 3, 2]\n",
    "\n",
    "teachers_to_subjects_df = pd.DataFrame({'teacher_id': teacher_id, 'subject_id': subject_id})\n",
    "teachers_to_subjects_df"
   ]
  },
  {
   "cell_type": "code",
   "execution_count": 8,
   "metadata": {},
   "outputs": [],
   "source": [
    "teachers_to_subjects_df.to_sql(\"teachers_to_subjects\", sql, index_label=\"id\", if_exists=\"replace\")"
   ]
  },
  {
   "cell_type": "code",
   "execution_count": 9,
   "metadata": {},
   "outputs": [
    {
     "data": {
      "text/html": [
       "<div>\n",
       "<style scoped>\n",
       "    .dataframe tbody tr th:only-of-type {\n",
       "        vertical-align: middle;\n",
       "    }\n",
       "\n",
       "    .dataframe tbody tr th {\n",
       "        vertical-align: top;\n",
       "    }\n",
       "\n",
       "    .dataframe thead th {\n",
       "        text-align: right;\n",
       "    }\n",
       "</style>\n",
       "<table border=\"1\" class=\"dataframe\">\n",
       "  <thead>\n",
       "    <tr style=\"text-align: right;\">\n",
       "      <th></th>\n",
       "      <th>id</th>\n",
       "      <th>teacher_id</th>\n",
       "      <th>subject_id</th>\n",
       "    </tr>\n",
       "  </thead>\n",
       "  <tbody>\n",
       "    <tr>\n",
       "      <th>0</th>\n",
       "      <td>0</td>\n",
       "      <td>0</td>\n",
       "      <td>3</td>\n",
       "    </tr>\n",
       "    <tr>\n",
       "      <th>1</th>\n",
       "      <td>1</td>\n",
       "      <td>1</td>\n",
       "      <td>2</td>\n",
       "    </tr>\n",
       "    <tr>\n",
       "      <th>2</th>\n",
       "      <td>2</td>\n",
       "      <td>2</td>\n",
       "      <td>2</td>\n",
       "    </tr>\n",
       "    <tr>\n",
       "      <th>3</th>\n",
       "      <td>3</td>\n",
       "      <td>3</td>\n",
       "      <td>1</td>\n",
       "    </tr>\n",
       "    <tr>\n",
       "      <th>4</th>\n",
       "      <td>4</td>\n",
       "      <td>4</td>\n",
       "      <td>3</td>\n",
       "    </tr>\n",
       "    <tr>\n",
       "      <th>5</th>\n",
       "      <td>5</td>\n",
       "      <td>0</td>\n",
       "      <td>2</td>\n",
       "    </tr>\n",
       "  </tbody>\n",
       "</table>\n",
       "</div>"
      ],
      "text/plain": [
       "   id  teacher_id  subject_id\n",
       "0   0           0           3\n",
       "1   1           1           2\n",
       "2   2           2           2\n",
       "3   3           3           1\n",
       "4   4           4           3\n",
       "5   5           0           2"
      ]
     },
     "execution_count": 9,
     "metadata": {},
     "output_type": "execute_result"
    }
   ],
   "source": [
    "pd.read_sql(\"SELECT * FROM teachers_to_subjects\", sql)"
   ]
  },
  {
   "cell_type": "markdown",
   "metadata": {},
   "source": [
    "Объединим таблицы при помощи SQL"
   ]
  },
  {
   "cell_type": "code",
   "execution_count": 10,
   "metadata": {},
   "outputs": [
    {
     "data": {
      "text/html": [
       "<div>\n",
       "<style scoped>\n",
       "    .dataframe tbody tr th:only-of-type {\n",
       "        vertical-align: middle;\n",
       "    }\n",
       "\n",
       "    .dataframe tbody tr th {\n",
       "        vertical-align: top;\n",
       "    }\n",
       "\n",
       "    .dataframe thead th {\n",
       "        text-align: right;\n",
       "    }\n",
       "</style>\n",
       "<table border=\"1\" class=\"dataframe\">\n",
       "  <thead>\n",
       "    <tr style=\"text-align: right;\">\n",
       "      <th></th>\n",
       "      <th>id</th>\n",
       "      <th>subject_name</th>\n",
       "      <th>teacher_name</th>\n",
       "      <th>teacher_id</th>\n",
       "      <th>subject_id</th>\n",
       "    </tr>\n",
       "  </thead>\n",
       "  <tbody>\n",
       "    <tr>\n",
       "      <th>0</th>\n",
       "      <td>0</td>\n",
       "      <td>Literature</td>\n",
       "      <td>Alice</td>\n",
       "      <td>0</td>\n",
       "      <td>3</td>\n",
       "    </tr>\n",
       "    <tr>\n",
       "      <th>1</th>\n",
       "      <td>1</td>\n",
       "      <td>IT</td>\n",
       "      <td>Bob</td>\n",
       "      <td>1</td>\n",
       "      <td>2</td>\n",
       "    </tr>\n",
       "    <tr>\n",
       "      <th>2</th>\n",
       "      <td>2</td>\n",
       "      <td>IT</td>\n",
       "      <td>Charlie</td>\n",
       "      <td>2</td>\n",
       "      <td>2</td>\n",
       "    </tr>\n",
       "    <tr>\n",
       "      <th>3</th>\n",
       "      <td>3</td>\n",
       "      <td>Math</td>\n",
       "      <td>Denis</td>\n",
       "      <td>3</td>\n",
       "      <td>1</td>\n",
       "    </tr>\n",
       "    <tr>\n",
       "      <th>4</th>\n",
       "      <td>4</td>\n",
       "      <td>Literature</td>\n",
       "      <td>Emilie</td>\n",
       "      <td>4</td>\n",
       "      <td>3</td>\n",
       "    </tr>\n",
       "    <tr>\n",
       "      <th>5</th>\n",
       "      <td>5</td>\n",
       "      <td>IT</td>\n",
       "      <td>Alice</td>\n",
       "      <td>0</td>\n",
       "      <td>2</td>\n",
       "    </tr>\n",
       "  </tbody>\n",
       "</table>\n",
       "</div>"
      ],
      "text/plain": [
       "   id subject_name teacher_name  teacher_id  subject_id\n",
       "0   0   Literature        Alice           0           3\n",
       "1   1           IT          Bob           1           2\n",
       "2   2           IT      Charlie           2           2\n",
       "3   3         Math        Denis           3           1\n",
       "4   4   Literature       Emilie           4           3\n",
       "5   5           IT        Alice           0           2"
      ]
     },
     "execution_count": 10,
     "metadata": {},
     "output_type": "execute_result"
    }
   ],
   "source": [
    "pd.read_sql(\n",
    "    \"\"\"\n",
    "    SELECT teachers_to_subjects.id as id,\n",
    "    subjects.name as subject_name, \n",
    "    teachers.name as teacher_name,\n",
    "    teachers_to_subjects.teacher_id as teacher_id,\n",
    "    teachers_to_subjects.subject_id as subject_id\n",
    "    FROM teachers_to_subjects \n",
    "    JOIN subjects ON teachers_to_subjects.subject_id = subjects.id\n",
    "    JOIN teachers ON teachers_to_subjects.teacher_id = teachers.id\n",
    "    \"\"\",\n",
    "    sql)"
   ]
  },
  {
   "cell_type": "markdown",
   "metadata": {},
   "source": [
    "Сделаем тоже самое при помощи pandas"
   ]
  },
  {
   "cell_type": "code",
   "execution_count": 11,
   "metadata": {},
   "outputs": [
    {
     "data": {
      "text/html": [
       "<div>\n",
       "<style scoped>\n",
       "    .dataframe tbody tr th:only-of-type {\n",
       "        vertical-align: middle;\n",
       "    }\n",
       "\n",
       "    .dataframe tbody tr th {\n",
       "        vertical-align: top;\n",
       "    }\n",
       "\n",
       "    .dataframe thead th {\n",
       "        text-align: right;\n",
       "    }\n",
       "</style>\n",
       "<table border=\"1\" class=\"dataframe\">\n",
       "  <thead>\n",
       "    <tr style=\"text-align: right;\">\n",
       "      <th></th>\n",
       "      <th>name_teacher</th>\n",
       "      <th>age</th>\n",
       "      <th>name_subject</th>\n",
       "    </tr>\n",
       "  </thead>\n",
       "  <tbody>\n",
       "    <tr>\n",
       "      <th>0</th>\n",
       "      <td>Denis</td>\n",
       "      <td>30</td>\n",
       "      <td>Math</td>\n",
       "    </tr>\n",
       "    <tr>\n",
       "      <th>1</th>\n",
       "      <td>Alice</td>\n",
       "      <td>20</td>\n",
       "      <td>IT</td>\n",
       "    </tr>\n",
       "    <tr>\n",
       "      <th>2</th>\n",
       "      <td>Bob</td>\n",
       "      <td>25</td>\n",
       "      <td>IT</td>\n",
       "    </tr>\n",
       "    <tr>\n",
       "      <th>3</th>\n",
       "      <td>Charlie</td>\n",
       "      <td>35</td>\n",
       "      <td>IT</td>\n",
       "    </tr>\n",
       "    <tr>\n",
       "      <th>4</th>\n",
       "      <td>Alice</td>\n",
       "      <td>20</td>\n",
       "      <td>Literature</td>\n",
       "    </tr>\n",
       "    <tr>\n",
       "      <th>5</th>\n",
       "      <td>Emilie</td>\n",
       "      <td>45</td>\n",
       "      <td>Literature</td>\n",
       "    </tr>\n",
       "  </tbody>\n",
       "</table>\n",
       "</div>"
      ],
      "text/plain": [
       "  name_teacher  age name_subject\n",
       "0        Denis   30         Math\n",
       "1        Alice   20           IT\n",
       "2          Bob   25           IT\n",
       "3      Charlie   35           IT\n",
       "4        Alice   20   Literature\n",
       "5       Emilie   45   Literature"
      ]
     },
     "execution_count": 11,
     "metadata": {},
     "output_type": "execute_result"
    }
   ],
   "source": [
    "teachers_to_subjects_df.set_index(\"teacher_id\").join(teachers_df).set_index(\"subject_id\").join(subject_df, rsuffix='_subject', lsuffix='_teacher').reset_index(drop=True)"
   ]
  },
  {
   "cell_type": "code",
   "execution_count": 12,
   "metadata": {},
   "outputs": [
    {
     "data": {
      "text/html": [
       "<div>\n",
       "<style scoped>\n",
       "    .dataframe tbody tr th:only-of-type {\n",
       "        vertical-align: middle;\n",
       "    }\n",
       "\n",
       "    .dataframe tbody tr th {\n",
       "        vertical-align: top;\n",
       "    }\n",
       "\n",
       "    .dataframe thead th {\n",
       "        text-align: right;\n",
       "    }\n",
       "</style>\n",
       "<table border=\"1\" class=\"dataframe\">\n",
       "  <thead>\n",
       "    <tr style=\"text-align: right;\">\n",
       "      <th></th>\n",
       "      <th>teacher_id</th>\n",
       "      <th>subject_id</th>\n",
       "      <th>name_teacher</th>\n",
       "      <th>age</th>\n",
       "      <th>name_subject</th>\n",
       "    </tr>\n",
       "  </thead>\n",
       "  <tbody>\n",
       "    <tr>\n",
       "      <th>0</th>\n",
       "      <td>0</td>\n",
       "      <td>3</td>\n",
       "      <td>Alice</td>\n",
       "      <td>20</td>\n",
       "      <td>Literature</td>\n",
       "    </tr>\n",
       "    <tr>\n",
       "      <th>1</th>\n",
       "      <td>1</td>\n",
       "      <td>2</td>\n",
       "      <td>Bob</td>\n",
       "      <td>25</td>\n",
       "      <td>IT</td>\n",
       "    </tr>\n",
       "    <tr>\n",
       "      <th>2</th>\n",
       "      <td>2</td>\n",
       "      <td>2</td>\n",
       "      <td>Charlie</td>\n",
       "      <td>35</td>\n",
       "      <td>IT</td>\n",
       "    </tr>\n",
       "    <tr>\n",
       "      <th>3</th>\n",
       "      <td>3</td>\n",
       "      <td>1</td>\n",
       "      <td>Denis</td>\n",
       "      <td>30</td>\n",
       "      <td>Math</td>\n",
       "    </tr>\n",
       "    <tr>\n",
       "      <th>4</th>\n",
       "      <td>4</td>\n",
       "      <td>3</td>\n",
       "      <td>Emilie</td>\n",
       "      <td>45</td>\n",
       "      <td>Literature</td>\n",
       "    </tr>\n",
       "    <tr>\n",
       "      <th>5</th>\n",
       "      <td>0</td>\n",
       "      <td>2</td>\n",
       "      <td>Alice</td>\n",
       "      <td>20</td>\n",
       "      <td>IT</td>\n",
       "    </tr>\n",
       "  </tbody>\n",
       "</table>\n",
       "</div>"
      ],
      "text/plain": [
       "   teacher_id  subject_id name_teacher  age name_subject\n",
       "0           0           3        Alice   20   Literature\n",
       "1           1           2          Bob   25           IT\n",
       "2           2           2      Charlie   35           IT\n",
       "3           3           1        Denis   30         Math\n",
       "4           4           3       Emilie   45   Literature\n",
       "5           0           2        Alice   20           IT"
      ]
     },
     "execution_count": 12,
     "metadata": {},
     "output_type": "execute_result"
    }
   ],
   "source": [
    "teachers_to_subjects_df.join(teachers_df, on='teacher_id').join(subject_df, on='subject_id', rsuffix='_subject', lsuffix='_teacher')"
   ]
  },
  {
   "cell_type": "markdown",
   "metadata": {},
   "source": [
    "## Задание 1\n",
    "\n",
    "Добавить таблицу \"students\" и \"groups\", зачислить в студентов в группы, связав внешним ключом.\n",
    "\n",
    "Данные для таблиц задавать вручную."
   ]
  },
  {
   "cell_type": "code",
   "execution_count": null,
   "metadata": {},
   "outputs": [],
   "source": [
    "# Ваш код здесь\n"
   ]
  },
  {
   "cell_type": "markdown",
   "metadata": {
    "tags": []
   },
   "source": [
    "## Задание 2\n",
    "\n",
    "Добавить таблицу \"marks\"\n",
    "\n",
    "Посчитать средний балл всех студентов\n",
    "\n",
    "Посчитать среднюю оценку каждого студента по всем предметам"
   ]
  },
  {
   "cell_type": "code",
   "execution_count": 107,
   "metadata": {},
   "outputs": [],
   "source": [
    "# Ваш код здесь\n"
   ]
  },
  {
   "cell_type": "markdown",
   "metadata": {},
   "source": [
    "## Задание 3\n",
    "\n",
    "Сгенерировать данные для таблиц (фунция `np.random.randint`)"
   ]
  },
  {
   "cell_type": "code",
   "execution_count": null,
   "metadata": {},
   "outputs": [],
   "source": [
    "# Ваш код здесь\n"
   ]
  },
  {
   "cell_type": "markdown",
   "metadata": {},
   "source": [
    "## Задание 4\n",
    "\n",
    "Добавить таблицу \"lessons\", установить какая группа в какие дни занималась\n",
    "\n",
    "Изменить таблицу \"marks\", связав ее с датой проведения занятия"
   ]
  },
  {
   "cell_type": "code",
   "execution_count": null,
   "metadata": {},
   "outputs": [],
   "source": [
    "# Ваш код здесь\n"
   ]
  },
  {
   "cell_type": "markdown",
   "metadata": {
    "tags": []
   },
   "source": [
    "## Задание 5\n",
    "\n",
    "Построить график успеваемости для каждой группы для заданного предмета за заданный период времени"
   ]
  },
  {
   "cell_type": "code",
   "execution_count": null,
   "metadata": {},
   "outputs": [],
   "source": [
    "# Ваш код здесь\n"
   ]
  },
  {
   "cell_type": "markdown",
   "metadata": {},
   "source": [
    "## Задание 6\n",
    "\n",
    "Найти преподавателя с наименьшим средним баллом по его предметам"
   ]
  },
  {
   "cell_type": "code",
   "execution_count": null,
   "metadata": {},
   "outputs": [],
   "source": [
    "# Ваш код здесь\n"
   ]
  },
  {
   "cell_type": "markdown",
   "metadata": {},
   "source": [
    "# Домашняя работа\n",
    "\n",
    "Нужно придумать небольшую базу данных и написать к ней запросы.\n",
    "\n",
    "В базе должно быть минимум 4 таблицы и хотя бы две связи вида one-to-many или many-to-many. Можно решить как при помощи pandas, так и при помощи SQL.\n",
    "\n",
    "Запросы должны быть осмысленными и должны решать какую-то задачу.\n",
    "\n",
    "## Easy\n",
    "\n",
    "Выгрузить данные и отфильтровать их по какому-то значению.\n",
    "\n",
    "Пример запроса с БД, приведенной выше: вывести учителей старше 30 лет.\n",
    "\n",
    "## Normal\n",
    "\n",
    "Написать запрос на объединение двух или более таблиц, также в запросе должна быть фильтрация\n",
    "\n",
    "Пример запроса с БД, приведенной выше: найти имя учителя моложе 30 лет, который ведет математику\n",
    "\n",
    "## Hard\n",
    "\n",
    "Написать запрос, который посчитает какую-то сложную аналитику по БД, используя как можно больше таблиц. Построить графики и сделать выводы.\n",
    "\n",
    "Пример запроса с БД, приведеной выше: задание 5."
   ]
  },
  {
   "cell_type": "markdown",
   "metadata": {},
   "source": [
    "# Полезные ссылки\n",
    "\n",
    "- [SQLAlchemy](https://www.sqlalchemy.org/)\n",
    "- [Нормальные формы](https://habr.com/ru/post/254773/)\n",
    "- [SQLite DB Browser](https://sqlitebrowser.org/) - чтобы просматривать базу данных\n",
    "- [vscode-database](https://marketplace.visualstudio.com/items?itemName=bajdzis.vscode-database) - расширение для VS Code для просмотра баз данных"
   ]
  }
 ],
 "metadata": {
  "interpreter": {
   "hash": "3c60d125f86ecb331b65a8423cf0cca4676faa8812a500d14a58b02fbd427a36"
  },
  "kernelspec": {
   "display_name": "Python 3 (ipykernel)",
   "language": "python",
   "name": "python3"
  },
  "language_info": {
   "codemirror_mode": {
    "name": "ipython",
    "version": 3
   },
   "file_extension": ".py",
   "mimetype": "text/x-python",
   "name": "python",
   "nbconvert_exporter": "python",
   "pygments_lexer": "ipython3",
   "version": "3.9.7"
  }
 },
 "nbformat": 4,
 "nbformat_minor": 4
}
